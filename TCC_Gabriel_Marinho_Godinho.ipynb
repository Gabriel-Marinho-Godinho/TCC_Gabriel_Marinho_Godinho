{
  "cells": [
    {
      "cell_type": "markdown",
      "metadata": {
        "id": "view-in-github",
        "colab_type": "text"
      },
      "source": [
        "<a href=\"https://colab.research.google.com/github/Gabriel-Marinho-Godinho/TCC_Gabriel_Marinho_Godinho/blob/main/TCC_Gabriel_Marinho_Godinho.ipynb\" target=\"_parent\"><img src=\"https://colab.research.google.com/assets/colab-badge.svg\" alt=\"Open In Colab\"/></a>"
      ]
    },
    {
      "cell_type": "markdown",
      "source": [
        "---\n",
        "# Análise Exploratória das Tarifas Aéreas praticadas no Brasil (2019 a 2022)\n",
        "---"
      ],
      "metadata": {
        "id": "IyvbQKbmHuVL"
      }
    },
    {
      "cell_type": "markdown",
      "source": [
        "### ANAC - Estatísticas - Organização e Tratamento dos Dados\n",
        "\n",
        "\n",
        "Versão 30/11/2023 ✈"
      ],
      "metadata": {
        "id": "8QAsCkr4Nksl"
      }
    },
    {
      "cell_type": "markdown",
      "source": [
        "## Introdução"
      ],
      "metadata": {
        "id": "oS86FoObJncB"
      }
    },
    {
      "cell_type": "markdown",
      "source": [
        "\n",
        "Este notebook consolida o trabalho de **organização** e **tratamento** dos dados coletados nas bases da ANAC, no intervalo entre os anos de 2019 e 2022. Inicialmente, foi necessário estudar os bancos de dados para extrair os dados desejados para a nossa pesquisa e fazer as devidas correlações entre eles. Além disso, alguns dados serviram como insumo inicial para o cálculo de outras variáveis, como será apresentado a seguir no *notebook*.\n",
        "\n",
        "Os bancos de dados que originalmente serão organizados e tratados neste notebook são:\n",
        "* Estatísticas Básicas e Combinadas (2019 - 2022)\n",
        "  \n",
        "  * **Fonte**: AGÊNCIA NACIONAL DE AVIAÇÃO CIVIL - ANAC. Microdados. Disponível em: <https://www.gov.br/anac/pt-br/assuntos/regulados/empresas-aereas/Instrucoes-para-a-elaboracao-e-apresentacao-das-demonstracoes-contabeis/envio-de-informacoes/microdados>. Acesso em: 25 nov. 2023.\n",
        "\n",
        "* Lista de Aeródromos Públicos V2\n",
        "\n",
        "  * **Fonte**: AGÊNCIA NACIONAL DE AVIAÇÃO CIVIL - ANAC. Metadados do conjunto de dados: Lista de aeródromos públicos V2. Disponível em: <https://www.anac.gov.br/acesso-a-informacao/dados-abertos/areas-de-atuacao/aerodromos/lista-de-aerodromos-publicos-v2/70-lista-de-aerodromos-publicos-v2>. Acesso em: 25 nov. 2023"
      ],
      "metadata": {
        "id": "MioKnxCZNPHJ"
      }
    },
    {
      "cell_type": "markdown",
      "source": [
        "---\n",
        "## **Objetivo Geral da Pesquisa**\n",
        "**O objetivo deste trabalho é analisar e compreender as variáveis apresentadas pelo banco de dados da ANAC que influenciaram as tarifas dos voos tradicionais entre 2019 e 2022, e correlacionar essas percepções aos serviços de transporte por eVTOL no modelo de Malha Regional Aérea (RAM) brasileira.**\n",
        "\n",
        "---"
      ],
      "metadata": {
        "id": "Ki6PJo9mM8Ye"
      }
    },
    {
      "cell_type": "markdown",
      "metadata": {
        "id": "T44ZXsXDUgOx"
      },
      "source": [
        "## Inicialização - Instalação de Pacotes Python"
      ]
    },
    {
      "cell_type": "code",
      "execution_count": null,
      "metadata": {
        "id": "CE5eTZIxUgOy"
      },
      "outputs": [],
      "source": [
        "import pandas as pd\n",
        "import numpy as np"
      ]
    },
    {
      "cell_type": "code",
      "source": [
        "import matplotlib.pyplot as plt\n",
        "import seaborn as sns\n",
        "import scipy"
      ],
      "metadata": {
        "id": "vLdYORbHdSwN"
      },
      "execution_count": null,
      "outputs": []
    },
    {
      "cell_type": "code",
      "execution_count": null,
      "metadata": {
        "id": "ThQ_KcFZTLys"
      },
      "outputs": [],
      "source": [
        "from google.colab import drive\n",
        "drive.mount('/gdrive')"
      ]
    },
    {
      "cell_type": "code",
      "execution_count": null,
      "metadata": {
        "id": "QtKOaC-sTcPM"
      },
      "outputs": [],
      "source": [
        "%cd /gdrive/MyDrive/Colab Notebooks/ANAC"
      ]
    },
    {
      "cell_type": "markdown",
      "metadata": {
        "id": "sHYtuslLUgOy"
      },
      "source": [
        "## **Passo 1** - Inicialização - Aeródromos e Distâncias entre Aeroportos\n",
        "\n",
        "**Descrição:** leitura, organização e transformação dos arquivos de aeródromos da ANAC e criação do arquivo de distâncias, originado do cálculo das distâncias entre as combinações dos aeroportos de origem e destino.\n"
      ]
    },
    {
      "cell_type": "markdown",
      "source": [
        "### Etapa I. Acessando 'Lista de Aeródromos Públicos V2\n",
        "\n",
        "Construção inicial do arquivo salvo em ./Dados/Aerodromos/aeroportos2.csv\n",
        "\n",
        "**Descrição:** Nesta etapa foi realizada a leitura do arquivo da ANAC, organização e transformação do arquivo, excluindo as variáveis que não são de interesse para a pesquisa."
      ],
      "metadata": {
        "id": "ZbOKHHRlpX3k"
      }
    },
    {
      "cell_type": "code",
      "execution_count": null,
      "metadata": {
        "id": "NzYSKfouUgOz"
      },
      "outputs": [],
      "source": [
        "# Leitura do arquivo:\n",
        "aeroportos = pd.read_csv('./Dados/Aerodromos/AerodromosPublicos.csv',\n",
        "                        encoding='cp1252', delimiter = ';',skiprows=1)"
      ]
    },
    {
      "cell_type": "code",
      "execution_count": null,
      "metadata": {
        "id": "e54tz2jRUgOz"
      },
      "outputs": [],
      "source": [
        "# Tamanho do arquivo:\n",
        "aeroportos.shape"
      ]
    },
    {
      "cell_type": "code",
      "execution_count": null,
      "metadata": {
        "id": "qHL8yZQzUgO0"
      },
      "outputs": [],
      "source": [
        "# Visualização do arquivo:\n",
        "aeroportos.head()"
      ]
    },
    {
      "cell_type": "code",
      "execution_count": null,
      "metadata": {
        "id": "ir1lqL2aUgO1"
      },
      "outputs": [],
      "source": [
        "# Variáveis do arquivo:\n",
        "aeroportos.columns"
      ]
    },
    {
      "cell_type": "code",
      "execution_count": null,
      "metadata": {
        "id": "VbMhIl8AUgO1"
      },
      "outputs": [],
      "source": [
        "# Exclusão das variáveis que não são de interesse para a pesquisa:\n",
        "aer_coord = aeroportos.drop(columns=['CIAD', 'Nome', 'Município', 'UF',\n",
        "      'Latitude', 'Longitude','Altitude', 'Operação Diurna',\n",
        "      'Operação Noturna', 'Designação 1','Comprimento 1', 'Largura 1',\n",
        "      'Resistência 1', 'Superfície 1','Designação 2', 'Comprimento 2',\n",
        "      'Largura 2', 'Resistência 2','Superfície 2', 'Situação',\n",
        "      'Validade do Registro','Portaria de Registro', 'Link Portaria'])"
      ]
    },
    {
      "cell_type": "code",
      "execution_count": null,
      "metadata": {
        "id": "1kqI61TeUgO1"
      },
      "outputs": [],
      "source": [
        "# Renomeando as variáveis do arquivo:\n",
        "aer_coord.columns = ['OACI','Municipio','UF','Lat','Long']"
      ]
    },
    {
      "cell_type": "code",
      "execution_count": null,
      "metadata": {
        "id": "A1qLL5HkUgO1"
      },
      "outputs": [],
      "source": [
        "# Eliminando os dados vazios (NA):\n",
        "aer_coord = aer_coord.dropna()"
      ]
    },
    {
      "cell_type": "code",
      "execution_count": null,
      "metadata": {
        "id": "UJf74S-aUgO2"
      },
      "outputs": [],
      "source": [
        "# Salvando o arquivo \"aeroportos2.csv\":\n",
        "aer_coord.to_csv('./Dados/Aerodromos/aeroportos2.csv',index=False)"
      ]
    },
    {
      "cell_type": "markdown",
      "metadata": {
        "id": "FdH6k5PsUgO2"
      },
      "source": [
        "### Etapa II. Definindo a Função para o Cálculo da Distância entre Aeródromos\n",
        "**Descrição:** Esta etapa foi realizada com base no projeto 'airportsdata20231017', que faz o levantamento da latitude e longitude para um conjunto de aeroportos. Através da latitude e longitude de um aeroporto de origem para um aeroporto de destino, foi possível calacular a distância entre eles.\n",
        "\n",
        "**Fonte:** BORSETTI, M. Airportsdata 20231017. 2022. Disponível em: <https://pypi.org/project/airportsdata/>. Acesso em: 26 nov. 2023."
      ]
    },
    {
      "cell_type": "code",
      "execution_count": null,
      "metadata": {
        "id": "8Nf6mgX3UgO2"
      },
      "outputs": [],
      "source": [
        "# Instalando Airportsdata:\n",
        "%pip install -U airportsdata"
      ]
    },
    {
      "cell_type": "code",
      "execution_count": null,
      "metadata": {
        "id": "vSaO0U9KUgO3"
      },
      "outputs": [],
      "source": [
        "import airportsdata"
      ]
    },
    {
      "cell_type": "code",
      "execution_count": null,
      "metadata": {
        "id": "HwSvjLeFUgO3"
      },
      "outputs": [],
      "source": [
        "# Buscando por código ICAO:\n",
        "airports = airportsdata.load()  # key is ICAO code (default)\n",
        "print(airports['SBBV'])"
      ]
    },
    {
      "cell_type": "code",
      "execution_count": null,
      "metadata": {
        "id": "niLGQ-FOUgO3"
      },
      "outputs": [],
      "source": [
        "#Buscando por código IATA\n",
        "airports = airportsdata.load('IATA')  # key is IATA code, not the default\n",
        "print(airports['BSB'])"
      ]
    },
    {
      "cell_type": "code",
      "execution_count": null,
      "metadata": {
        "id": "BRdOgg1ZUgO3"
      },
      "outputs": [],
      "source": [
        "# Função para calcular distância de grande círculo entre aeroportos:\n",
        "  # Observação: Distância de grande círculo é a menor distância entre dois pontos em uma esfera, medida ao longo da superfície da esfera.\n",
        "\n",
        "import math\n",
        "\n",
        "def distance_on_unit_sphere(lat1, long1, lat2, long2):\n",
        "\n",
        "    # Converta a latitude e a longitude em coordenadas esféricas em radianos:\n",
        "    degrees_to_radians = math.pi/180.0\n",
        "\n",
        "    # phi = 90 - latitude:\n",
        "    phi1 = (90.0 - lat1)*degrees_to_radians\n",
        "    phi2 = (90.0 - lat2)*degrees_to_radians\n",
        "\n",
        "    # theta = longitude:\n",
        "    theta1 = long1*degrees_to_radians\n",
        "    theta2 = long2*degrees_to_radians\n",
        "\n",
        "    # Calcular a distância esférica a partir de coordenadas esféricas\n",
        "\n",
        "    # Para dois locais em coordenadas esféricas\n",
        "    # (1, theta, phi) and (1, theta, phi)\n",
        "    # cosine( arc length ) =\n",
        "    #    sin phi sin phi' cos(theta-theta') + cos phi cos phi'\n",
        "    # distance = rho * arc length\n",
        "\n",
        "    cos = (math.sin(phi1)*math.sin(phi2)*math.cos(theta1 - theta2) +\n",
        "           math.cos(phi1)*math.cos(phi2))\n",
        "    arc = math.acos( cos )\n",
        "\n",
        "    # Multiplique o arco pelo raio da Terra em seu conjunto de unidades desejado (nesse caso, KM) para obter o comprimento.\n",
        "    arc = arc * 6378.14 #raio da Terra em Quilômetros\n",
        "\n",
        "    return arc"
      ]
    },
    {
      "cell_type": "markdown",
      "metadata": {
        "id": "JNMuPnTnWc4k"
      },
      "source": [
        "### Etapa III. Criando arquivo com distância entre aeroportos\n",
        "\n",
        "Construção inicial do arquivo salvo em ./Dados/Tarifas/distancias.csv\n",
        "\n",
        "**Descrição:** Esta etapa foi realizada para criar o arquivo de distâncias entre os aeroportos de origem e destino. Para isso, foram feitas todas as combinações possíveis entre aeropotos de origem e destino e, com base na latitude e longitude de cada um, foi aplicada a função *distance_on_unit_sphere* para calcular a distância entre eles (KM)."
      ]
    },
    {
      "cell_type": "code",
      "execution_count": null,
      "metadata": {
        "id": "d6vQjC4oWiEn"
      },
      "outputs": [],
      "source": [
        "# Leitura do arquivo:\n",
        "aerodromo = pd.read_csv('./Dados/Aerodromos/aeroportos2.csv')"
      ]
    },
    {
      "cell_type": "code",
      "execution_count": null,
      "metadata": {
        "id": "myuj_2_WWw9V"
      },
      "outputs": [],
      "source": [
        "# Visualização do arquivo:\n",
        "aerodromo.head()"
      ]
    },
    {
      "cell_type": "code",
      "execution_count": null,
      "metadata": {
        "id": "qq1hEkDCW_0D"
      },
      "outputs": [],
      "source": [
        "# Criando uma lista com os dados da variável OACI (códigos dos aeroportos):\n",
        "aerod = aerodromo.OACI.tolist()"
      ]
    },
    {
      "cell_type": "code",
      "execution_count": null,
      "metadata": {
        "id": "mrx_yxHKXDi8"
      },
      "outputs": [],
      "source": [
        "# 1. Criando as combinações possíveis de aeroportos (OACIs) de origem e destino e aplicando a função 'distance_on_unit_sphere'para as suas respectivas latitudes e longitudes de origem e destino.\n",
        "# 2. Append de 'i' na lista orig_aer, de 'j' na lista dest_aer e de 'distancia' na lista dist_aer:\n",
        "orig_aer = []\n",
        "dest_aer = []\n",
        "dist_aer = []\n",
        "for i in aerod:\n",
        "  for j in aerod:\n",
        "    if i != j:\n",
        "      o = aerodromo[aerodromo.OACI == i]\n",
        "      d = aerodromo[aerodromo.OACI == j]\n",
        "      lat1 = o['Lat'].values[0]\n",
        "      lon1 = o['Long'].values[0]\n",
        "      lat2 = d['Lat'].values[0]\n",
        "      lon2 = d['Long'].values[0]\n",
        "      distancia = distance_on_unit_sphere(lat1, lon1, lat2, lon2)\n",
        "    else:\n",
        "      distancia = 0.0\n",
        "    orig_aer.append(i)\n",
        "    dest_aer.append(j)\n",
        "    dist_aer.append(distancia)"
      ]
    },
    {
      "cell_type": "code",
      "execution_count": null,
      "metadata": {
        "id": "ErT0t3xpb17E"
      },
      "outputs": [],
      "source": [
        "# Criando o dataframe distancias:\n",
        "orig_series = pd.Series(orig_aer)\n",
        "dest_series = pd.Series(dest_aer)\n",
        "dist_series = pd.Series(dist_aer)\n",
        "frame2 = {'orig': orig_series,\n",
        "          'dest': dest_series,\n",
        "          'dist': dist_series}\n",
        "distancias = pd.DataFrame(frame2)"
      ]
    },
    {
      "cell_type": "code",
      "execution_count": null,
      "metadata": {
        "id": "gFIOlFS_b4bu"
      },
      "outputs": [],
      "source": [
        "# Visualizando o dataframe distancias:\n",
        "distancias.head()"
      ]
    },
    {
      "cell_type": "code",
      "execution_count": null,
      "metadata": {
        "id": "9MxOlqMkhEgz"
      },
      "outputs": [],
      "source": [
        "# Salvando o arquivo \"distancias.csv\":\n",
        "distancias.to_csv('./Dados/Tarifas/distancias.csv',index=False)"
      ]
    },
    {
      "cell_type": "markdown",
      "metadata": {
        "id": "9djKwwDWUgO4"
      },
      "source": [
        "### Etapa IV. Leitura do arquivo \"distancias.csv\" e transformação inicial para float\n",
        "\n",
        "Salvo em ./Dados/Tarifas/distancias2.csv\n",
        "\n",
        "**Descrição:** Esta etapa foi realizada para transformar o tipo do dado da variável distância de *string* para *float*."
      ]
    },
    {
      "cell_type": "code",
      "execution_count": null,
      "metadata": {
        "id": "b-0o_eQAUgO4"
      },
      "outputs": [],
      "source": [
        "# Leitura do arquivo:\n",
        "dados_distancias = pd.read_csv('./Dados/Tarifas/distancias.csv')"
      ]
    },
    {
      "cell_type": "code",
      "execution_count": null,
      "metadata": {
        "id": "XwaRDsHYUgO5"
      },
      "outputs": [],
      "source": [
        "# Visualização do arquivo:\n",
        "dados_distancias.head()"
      ]
    },
    {
      "cell_type": "code",
      "execution_count": null,
      "metadata": {
        "id": "5tzqoAn0UgO5"
      },
      "outputs": [],
      "source": [
        "# Substituindo ',' por '.':\n",
        "dados_distancias.dist = dados_distancias.dist.str.replace(',','.')"
      ]
    },
    {
      "cell_type": "code",
      "execution_count": null,
      "metadata": {
        "id": "AIdYfwhKUgO5"
      },
      "outputs": [],
      "source": [
        "# Transformando tipo de dado para 'float' (número real):\n",
        "dados_distancias.dist = dados_distancias.dist.astype(float)"
      ]
    },
    {
      "cell_type": "code",
      "execution_count": null,
      "metadata": {
        "id": "6ocr7a84UgO5"
      },
      "outputs": [],
      "source": [
        "# Salvando o arquivo \"distancias2.csv\":\n",
        "dados_distancias.to_csv('./Dados/Aerodromos/distancias2.csv',index=False)"
      ]
    },
    {
      "cell_type": "markdown",
      "metadata": {
        "id": "lH76ktbYUgO4"
      },
      "source": [
        "## **Passo 2** - Tarifas - Transformação de Dados\n",
        "\n",
        "**Descrição:** leitura, organização e transformação dos arquivos de tarifas disponibilizados pela ANAC, entre 2019 e 2022.\n",
        "\n",
        "**Descrição das Variáveis:** ANAC. Microdados de tarifas aéreas comercializadas. Disponível em: <https://www.gov.br/anac/pt-br/assuntos/dados-e-estatisticas/microdados-de-tarifas-aereas-comercializadas>. Acesso em: 26 nov. 2023.\n",
        "\n",
        "**Atenção:** os arquivos baixados são .CSV, mas no formato Microsoft Excel, *comma separated values*, portanto, não tem o encoding utf-8. Além disso, o Excel em português salva o CSV separado com ponto e vírgula (';')."
      ]
    },
    {
      "cell_type": "markdown",
      "source": [
        "### Etapa I. Tarifas - Transformação de Dados 2019"
      ],
      "metadata": {
        "id": "dyrEhy1f8ZWr"
      }
    },
    {
      "cell_type": "markdown",
      "metadata": {
        "id": "-7BU4T32w1nl"
      },
      "source": [
        "#### Etapa I.I. Leitura e agrupamento de arquivos de Tarifas 2019\n",
        "\n",
        "Salvo em ./Dados/Tarifas/tarifas_2019.csv\n",
        "\n",
        "**Descrição:** Nesta etapa foi realizada a leitura e agrupamento dos arquivos de tarifas disponibilizados pela ANAC para 2019."
      ]
    },
    {
      "cell_type": "code",
      "execution_count": null,
      "metadata": {
        "id": "rCkhqZIMw1nm"
      },
      "outputs": [],
      "source": [
        "# Leitura do arquivo:\n",
        "files = ['201901.CSV', '201902.CSV','201903.CSV','201904.CSV',\n",
        "         '201905.CSV','201906.CSV','201907.CSV','201908.CSV',\n",
        "         '201909.CSV','201910.CSV','201911.CSV','201912.CSV']"
      ]
    },
    {
      "cell_type": "code",
      "execution_count": null,
      "metadata": {
        "id": "PmDL0qpkw1nm"
      },
      "outputs": [],
      "source": [
        "# Estruturando o dataframe:\n",
        "df = pd.DataFrame(columns=['ANO','MES','EMPRESA','ORIGEM',\n",
        "                           'DESTINO','TARIFA','ASSENTOS'])"
      ]
    },
    {
      "cell_type": "code",
      "execution_count": null,
      "metadata": {
        "id": "Xx0fEi97w1nm"
      },
      "outputs": [],
      "source": [
        "# Agrupando os arquivos no dataframe estruturado:\n",
        "for file in files:\n",
        "    data = pd.read_csv(f'./Dados/Tarifas/Tarifas_2019/{file}',\n",
        "                       encoding='cp1252', delimiter = ';')\n",
        "    data.columns = ['ANO','MES','EMPRESA','ORIGEM',\n",
        "                    'DESTINO','TARIFA','ASSENTOS']\n",
        "    df = pd.concat([df, data], axis=0,ignore_index=True)"
      ]
    },
    {
      "cell_type": "code",
      "execution_count": null,
      "metadata": {
        "id": "RCxS5V4uw1nm"
      },
      "outputs": [],
      "source": [
        "# Visualização do dataframe:\n",
        "df.head()"
      ]
    },
    {
      "cell_type": "code",
      "execution_count": null,
      "metadata": {
        "id": "-TUxev8Ww1nm"
      },
      "outputs": [],
      "source": [
        "# Salvando o arquivo \"tarifas_2019.csv\":\n",
        "df.to_csv('./Dados/Tarifas/tarifas_2019.csv', index=False)"
      ]
    },
    {
      "cell_type": "markdown",
      "metadata": {
        "id": "ciaHF4VHxj2a"
      },
      "source": [
        "#### Etapa I.II. Obtenção das Tarifas em 2019 e transformação inicial\n",
        "\n",
        "Salvos em ./Dados/Tarifas/tarifas9.csv\n",
        "\n",
        "**Descrição:** Nesta etapa foi realizada a transformação dos dados do arquivo tarifas_2019, o adequando para - posteriormente - ser analisado."
      ]
    },
    {
      "cell_type": "code",
      "execution_count": null,
      "metadata": {
        "id": "emexiuChxj2a"
      },
      "outputs": [],
      "source": [
        "# Leitura do arquivo:\n",
        "dados_tarifas = pd.read_csv('./Dados/Tarifas/tarifas_2019.csv')"
      ]
    },
    {
      "cell_type": "code",
      "execution_count": null,
      "metadata": {
        "id": "Bw4lwzOJxj2a"
      },
      "outputs": [],
      "source": [
        "# Tamanho do arquivo:\n",
        "dados_tarifas.shape"
      ]
    },
    {
      "cell_type": "code",
      "execution_count": null,
      "metadata": {
        "id": "NYGw4kxNxj2a"
      },
      "outputs": [],
      "source": [
        "# Visualização do arquivo:\n",
        "dados_tarifas.head()"
      ]
    },
    {
      "cell_type": "code",
      "execution_count": null,
      "metadata": {
        "id": "MnNRxqHYxj2a"
      },
      "outputs": [],
      "source": [
        "# Padronização dos dados respecivos à variável MES:\n",
        "dados_tarifas.MES.unique()"
      ]
    },
    {
      "cell_type": "code",
      "execution_count": null,
      "metadata": {
        "id": "QCzRIoioxj2b"
      },
      "outputs": [],
      "source": [
        "# Substituindo ',' por '.' na variável TARIFA:\n",
        "dados_tarifas.TARIFA = dados_tarifas.TARIFA.str.replace(',','.')"
      ]
    },
    {
      "cell_type": "code",
      "execution_count": null,
      "metadata": {
        "id": "pePZxtTbxj2b"
      },
      "outputs": [],
      "source": [
        "# Alterando o tipo de dado da variável TARIFA para float:\n",
        "dados_tarifas.TARIFA = dados_tarifas.TARIFA.astype(float)"
      ]
    },
    {
      "cell_type": "code",
      "execution_count": null,
      "metadata": {
        "id": "__lTiSCsxj2b"
      },
      "outputs": [],
      "source": [
        "# Salvando o arquivo \"tarifas9.csv\":\n",
        "dados_tarifas.to_csv('./Dados/Tarifas/tarifas9.csv',index=False)"
      ]
    },
    {
      "cell_type": "markdown",
      "source": [
        "### Etapa II. Tarifas - Transformação de Dados 2020"
      ],
      "metadata": {
        "id": "JSvUioAB8jIj"
      }
    },
    {
      "cell_type": "markdown",
      "metadata": {
        "id": "KolvV6XavYWN"
      },
      "source": [
        "#### Etapa II.I. Leitura e agrupamento de arquivos de Tarifas 2020\n",
        "\n",
        "Salvo em ./Dados/Tarifas/tarifas_2020.csv\n",
        "\n",
        "**Descrição:** Nesta etapa foi realizada a leitura e agrupamento dos arquivos de tarifas disponibilizados pela ANAC para 2020."
      ]
    },
    {
      "cell_type": "code",
      "execution_count": null,
      "metadata": {
        "id": "RY0p2IWQvYWO"
      },
      "outputs": [],
      "source": [
        "# Leitura do arquivo:\n",
        "files = ['202001.CSV', '202002.CSV','202003.CSV','202004.CSV',\n",
        "         '202005.CSV','202006.CSV','202007.CSV','202008.CSV',\n",
        "         '202009.CSV','202010.CSV','202011.CSV','202012.CSV']"
      ]
    },
    {
      "cell_type": "code",
      "execution_count": null,
      "metadata": {
        "id": "EMAuuhORvYWO"
      },
      "outputs": [],
      "source": [
        "# Estruturando o dataframe:\n",
        "df = pd.DataFrame(columns=['ANO','MES','EMPRESA','ORIGEM',\n",
        "                           'DESTINO','TARIFA','ASSENTOS'])"
      ]
    },
    {
      "cell_type": "code",
      "execution_count": null,
      "metadata": {
        "id": "MJ6W7vD1vYWO"
      },
      "outputs": [],
      "source": [
        "# Agrupando os arquivos no dataframe estruturado:\n",
        "for file in files:\n",
        "    data = pd.read_csv(f'./Dados/Tarifas/Tarifas_2020/{file}',\n",
        "                       encoding='cp1252', delimiter = ';')\n",
        "    data.columns = ['ANO','MES','EMPRESA','ORIGEM',\n",
        "                    'DESTINO','TARIFA','ASSENTOS']\n",
        "    df = pd.concat([df, data], axis=0,ignore_index=True)"
      ]
    },
    {
      "cell_type": "code",
      "execution_count": null,
      "metadata": {
        "id": "8bmeNugzvYWO"
      },
      "outputs": [],
      "source": [
        "# Visualização do dataframe:\n",
        "df.head()"
      ]
    },
    {
      "cell_type": "code",
      "execution_count": null,
      "metadata": {
        "id": "y4N6dEwKvYWO"
      },
      "outputs": [],
      "source": [
        "# Salvando o arquivo \"tarifas_2020.csv\":\n",
        "df.to_csv('./Dados/Tarifas/tarifas_2020.csv', index=False)"
      ]
    },
    {
      "cell_type": "markdown",
      "metadata": {
        "id": "5tNk1luZwD7F"
      },
      "source": [
        "#### Etapa II.II. Obtenção das Tarifas em 2020 e transformação inicial\n",
        "\n",
        "Salvos em ./Dados/Tarifas/tarifas0.csv\n",
        "\n",
        "**Descrição:** Nesta etapa foi realizada a transformação dos dados do arquivo tarifas_2020, o adequando para - posteriormente - ser analisado."
      ]
    },
    {
      "cell_type": "code",
      "execution_count": null,
      "metadata": {
        "id": "8_f1vf75wD7F"
      },
      "outputs": [],
      "source": [
        "# Leitura do arquivo:\n",
        "dados_tarifas = pd.read_csv('./Dados/Tarifas/tarifas_2020.csv')"
      ]
    },
    {
      "cell_type": "code",
      "execution_count": null,
      "metadata": {
        "id": "t-2Groz0wD7F"
      },
      "outputs": [],
      "source": [
        "# Tamanho do arquivo:\n",
        "dados_tarifas.shape"
      ]
    },
    {
      "cell_type": "code",
      "execution_count": null,
      "metadata": {
        "id": "KY09iVepwD7G"
      },
      "outputs": [],
      "source": [
        "# Visualização do arquivo:\n",
        "dados_tarifas.head()"
      ]
    },
    {
      "cell_type": "code",
      "execution_count": null,
      "metadata": {
        "id": "f8KEVDxywD7G"
      },
      "outputs": [],
      "source": [
        "# Padronização dos dados respecivos à variável MES:\n",
        "dados_tarifas.MES.unique()"
      ]
    },
    {
      "cell_type": "code",
      "execution_count": null,
      "metadata": {
        "id": "d7-oY6m7wD7G"
      },
      "outputs": [],
      "source": [
        "# Substituindo ',' por '.' na variável TARIFA:\n",
        "dados_tarifas.TARIFA = dados_tarifas.TARIFA.str.replace(',','.')"
      ]
    },
    {
      "cell_type": "code",
      "execution_count": null,
      "metadata": {
        "id": "r-Mk4f9KwD7G"
      },
      "outputs": [],
      "source": [
        "# Alterando o tipo de dado da variável TARIFA para float:\n",
        "dados_tarifas.TARIFA = dados_tarifas.TARIFA.astype(float)"
      ]
    },
    {
      "cell_type": "code",
      "execution_count": null,
      "metadata": {
        "id": "4QfCpd1fwD7G"
      },
      "outputs": [],
      "source": [
        "# Salvando o arquivo \"tarifas0.csv\":\n",
        "dados_tarifas.to_csv('./Dados/Tarifas/tarifas0.csv',index=False)"
      ]
    },
    {
      "cell_type": "markdown",
      "source": [
        "### Etapa III. Tarifas - Transformação de Dados 2021"
      ],
      "metadata": {
        "id": "-dHzoIAr8pT6"
      }
    },
    {
      "cell_type": "markdown",
      "metadata": {
        "id": "OA8r9nk2rQrp"
      },
      "source": [
        "#### Etapa III.I. Leitura e agrupamento de arquivos de Tarifas 2021\n",
        "\n",
        "Salvo em ./Dados/Tarifas/tarifas_2021.csv\n",
        "\n",
        "**Descrição:** Nesta etapa foi realizada a leitura e agrupamento dos arquivos de tarifas disponibilizados pela ANAC para 2021."
      ]
    },
    {
      "cell_type": "code",
      "execution_count": null,
      "metadata": {
        "id": "TITwLJDPrQrq"
      },
      "outputs": [],
      "source": [
        "# Leitura do arquivo:\n",
        "files = ['202101.CSV', '202102.CSV','202103.CSV','202104.CSV',\n",
        "         '202105.CSV','202106.CSV','202107.CSV','202108.CSV',\n",
        "         '202109.CSV','202110.CSV','202111.CSV','202112.CSV']"
      ]
    },
    {
      "cell_type": "code",
      "execution_count": null,
      "metadata": {
        "id": "Gs9OJZHgrQrq"
      },
      "outputs": [],
      "source": [
        "# Estruturando o dataframe:\n",
        "df = pd.DataFrame(columns=['ANO','MES','EMPRESA','ORIGEM',\n",
        "                           'DESTINO','TARIFA','ASSENTOS'])"
      ]
    },
    {
      "cell_type": "code",
      "execution_count": null,
      "metadata": {
        "id": "6ejeTT2hrQrq"
      },
      "outputs": [],
      "source": [
        "# Agrupando os arquivos no dataframe estruturado:\n",
        "for file in files:\n",
        "    data = pd.read_csv(f'./Dados/Tarifas/Tarifas_2021/{file}',\n",
        "                       encoding='cp1252', delimiter = ';')\n",
        "    if file == '202112.CSV':\n",
        "        data = data.iloc[:,1:]\n",
        "    data.columns = ['ANO','MES','EMPRESA','ORIGEM',\n",
        "                    'DESTINO','TARIFA','ASSENTOS']\n",
        "    df = pd.concat([df, data], axis=0,ignore_index=True)"
      ]
    },
    {
      "cell_type": "code",
      "execution_count": null,
      "metadata": {
        "id": "vlu3xGyArQrq"
      },
      "outputs": [],
      "source": [
        "# Visualização do dataframe:\n",
        "df.head()"
      ]
    },
    {
      "cell_type": "code",
      "execution_count": null,
      "metadata": {
        "id": "MhTm6GIlrQrq"
      },
      "outputs": [],
      "source": [
        "# Salvando o arquivo \"tarifas_2021.csv\":\n",
        "df.to_csv('./Dados/Tarifas/tarifas_2021.csv', index=False)"
      ]
    },
    {
      "cell_type": "markdown",
      "metadata": {
        "id": "iYVKNccCr9Rw"
      },
      "source": [
        "#### Etapa III.II. Obtenção das Tarifas em 2021 e transformação inicial\n",
        "\n",
        "Salvos em ./Dados/Tarifas/tarifas1.csv\n",
        "\n",
        "**Descrição:** Nesta etapa foi realizada a transformação dos dados do arquivo tarifas_2021, o adequando para - posteriormente - ser analisado."
      ]
    },
    {
      "cell_type": "code",
      "execution_count": null,
      "metadata": {
        "id": "OxTPg8jur9R0"
      },
      "outputs": [],
      "source": [
        "# Leitura do arquivo:\n",
        "dados_tarifas = pd.read_csv('./Dados/Tarifas/tarifas_2021.csv')"
      ]
    },
    {
      "cell_type": "code",
      "execution_count": null,
      "metadata": {
        "id": "wZIUUOQCr9R0"
      },
      "outputs": [],
      "source": [
        "# Tamanho do arquivo:\n",
        "dados_tarifas.shape"
      ]
    },
    {
      "cell_type": "code",
      "execution_count": null,
      "metadata": {
        "id": "HC9gL_wqr9R1"
      },
      "outputs": [],
      "source": [
        "# Visualização do arquivo:\n",
        "dados_tarifas.head()"
      ]
    },
    {
      "cell_type": "code",
      "execution_count": null,
      "metadata": {
        "id": "WWSwz2v8r9R1"
      },
      "outputs": [],
      "source": [
        "# Padronização dos dados respecivos à variável MES:\n",
        "dados_tarifas.MES.unique()"
      ]
    },
    {
      "cell_type": "code",
      "execution_count": null,
      "metadata": {
        "id": "aV4QgxfAr9R1"
      },
      "outputs": [],
      "source": [
        "# Substituindo ',' por '.' na variável TARIFA:\n",
        "dados_tarifas.TARIFA = dados_tarifas.TARIFA.str.replace(',','.')"
      ]
    },
    {
      "cell_type": "code",
      "execution_count": null,
      "metadata": {
        "id": "svRqIHB9r9R1"
      },
      "outputs": [],
      "source": [
        "# Alterando o tipo de dado da variável TARIFA para float:\n",
        "dados_tarifas.TARIFA = dados_tarifas.TARIFA.astype(float)"
      ]
    },
    {
      "cell_type": "code",
      "execution_count": null,
      "metadata": {
        "id": "ZIKeRm3tr9R1"
      },
      "outputs": [],
      "source": [
        "# Salvando o arquivo \"tarifas1.csv\":\n",
        "dados_tarifas.to_csv('./Dados/Tarifas/tarifas1.csv',index=False)"
      ]
    },
    {
      "cell_type": "markdown",
      "source": [
        "### Etapa IV. Tarifas - Transformação de Dados 2022"
      ],
      "metadata": {
        "id": "kr-HQxSN8r_0"
      }
    },
    {
      "cell_type": "markdown",
      "metadata": {
        "id": "r0wr7WmMSict"
      },
      "source": [
        "#### Etapa IV.I. Leitura e agrupamento de arquivos de Tarifas 2022\n",
        "\n",
        "Salvo em ./Dados/Tarifas/tarifas_2022.csv\n",
        "\n",
        "**Descrição:** Nesta etapa foi realizada a leitura e agrupamento dos arquivos de tarifas disponibilizados pela ANAC para 2022."
      ]
    },
    {
      "cell_type": "code",
      "execution_count": null,
      "metadata": {
        "id": "3NxGMfvZTuDW"
      },
      "outputs": [],
      "source": [
        "# Leitura do arquivo:\n",
        "files = ['202201.CSV', '202202.CSV','202203.CSV','202204.CSV',\n",
        "         '202205.CSV','202206.CSV','202207.CSV','202208.CSV',\n",
        "         '202209.CSV','202210.CSV','202211.CSV','202212.CSV']"
      ]
    },
    {
      "cell_type": "code",
      "execution_count": null,
      "metadata": {
        "id": "ftwABS_0TxkV"
      },
      "outputs": [],
      "source": [
        "# Estruturando o dataframe:\n",
        "df = pd.DataFrame(columns=['ANO','MES','EMPRESA','ORIGEM',\n",
        "                           'DESTINO','TARIFA','ASSENTOS'])"
      ]
    },
    {
      "cell_type": "code",
      "execution_count": null,
      "metadata": {
        "id": "oFTSUNefT6bM"
      },
      "outputs": [],
      "source": [
        "# Agrupando os arquivos no dataframe estruturado:\n",
        "for file in files:\n",
        "    data = pd.read_csv(f'./Dados/Tarifas/Tarifas_2022/{file}',\n",
        "                       encoding='cp1252', delimiter = ';')\n",
        "    if file == '202204.CSV':\n",
        "        data = data.iloc[:,1:]\n",
        "    data.columns = ['ANO','MES','EMPRESA','ORIGEM',\n",
        "                    'DESTINO','TARIFA','ASSENTOS']\n",
        "    df = pd.concat([df, data], axis=0,ignore_index=True)"
      ]
    },
    {
      "cell_type": "code",
      "execution_count": null,
      "metadata": {
        "id": "BPhQPBN2USdV"
      },
      "outputs": [],
      "source": [
        "# Visualização do dataframe:\n",
        "df.head()"
      ]
    },
    {
      "cell_type": "code",
      "execution_count": null,
      "metadata": {
        "id": "Pv0DQAyXUXP8"
      },
      "outputs": [],
      "source": [
        "# Salvando o arquivo \"tarifas_2022.csv\":\n",
        "df.to_csv('./Dados/Tarifas/tarifas_2022.csv', index=False)"
      ]
    },
    {
      "cell_type": "markdown",
      "metadata": {
        "id": "q7yc07pdUgO5"
      },
      "source": [
        "#### Etapa IV.II. Obtenção das Tarifas em 2022 e transformação inicial\n",
        "\n",
        "Salvos em ./Dados/Tarifas/tarifas2.csv\n",
        "\n",
        "**Descrição:** Nesta etapa foi realizada a transformação dos dados do arquivo tarifas_2022, o adequando para - posteriormente - ser analisado."
      ]
    },
    {
      "cell_type": "code",
      "execution_count": null,
      "metadata": {
        "id": "QPsUaVzlUgO6"
      },
      "outputs": [],
      "source": [
        "# Leitura do arquivo:\n",
        "dados_tarifas = pd.read_csv('./Dados/Tarifas/tarifas_2022.csv')"
      ]
    },
    {
      "cell_type": "code",
      "execution_count": null,
      "metadata": {
        "id": "Xwqlj-_wUgO6"
      },
      "outputs": [],
      "source": [
        "# Tamanho do arquivo:\n",
        "dados_tarifas.shape"
      ]
    },
    {
      "cell_type": "code",
      "execution_count": null,
      "metadata": {
        "id": "yP9eWDIvUgO6"
      },
      "outputs": [],
      "source": [
        "# Visualização do arquivo:\n",
        "dados_tarifas.head()"
      ]
    },
    {
      "cell_type": "code",
      "execution_count": null,
      "metadata": {
        "id": "qXAQIPPlUgO6"
      },
      "outputs": [],
      "source": [
        "# Padronização dos dados respecivos à variável MES:\n",
        "dados_tarifas.MES.unique()"
      ]
    },
    {
      "cell_type": "code",
      "execution_count": null,
      "metadata": {
        "id": "q6XcKGdfUgO6"
      },
      "outputs": [],
      "source": [
        "# Substituindo ',' por '.' na variável TARIFA:\n",
        "dados_tarifas.TARIFA = dados_tarifas.TARIFA.str.replace(',','.')"
      ]
    },
    {
      "cell_type": "code",
      "execution_count": null,
      "metadata": {
        "id": "vcBI8LDKUgO6"
      },
      "outputs": [],
      "source": [
        "# Alterando o tipo de dado da variável TARIFA para float:\n",
        "dados_tarifas.TARIFA = dados_tarifas.TARIFA.astype(float)"
      ]
    },
    {
      "cell_type": "code",
      "execution_count": null,
      "metadata": {
        "id": "GyXQDXaoUgO7"
      },
      "outputs": [],
      "source": [
        "# Salvando o arquivo \"tarifas2.csv\":\n",
        "dados_tarifas.to_csv('./Dados/Tarifas/tarifas2.csv',index=False)"
      ]
    },
    {
      "cell_type": "markdown",
      "metadata": {
        "id": "eFsrNj_hjYfm"
      },
      "source": [
        "## **Passo 3** - Demanda e Oferta - Transformação de Dados\n",
        "\n",
        "**Descrição:** leitura, organização e transformação dos arquivos de estatisticas disponibilizados pela ANAC, respectivos aos voos realizados entre 2019 e 2022.\n",
        "\n",
        "**Descrição das Variáveis:** ANAC. Descrição das variáveis (microdados). Disponível em: <https://www.gov.br/anac/pt-br/assuntos/dados-e-estatisticas/mercado-do-transporte-aereo/demanda-e-oferta/descricao-das-variaveis-microdados>. Acesso em: 26 nov. 2023.\n",
        "\n",
        "**Atenção:** os arquivos baixados são .CSV, mas no formato Microsoft Excel, *comma separated values*, portanto, não tem o encoding utf-8. Além disso, o Excel em português salva o CSV separado com ponto e vírgula (';')."
      ]
    },
    {
      "cell_type": "markdown",
      "metadata": {
        "id": "JjSTRSSXuQ8e"
      },
      "source": [
        "### Etapa I. Demanda e Oferta - Básica\n",
        "\n",
        "**Etapa Básica (flight stage):** As etapas básicas são aquelas realizadas pela aeronave desde a sua decolagem até o próximo pouso, independentemente de onde tenha ocorrido o embarque ou o desembarque do objeto de transporte. Os dados estatísticos das etapas básicas representam o status da aeronave em cada etapa do voo, apresentando a movimentação de cargas e passageiros entre os aeródromos de origem e destino da aeronave. É a operação de uma aeronave entre uma decolagem e o próximo pouso, a ligação entre dois aeródromos.\n",
        "\n",
        "**Fonte:** ANAC. Descrição das variáveis (microdados). Disponível em: <https://www.gov.br/anac/pt-br/assuntos/dados-e-estatisticas/mercado-do-transporte-aereo/demanda-e-oferta/descricao-das-variaveis-microdados>. Acesso em: 26 nov. 2023"
      ]
    },
    {
      "cell_type": "markdown",
      "metadata": {
        "id": "WDXqt6_J6MLD"
      },
      "source": [
        "#### Etapa I.I. Leitura e agrupamento de arquivos de estatísticas básicas 2019\n",
        "\n",
        "Salvo em ./Dados/DemandaeOferta/estatisticas_2019.csv\n",
        "\n",
        "**Descrição:** Nesta etapa foi realizada a leitura e agrupamento dos arquivos de estatisticas disponibilizados pela ANAC para 2019."
      ]
    },
    {
      "cell_type": "code",
      "execution_count": null,
      "metadata": {
        "id": "q3potuOB6MLD"
      },
      "outputs": [],
      "source": [
        "# Leitura do arquivo:\n",
        "files = ['basica2019-01.zip', 'basica2019-02.zip','basica2019-03.zip',\n",
        "         'basica2019-04.zip', 'basica2019-05.zip','basica2019-06.zip',\n",
        "         'basica2019-07.zip', 'basica2019-08.zip','basica2019-09.zip',\n",
        "         'basica2019-10.zip', 'basica2019-11.zip','basica2019-12.zip']"
      ]
    },
    {
      "cell_type": "code",
      "execution_count": null,
      "metadata": {
        "id": "kY6Twlec6MLD"
      },
      "outputs": [],
      "source": [
        "# Criação do dataframe:\n",
        "df = pd.DataFrame()"
      ]
    },
    {
      "cell_type": "code",
      "execution_count": null,
      "metadata": {
        "id": "DICXYBxO6MLD"
      },
      "outputs": [],
      "source": [
        "# Concatenação dos arquivos no dataframe:\n",
        "for file in files:\n",
        "  print(file)\n",
        "  data = pd.read_csv(f'./Dados/DemandaeOferta/2019_basica/{file}',\n",
        "                     encoding='cp1252', delimiter = ';',low_memory=False)\n",
        "  df = pd.concat([df, data], axis=0,ignore_index=True)"
      ]
    },
    {
      "cell_type": "code",
      "execution_count": null,
      "metadata": {
        "id": "iZ2BOniP6MLD"
      },
      "outputs": [],
      "source": [
        "# Visualização do dataframe:\n",
        "df.head()"
      ]
    },
    {
      "cell_type": "code",
      "execution_count": null,
      "metadata": {
        "id": "Iz3hgMn66MLD"
      },
      "outputs": [],
      "source": [
        "# Salvando o arquivo \"estatisticas_2019.csv\":\n",
        "df.to_csv('./Dados/DemandaeOferta/estatisticas_2019.csv', index=False)"
      ]
    },
    {
      "cell_type": "markdown",
      "metadata": {
        "id": "u0AWqHCm6SLN"
      },
      "source": [
        "#### Etapa I.II. Obtenção das estatísticas básicas de Demanda e Oferta em 2019\n",
        "\n",
        "Salvo em /Dados/Estatisticas/estatisticas9.csv\n",
        "\n",
        "**Descrição:** Nesta etapa foi realizada a transformação do arquivo estatisticas_2019."
      ]
    },
    {
      "cell_type": "code",
      "execution_count": null,
      "metadata": {
        "id": "_Rzfhwyp6SLO"
      },
      "outputs": [],
      "source": [
        "# Leitura do arquivo:\n",
        "dados_estatisticas = pd.read_csv('./Dados/DemandaeOferta/estatisticas_2019.csv',\n",
        "                                 low_memory=False)"
      ]
    },
    {
      "cell_type": "code",
      "execution_count": null,
      "metadata": {
        "id": "j4pL9eJb6SLO"
      },
      "outputs": [],
      "source": [
        "# Dimensões do arquivo:\n",
        "dados_estatisticas.shape"
      ]
    },
    {
      "cell_type": "code",
      "execution_count": null,
      "metadata": {
        "id": "tNC9MT0k6SLO"
      },
      "outputs": [],
      "source": [
        "# Padronização da variável mês:\n",
        "dados_estatisticas['nr_mes_referencia'].unique()"
      ]
    },
    {
      "cell_type": "code",
      "source": [
        "dados_estatisticas.columns"
      ],
      "metadata": {
        "id": "03YFK5b5ZgOU"
      },
      "execution_count": null,
      "outputs": []
    },
    {
      "cell_type": "code",
      "execution_count": null,
      "metadata": {
        "id": "9zZI4d1K6SLO"
      },
      "outputs": [],
      "source": [
        "# Filtrando o dataframe com a natureza da etapa de voo = doméstica, serviço referente ao tipo de linha = passageiro e tipo de Voo = regular:\n",
        "dados_estatisticas = dados_estatisticas[\n",
        "    (dados_estatisticas['ds_natureza_etapa'] == 'DOMÉSTICA') & \\\n",
        "    (dados_estatisticas['ds_servico_tipo_linha'] == 'PASSAGEIRO') & \\\n",
        "    (dados_estatisticas['ds_grupo_di'] == 'REGULAR')]\n",
        "# Com isso, excluem-se os dados que não são do interesse da pesquisa."
      ]
    },
    {
      "cell_type": "code",
      "execution_count": null,
      "metadata": {
        "id": "bULYbwMw6SLO"
      },
      "outputs": [],
      "source": [
        "dados_estatisticas.info()"
      ]
    },
    {
      "cell_type": "code",
      "execution_count": null,
      "metadata": {
        "id": "oR-OMtYt6SLO"
      },
      "outputs": [],
      "source": [
        "dados_estatisticas.isna().sum()"
      ]
    },
    {
      "cell_type": "code",
      "execution_count": null,
      "metadata": {
        "id": "U1pv7Qe_6SLO"
      },
      "outputs": [],
      "source": [
        "# Exclusão das variáveis que não são do interesse para a pesquisa:\n",
        "dados_estatisticas = dados_estatisticas.drop(columns=\n",
        "    ['id_basica','id_empresa','sg_empresa_iata','nm_pais','ds_tipo_empresa',\n",
        "     'nr_singular','id_di','cd_di','ds_di','ds_grupo_di','dt_referencia',\n",
        "     'nr_ano_referencia','nr_semestre_referencia','nm_semestre_referencia',\n",
        "     'nr_trimestre_referencia','nm_trimestre_referencia','nr_mes_referencia',\n",
        "     'nm_mes_referencia','nr_semana_referencia','nm_dia_semana_referencia',\n",
        "     'nr_dia_referencia','nr_ano_mes_referencia','id_tipo_linha',\n",
        "     'cd_tipo_linha','ds_tipo_linha','ds_natureza_tipo_linha','ds_servico_tipo_linha',\n",
        "     'ds_natureza_etapa','nr_ano_partida_real','nr_semestre_partida_real',\n",
        "     'nm_semestre_partida_real','nr_trimestre_partida_real','nm_trimestre_partida_real',\n",
        "     'nm_mes_partida_real','nr_ano_mes_partida_real','id_aerodromo_origem',\n",
        "     'nm_aerodromo_origem','nm_municipio_origem','nm_pais_origem','nm_continente_origem',\n",
        "     'nr_ano_chegada_real','nr_semestre_chegada_real','nm_semestre_chegada_real',\n",
        "     'nr_trimestre_chegada_real','nm_trimestre_chegada_real','nm_mes_chegada_real',\n",
        "     'nr_ano_mes_chegada_real','id_aerodromo_destino','nm_aerodromo_destino',\n",
        "     'nm_municipio_destino','nm_regiao_destino','nm_pais_destino','nm_continente_destino',\n",
        "     'nr_escala_destino','id_arquivo','nm_arquivo','nr_linha','dt_sistema']\n",
        ")"
      ]
    },
    {
      "cell_type": "code",
      "execution_count": null,
      "metadata": {
        "id": "W6Ng1sl86SLO"
      },
      "outputs": [],
      "source": [
        "# Dimensão do dataframe:\n",
        "dados_estatisticas.shape"
      ]
    },
    {
      "cell_type": "code",
      "execution_count": null,
      "metadata": {
        "id": "c9fYT_vx6SLP"
      },
      "outputs": [],
      "source": [
        "# Salvando o arquivo \"estatisticas9.csv\":\n",
        "dados_estatisticas.to_csv('./Dados/DemandaeOferta/estatisticas9.csv',\n",
        "                          index=False)"
      ]
    },
    {
      "cell_type": "markdown",
      "metadata": {
        "id": "F9uB8dUY3hY2"
      },
      "source": [
        "#### Etapa I.III. Leitura e agrupamento de arquivos de estatísticas básicas 2020\n",
        "\n",
        "Salvo em ./Dados/DemandaeOferta/estatisticas_2020.csv\n",
        "\n",
        "**Descrição:** Nesta etapa foi realizada a leitura e agrupamento dos arquivos de estatisticas disponibilizados pela ANAC para 2020."
      ]
    },
    {
      "cell_type": "code",
      "execution_count": null,
      "metadata": {
        "id": "mypiT3FY3hY2"
      },
      "outputs": [],
      "source": [
        "# Leitura do arquivo:\n",
        "files = ['basica2020-01.zip', 'basica2020-02.zip','basica2020-03.zip',\n",
        "         'basica2020-04.zip', 'basica2020-05.zip','basica2020-06.zip',\n",
        "         'basica2020-07.zip', 'basica2020-08.zip','basica2020-09.zip',\n",
        "         'basica2020-10.zip', 'basica2020-11.zip','basica2020-12.zip']"
      ]
    },
    {
      "cell_type": "code",
      "execution_count": null,
      "metadata": {
        "id": "PZMR6n1r3hY3"
      },
      "outputs": [],
      "source": [
        "# Criação do dataframe:\n",
        "df = pd.DataFrame()"
      ]
    },
    {
      "cell_type": "code",
      "execution_count": null,
      "metadata": {
        "id": "fsrwobS63hY3"
      },
      "outputs": [],
      "source": [
        "# Concatenação dos arquivos no dataframe:\n",
        "for file in files:\n",
        "  print(file)\n",
        "  data = pd.read_csv(f'./Dados/DemandaeOferta/2020_basica/{file}',\n",
        "                     encoding='cp1252', delimiter = ';',low_memory=False)\n",
        "  df = pd.concat([df, data], axis=0,ignore_index=True)"
      ]
    },
    {
      "cell_type": "code",
      "execution_count": null,
      "metadata": {
        "id": "Oe5heRoz3hY3"
      },
      "outputs": [],
      "source": [
        "# Visualização do dataframe:\n",
        "df.head()"
      ]
    },
    {
      "cell_type": "code",
      "execution_count": null,
      "metadata": {
        "id": "JpEmqdvV3hY3"
      },
      "outputs": [],
      "source": [
        "# Salvando o arquivo \"estatisticas_2020.csv\":\n",
        "df.to_csv('./Dados/DemandaeOferta/estatisticas_2020.csv', index=False)"
      ]
    },
    {
      "cell_type": "markdown",
      "metadata": {
        "id": "HqRrXu7y3nh1"
      },
      "source": [
        "#### Etapa I.IV. Obtenção das estatísticas básicas de Demanda e Oferta em 2020\n",
        "\n",
        "Salvo em /Dados/Estatisticas/estatisticas0.csv\n",
        "\n",
        "**Descrição:** Nesta etapa foi realizada a transformação do arquivo estatisticas_2020."
      ]
    },
    {
      "cell_type": "code",
      "execution_count": null,
      "metadata": {
        "id": "n2LHCBs93nh1"
      },
      "outputs": [],
      "source": [
        "# Leitura do arquivo:\n",
        "dados_estatisticas = pd.read_csv('./Dados/DemandaeOferta/estatisticas_2020.csv',\n",
        "                                 low_memory=False)"
      ]
    },
    {
      "cell_type": "code",
      "execution_count": null,
      "metadata": {
        "id": "NLqbhTZS3nh2"
      },
      "outputs": [],
      "source": [
        "# Dimensões do arquivo:\n",
        "dados_estatisticas.shape"
      ]
    },
    {
      "cell_type": "code",
      "execution_count": null,
      "metadata": {
        "id": "F-_UHSZv3nh2"
      },
      "outputs": [],
      "source": [
        "# Padronização da variável mês:\n",
        "dados_estatisticas['nr_mes_referencia'].unique()"
      ]
    },
    {
      "cell_type": "code",
      "execution_count": null,
      "metadata": {
        "id": "fliAZM9d3nh2"
      },
      "outputs": [],
      "source": [
        "dados_estatisticas.columns"
      ]
    },
    {
      "cell_type": "code",
      "execution_count": null,
      "metadata": {
        "id": "18JRx42-3nh2"
      },
      "outputs": [],
      "source": [
        "# Filtrando o dataframe com a natureza da etapa de voo = doméstica, serviço referente ao tipo de linha = passageiro e tipo de Voo = regular:\n",
        "dados_estatisticas = dados_estatisticas[\n",
        "    (dados_estatisticas['ds_natureza_etapa'] == 'DOMÉSTICA') & \\\n",
        "    (dados_estatisticas['ds_servico_tipo_linha'] == 'PASSAGEIRO') & \\\n",
        "    (dados_estatisticas['ds_grupo_di'] == 'REGULAR')]"
      ]
    },
    {
      "cell_type": "code",
      "execution_count": null,
      "metadata": {
        "id": "ZprQ0RxR3nh2"
      },
      "outputs": [],
      "source": [
        "dados_estatisticas.info()"
      ]
    },
    {
      "cell_type": "code",
      "execution_count": null,
      "metadata": {
        "id": "5F5S0ACq3nh2"
      },
      "outputs": [],
      "source": [
        "dados_estatisticas.isna().sum()"
      ]
    },
    {
      "cell_type": "code",
      "execution_count": null,
      "metadata": {
        "id": "fR52g6DC3nh2"
      },
      "outputs": [],
      "source": [
        "# Exclusão das variáveis que não são do interesse para a pesquisa:\n",
        "dados_estatisticas = dados_estatisticas.drop(columns=\n",
        "    ['id_basica','id_empresa','sg_empresa_iata','nm_pais','ds_tipo_empresa',\n",
        "     'nr_singular','id_di','cd_di','ds_di','ds_grupo_di','dt_referencia',\n",
        "     'nr_ano_referencia','nr_semestre_referencia','nm_semestre_referencia',\n",
        "     'nr_trimestre_referencia','nm_trimestre_referencia','nr_mes_referencia',\n",
        "     'nm_mes_referencia','nr_semana_referencia','nm_dia_semana_referencia',\n",
        "     'nr_dia_referencia','nr_ano_mes_referencia','id_tipo_linha',\n",
        "     'cd_tipo_linha','ds_tipo_linha','ds_natureza_tipo_linha','ds_servico_tipo_linha',\n",
        "     'ds_natureza_etapa','nr_ano_partida_real','nr_semestre_partida_real',\n",
        "     'nm_semestre_partida_real','nr_trimestre_partida_real','nm_trimestre_partida_real',\n",
        "     'nm_mes_partida_real','nr_ano_mes_partida_real','id_aerodromo_origem',\n",
        "     'nm_aerodromo_origem','nm_municipio_origem','nm_pais_origem','nm_continente_origem',\n",
        "     'nr_ano_chegada_real','nr_semestre_chegada_real','nm_semestre_chegada_real',\n",
        "     'nr_trimestre_chegada_real','nm_trimestre_chegada_real','nm_mes_chegada_real',\n",
        "     'nr_ano_mes_chegada_real','id_aerodromo_destino','nm_aerodromo_destino',\n",
        "     'nm_municipio_destino','nm_regiao_destino','nm_pais_destino','nm_continente_destino',\n",
        "     'nr_escala_destino','id_arquivo','nm_arquivo','nr_linha','dt_sistema']\n",
        ")"
      ]
    },
    {
      "cell_type": "code",
      "execution_count": null,
      "metadata": {
        "id": "7nWSMO2J3nh2"
      },
      "outputs": [],
      "source": [
        "# Dimensão do dataframe:\n",
        "dados_estatisticas.shape"
      ]
    },
    {
      "cell_type": "code",
      "execution_count": null,
      "metadata": {
        "id": "ctpt2QKj3nh2"
      },
      "outputs": [],
      "source": [
        "# Salvando o arquivo \"estatisticas0.csv\":\n",
        "dados_estatisticas.to_csv('./Dados/DemandaeOferta/estatisticas0.csv',\n",
        "                          index=False)"
      ]
    },
    {
      "cell_type": "markdown",
      "metadata": {
        "id": "EyB2zQua1VJT"
      },
      "source": [
        "#### Etapa I.V. Leitura e agrupamento de arquivos de estatísticas básicas 2021\n",
        "\n",
        "Salvo em ./Dados/DemandaeOferta/estatisticas_2021.csv\n",
        "\n",
        "**Descrição:** Nesta etapa foi realizada a leitura e agrupamento dos arquivos de estatisticas disponibilizados pela ANAC para 2021."
      ]
    },
    {
      "cell_type": "code",
      "execution_count": null,
      "metadata": {
        "id": "BpBqzYZT1VJU"
      },
      "outputs": [],
      "source": [
        "# Leitura do arquivo:\n",
        "files = ['basica2021-01.zip', 'basica2021-02.zip','basica2021-03.zip',\n",
        "         'basica2021-04.zip', 'basica2021-05.zip','basica2021-06.zip',\n",
        "         'basica2021-07.zip', 'basica2021-08.zip','basica2021-09.zip',\n",
        "         'basica2021-10.zip', 'basica2021-11.zip','basica2021-12.zip']"
      ]
    },
    {
      "cell_type": "code",
      "execution_count": null,
      "metadata": {
        "id": "tQgzGATt1VJU"
      },
      "outputs": [],
      "source": [
        "# Criação do dataframe:\n",
        "df = pd.DataFrame()"
      ]
    },
    {
      "cell_type": "code",
      "execution_count": null,
      "metadata": {
        "id": "J7bDBuqR1VJU"
      },
      "outputs": [],
      "source": [
        "# Concatenação dos arquivos no dataframe:\n",
        "for file in files:\n",
        "  print(file)\n",
        "  data = pd.read_csv(f'./Dados/DemandaeOferta/2021_basica/{file}',\n",
        "                     encoding='cp1252', delimiter = ';',low_memory=False)\n",
        "  df = pd.concat([df, data], axis=0,ignore_index=True)"
      ]
    },
    {
      "cell_type": "code",
      "execution_count": null,
      "metadata": {
        "id": "qbioEX7V1VJU"
      },
      "outputs": [],
      "source": [
        "# Visualização do dataframe:\n",
        "df.head()"
      ]
    },
    {
      "cell_type": "code",
      "execution_count": null,
      "metadata": {
        "id": "ZQR0zeyX1VJU"
      },
      "outputs": [],
      "source": [
        "# Salvando o arquivo \"estatisticas_2021.csv\"\n",
        "df.to_csv('./Dados/DemandaeOferta/estatisticas_2021.csv', index=False)"
      ]
    },
    {
      "cell_type": "markdown",
      "metadata": {
        "id": "1m9-FLtd1dlW"
      },
      "source": [
        "#### Etapa I.VI. Obtenção das estatísticas básicas de Demanda e Oferta em 2021\n",
        "\n",
        "Salvo em /Dados/Estatisticas/estatisticas1.csv\n",
        "\n",
        "**Descrição:** Nesta etapa foi realizada a transformação do arquivo estatisticas_2021."
      ]
    },
    {
      "cell_type": "code",
      "execution_count": null,
      "metadata": {
        "id": "tA-8_cMk1dlX"
      },
      "outputs": [],
      "source": [
        "# Leitura do arquivo:\n",
        "dados_estatisticas = pd.read_csv('./Dados/DemandaeOferta/estatisticas_2021.csv',\n",
        "                                 low_memory=False)"
      ]
    },
    {
      "cell_type": "code",
      "execution_count": null,
      "metadata": {
        "id": "1Y-sD4Fx1dlY"
      },
      "outputs": [],
      "source": [
        "# Dimensões do arquivo:\n",
        "dados_estatisticas.shape"
      ]
    },
    {
      "cell_type": "code",
      "execution_count": null,
      "metadata": {
        "id": "lplljOIu1dlY"
      },
      "outputs": [],
      "source": [
        "# Padronização da variável mês:\n",
        "dados_estatisticas['nr_mes_referencia'].unique()"
      ]
    },
    {
      "cell_type": "code",
      "execution_count": null,
      "metadata": {
        "id": "waWaXnI61dlZ"
      },
      "outputs": [],
      "source": [
        "dados_estatisticas.columns"
      ]
    },
    {
      "cell_type": "code",
      "execution_count": null,
      "metadata": {
        "id": "Wx9Xj8ik1dlZ"
      },
      "outputs": [],
      "source": [
        "# Filtrando o dataframe com a natureza da etapa de voo = doméstica, serviço referente ao tipo de linha = passageiro e tipo de Voo = regular:\n",
        "dados_estatisticas = dados_estatisticas[\n",
        "    (dados_estatisticas['ds_natureza_etapa'] == 'DOMÉSTICA') & \\\n",
        "    (dados_estatisticas['ds_servico_tipo_linha'] == 'PASSAGEIRO') & \\\n",
        "    (dados_estatisticas['ds_grupo_di'] == 'REGULAR')]"
      ]
    },
    {
      "cell_type": "code",
      "execution_count": null,
      "metadata": {
        "id": "10w6o27s1dlZ"
      },
      "outputs": [],
      "source": [
        "dados_estatisticas.info()"
      ]
    },
    {
      "cell_type": "code",
      "execution_count": null,
      "metadata": {
        "id": "FFbcvJNS1dla"
      },
      "outputs": [],
      "source": [
        "dados_estatisticas.isna().sum()"
      ]
    },
    {
      "cell_type": "code",
      "execution_count": null,
      "metadata": {
        "id": "PTqDvS4U1dla"
      },
      "outputs": [],
      "source": [
        "# Exclusão das variáveis que não são do interesse para a pesquisa:\n",
        "dados_estatisticas = dados_estatisticas.drop(columns=\n",
        "    ['id_basica','id_empresa','sg_empresa_iata','nm_pais','ds_tipo_empresa',\n",
        "     'nr_singular','id_di','cd_di','ds_di','ds_grupo_di','dt_referencia',\n",
        "     'nr_ano_referencia','nr_semestre_referencia','nm_semestre_referencia',\n",
        "     'nr_trimestre_referencia','nm_trimestre_referencia','nr_mes_referencia',\n",
        "     'nm_mes_referencia','nr_semana_referencia','nm_dia_semana_referencia',\n",
        "     'nr_dia_referencia','nr_ano_mes_referencia','id_tipo_linha',\n",
        "     'cd_tipo_linha','ds_tipo_linha','ds_natureza_tipo_linha','ds_servico_tipo_linha',\n",
        "     'ds_natureza_etapa','nr_ano_partida_real','nr_semestre_partida_real',\n",
        "     'nm_semestre_partida_real','nr_trimestre_partida_real','nm_trimestre_partida_real',\n",
        "     'nm_mes_partida_real','nr_ano_mes_partida_real','id_aerodromo_origem',\n",
        "     'nm_aerodromo_origem','nm_municipio_origem','nm_pais_origem','nm_continente_origem',\n",
        "     'nr_ano_chegada_real','nr_semestre_chegada_real','nm_semestre_chegada_real',\n",
        "     'nr_trimestre_chegada_real','nm_trimestre_chegada_real','nm_mes_chegada_real',\n",
        "     'nr_ano_mes_chegada_real','id_aerodromo_destino','nm_aerodromo_destino',\n",
        "     'nm_municipio_destino','nm_regiao_destino','nm_pais_destino','nm_continente_destino',\n",
        "     'nr_escala_destino','id_arquivo','nm_arquivo','nr_linha','dt_sistema']\n",
        ")"
      ]
    },
    {
      "cell_type": "code",
      "execution_count": null,
      "metadata": {
        "id": "AUP-OpIj1dla"
      },
      "outputs": [],
      "source": [
        "# Dimensão do dataframe:\n",
        "dados_estatisticas.shape"
      ]
    },
    {
      "cell_type": "code",
      "execution_count": null,
      "metadata": {
        "id": "74hQkMZc1dla"
      },
      "outputs": [],
      "source": [
        "# Salvando o arquivo \"estatisticas1.csv\":\n",
        "dados_estatisticas.to_csv('./Dados/DemandaeOferta/estatisticas1.csv',\n",
        "                          index=False)"
      ]
    },
    {
      "cell_type": "markdown",
      "metadata": {
        "id": "5Ocgd8lmqRUa"
      },
      "source": [
        "#### Etapa I.VII. Leitura e agrupamento de arquivos de estatísticas básicas 2022\n",
        "\n",
        "Salvo em ./Dados/DemandaeOferta/estatisticas_2022.csv\n",
        "\n",
        "**Descrição:** Nesta etapa foi realizada a leitura e agrupamento dos arquivos de estatisticas disponibilizados pela ANAC para 2021."
      ]
    },
    {
      "cell_type": "code",
      "execution_count": null,
      "metadata": {
        "id": "Jvh6YzwuqaZR"
      },
      "outputs": [],
      "source": [
        "# Leitura do arquivo:\n",
        "files = ['basica2022-01.zip', 'basica2022-02.zip','basica2022-03.zip',\n",
        "         'basica2022-04.zip', 'basica2022-05.zip','basica2022-06.zip',\n",
        "         'basica2022-07.zip', 'basica2022-08.zip','basica2022-09.zip',\n",
        "         'basica2022-10.zip', 'basica2022-11.zip','basica2022-12.zip']"
      ]
    },
    {
      "cell_type": "code",
      "execution_count": null,
      "metadata": {
        "id": "MEm6Bdy9qlcJ"
      },
      "outputs": [],
      "source": [
        "# Criação do dataframe:\n",
        "df = pd.DataFrame()"
      ]
    },
    {
      "cell_type": "code",
      "execution_count": null,
      "metadata": {
        "id": "uWhqxpw8qrAq"
      },
      "outputs": [],
      "source": [
        "# Concatenação dos arquivos no dataframe:\n",
        "for file in files:\n",
        "  print(file)\n",
        "  data = pd.read_csv(f'./Dados/DemandaeOferta/2022_basica/{file}',\n",
        "                     encoding='cp1252', delimiter = ';',low_memory=False)\n",
        "  df = pd.concat([df, data], axis=0,ignore_index=True)"
      ]
    },
    {
      "cell_type": "code",
      "execution_count": null,
      "metadata": {
        "id": "x7439XMFr3iy"
      },
      "outputs": [],
      "source": [
        "# Visualização do dataframe:\n",
        "df.head()"
      ]
    },
    {
      "cell_type": "code",
      "execution_count": null,
      "metadata": {
        "id": "9W3SpTxKqxvB"
      },
      "outputs": [],
      "source": [
        "# Salvando o arquivo \"estatisticas_2022.csv\":\n",
        "df.to_csv('./Dados/Estatisticas/estatisticas_2022.csv', index=False)"
      ]
    },
    {
      "cell_type": "markdown",
      "metadata": {
        "id": "3lcBQwfsUgPA"
      },
      "source": [
        "#### Etapa I.VIII. Obtenção das estatísticas básicas de Demanda e Oferta em 2022\n",
        "\n",
        "Salvo em /Dados/Estatisticas/estatisticas2.csv\n",
        "\n",
        "**Descrição:** Nesta etapa foi realizada a transformação do arquivo estatisticas_2022."
      ]
    },
    {
      "cell_type": "code",
      "execution_count": null,
      "metadata": {
        "id": "ljBRu34-UgPA"
      },
      "outputs": [],
      "source": [
        " # Leitura do arquivo:\n",
        " dados_estatisticas = pd.read_csv('./Dados/DemandaeOferta/estatisticas_2022.csv',\n",
        "                                 low_memory=False)"
      ]
    },
    {
      "cell_type": "code",
      "execution_count": null,
      "metadata": {
        "id": "gu72zZxxUgPA"
      },
      "outputs": [],
      "source": [
        "# Dimensões do arquivo:\n",
        "dados_estatisticas.shape"
      ]
    },
    {
      "cell_type": "code",
      "execution_count": null,
      "metadata": {
        "id": "MSFFQSB4UgPA"
      },
      "outputs": [],
      "source": [
        "# Padronização da variável mês:\n",
        "dados_estatisticas['nr_mes_referencia'].unique()"
      ]
    },
    {
      "cell_type": "code",
      "execution_count": null,
      "metadata": {
        "id": "Vph7e_rFUgPA"
      },
      "outputs": [],
      "source": [
        "dados_estatisticas.columns"
      ]
    },
    {
      "cell_type": "code",
      "execution_count": null,
      "metadata": {
        "id": "6HJJ5R5iUgPB"
      },
      "outputs": [],
      "source": [
        "# Filtrando o dataframe com a natureza da etapa de voo = doméstica, serviço referente ao tipo de linha = passageiro e tipo de Voo = regular:\n",
        "dados_estatisticas = dados_estatisticas[\n",
        "    (dados_estatisticas['ds_natureza_etapa'] == 'DOMÉSTICA') & \\\n",
        "    (dados_estatisticas['ds_servico_tipo_linha'] == 'PASSAGEIRO') & \\\n",
        "    (dados_estatisticas['ds_grupo_di'] == 'REGULAR')]"
      ]
    },
    {
      "cell_type": "code",
      "execution_count": null,
      "metadata": {
        "id": "5oulNervUgPB"
      },
      "outputs": [],
      "source": [
        "dados_estatisticas.info()"
      ]
    },
    {
      "cell_type": "code",
      "execution_count": null,
      "metadata": {
        "id": "b_Sf7QdcUgPB"
      },
      "outputs": [],
      "source": [
        "dados_estatisticas.isna().sum()"
      ]
    },
    {
      "cell_type": "code",
      "execution_count": null,
      "metadata": {
        "id": "8jgJnfLtUgPB"
      },
      "outputs": [],
      "source": [
        "# Exclusão das variáveis que não são do interesse para a pesquisa:\n",
        "dados_estatisticas = dados_estatisticas.drop(columns=\n",
        "    ['id_basica','id_empresa','sg_empresa_iata','nm_pais','ds_tipo_empresa',\n",
        "     'nr_singular','id_di','cd_di','ds_di','ds_grupo_di','dt_referencia',\n",
        "     'nr_ano_referencia','nr_semestre_referencia','nm_semestre_referencia',\n",
        "     'nr_trimestre_referencia','nm_trimestre_referencia','nr_mes_referencia',\n",
        "     'nm_mes_referencia','nr_semana_referencia','nm_dia_semana_referencia',\n",
        "     'nr_dia_referencia','nr_ano_mes_referencia','id_tipo_linha',\n",
        "     'cd_tipo_linha','ds_tipo_linha','ds_natureza_tipo_linha','ds_servico_tipo_linha',\n",
        "     'ds_natureza_etapa','nr_ano_partida_real','nr_semestre_partida_real',\n",
        "     'nm_semestre_partida_real','nr_trimestre_partida_real','nm_trimestre_partida_real',\n",
        "     'nm_mes_partida_real','nr_ano_mes_partida_real','id_aerodromo_origem',\n",
        "     'nm_aerodromo_origem','nm_municipio_origem','nm_pais_origem','nm_continente_origem',\n",
        "     'nr_ano_chegada_real','nr_semestre_chegada_real','nm_semestre_chegada_real',\n",
        "     'nr_trimestre_chegada_real','nm_trimestre_chegada_real','nm_mes_chegada_real',\n",
        "     'nr_ano_mes_chegada_real','id_aerodromo_destino','nm_aerodromo_destino',\n",
        "     'nm_municipio_destino','nm_regiao_destino','nm_pais_destino','nm_continente_destino',\n",
        "     'nr_escala_destino','id_arquivo','nm_arquivo','nr_linha','dt_sistema']\n",
        ")"
      ]
    },
    {
      "cell_type": "code",
      "execution_count": null,
      "metadata": {
        "id": "LJ8Vnt1bUgPB"
      },
      "outputs": [],
      "source": [
        "# Dimensão do dataframe:\n",
        "dados_estatisticas.shape"
      ]
    },
    {
      "cell_type": "code",
      "execution_count": null,
      "metadata": {
        "id": "4whdzdjVUgPC"
      },
      "outputs": [],
      "source": [
        "# Salvando o arquivo \"estatisticas2.csv\":\n",
        "dados_estatisticas.to_csv('./Dados/Estatisticas/estatisticas2.csv',\n",
        "                          index=False)"
      ]
    },
    {
      "cell_type": "markdown",
      "metadata": {
        "id": "PC3N0VX1ufx8"
      },
      "source": [
        "### Etapa II. Demanda e Oferta - Combinada\n",
        "\n",
        "**Etapa Combinada (On flight origin and destination - OFOD):** As etapas combinadas identificam os pares de origem, onde ocorreu o embarque do objeto de transporte, e destino, onde ocorreu o desembarque do objeto de transporte, independentemente da existência de aeródromos intermediários, atendidos por determinado voo. É a etapa de voo vista com foco no objeto de transporte (pessoas e/ou cargas), com base no embarque e no desembarque nos aeródromos relacionados. Os dados estatísticos da etapa combinada informam a origem e destino dos passageiros e cargas transportadas no voo, independentemente das escalas realizadas.\n",
        "\n",
        "**Fonte:** ANAC. Descrição das variáveis (microdados). Disponível em: <https://www.gov.br/anac/pt-br/assuntos/dados-e-estatisticas/mercado-do-transporte-aereo/demanda-e-oferta/descricao-das-variaveis-microdados>. Acesso em: 26 nov. 2023"
      ]
    },
    {
      "cell_type": "markdown",
      "metadata": {
        "id": "ETUg0atLxayM"
      },
      "source": [
        "#### Etapa II.I. Organização e Transformação dos Dados - Estatisticas Combinadas 2019"
      ]
    },
    {
      "cell_type": "markdown",
      "metadata": {
        "id": "LgchNDaK9KHf"
      },
      "source": [
        "##### 1. Leitura e agrupamento de arquivos de estatísticas combinadas 2019\n",
        "\n",
        "Salvo em ./Dados/DemandaeOferta/2019_combinada.csv\n",
        "\n",
        "**Descrição:** Nesta etapa foi realizada a leitura e agrupamento dos arquivos de estatisticas combinadas disponibilizados pela ANAC para 2019."
      ]
    },
    {
      "cell_type": "code",
      "execution_count": null,
      "metadata": {
        "id": "P0UR0URo9KHf"
      },
      "outputs": [],
      "source": [
        "# Leitura do arquivo:\n",
        "files = ['combinada2019-01.zip', 'combinada2019-02.zip','combinada2019-03.zip',\n",
        "         'combinada2019-04.zip', 'combinada2019-05.zip','combinada2019-06.zip',\n",
        "         'combinada2019-07.zip', 'combinada2019-08.zip','combinada2019-09.zip',\n",
        "         'combinada2019-10.zip', 'combinada2019-11.zip','combinada2019-12.zip']"
      ]
    },
    {
      "cell_type": "code",
      "execution_count": null,
      "metadata": {
        "id": "v5-AgcTQ9KHf"
      },
      "outputs": [],
      "source": [
        "# Criando o dataframe:\n",
        "df = pd.DataFrame()"
      ]
    },
    {
      "cell_type": "code",
      "execution_count": null,
      "metadata": {
        "id": "DgFMhOBq9KHg"
      },
      "outputs": [],
      "source": [
        "# Concatenando os arquivos no dataframe:\n",
        "for file in files:\n",
        "  print(file)\n",
        "  data = pd.read_csv(f'./Dados/DemandaeOferta/2019_combinada/{file}',\n",
        "                     encoding='cp1252', delimiter = ';',low_memory=False)\n",
        "  df = pd.concat([df, data], axis=0,ignore_index=True)"
      ]
    },
    {
      "cell_type": "code",
      "execution_count": null,
      "metadata": {
        "id": "OaCsk2hT9KHg"
      },
      "outputs": [],
      "source": [
        "# Visualizando o dataframe:\n",
        "df.head()"
      ]
    },
    {
      "cell_type": "code",
      "execution_count": null,
      "metadata": {
        "id": "pKfX5ySR9KHh"
      },
      "outputs": [],
      "source": [
        "# Salvando o arquivo \"estatisticas_2019_combinadas.csv\":\n",
        "df.to_csv('./Dados/DemandaeOferta/estatisticas_2019_combinadas.csv', index=False)"
      ]
    },
    {
      "cell_type": "markdown",
      "metadata": {
        "id": "3ASDpvcr92mg"
      },
      "source": [
        "##### 2. Obtenção das estatísticas combinadas de Demanda e Oferta em 2019\n",
        "\n",
        "Salvo em /Dados/Estatisticas/estatisticas9c.csv\n",
        "\n",
        "**Descrição:** Nesta etapa foi realizada a transformação do arquivo estatisticas_2019_combinadas.csv."
      ]
    },
    {
      "cell_type": "code",
      "execution_count": null,
      "metadata": {
        "id": "kT610Ae092mp"
      },
      "outputs": [],
      "source": [
        "# Leitura do arquivo:\n",
        "dados_estatisticas = pd.read_csv('./Dados/DemandaeOferta/estatisticas_2019_combinadas.csv',\n",
        "                                 low_memory=False)"
      ]
    },
    {
      "cell_type": "code",
      "execution_count": null,
      "metadata": {
        "id": "4aR9kvDY92mq"
      },
      "outputs": [],
      "source": [
        "# Dimnesão do arquivo:\n",
        "dados_estatisticas.shape"
      ]
    },
    {
      "cell_type": "code",
      "execution_count": null,
      "metadata": {
        "id": "tkU9qKY492mq"
      },
      "outputs": [],
      "source": [
        "# Padronizando os dados respectivos ao mês:\n",
        "dados_estatisticas['nr_mes_referencia'].unique()"
      ]
    },
    {
      "cell_type": "code",
      "execution_count": null,
      "metadata": {
        "id": "fSgUhdXx92mq"
      },
      "outputs": [],
      "source": [
        "dados_estatisticas.columns"
      ]
    },
    {
      "cell_type": "code",
      "execution_count": null,
      "metadata": {
        "id": "yJNUSXg-92mq"
      },
      "outputs": [],
      "source": [
        "# Filtrando o dataframe com a natureza da etapa de voo = doméstica, serviço referente ao tipo de linha = passageiro e tipo de Voo = regular:\n",
        "dados_estatisticas = dados_estatisticas[\n",
        "    (dados_estatisticas['ds_natureza_etapa'] == 'DOMÉSTICA') & \\\n",
        "    (dados_estatisticas['ds_servico_tipo_linha'] == 'PASSAGEIRO') & \\\n",
        "    (dados_estatisticas['ds_grupo_di'] == 'REGULAR')]\n",
        "# Com isso, foram excluídos os dados que não serão trabalhados nessa pesquisa."
      ]
    },
    {
      "cell_type": "code",
      "execution_count": null,
      "metadata": {
        "id": "qUO49yFw92mq"
      },
      "outputs": [],
      "source": [
        "dados_estatisticas.info()"
      ]
    },
    {
      "cell_type": "code",
      "execution_count": null,
      "metadata": {
        "id": "fq1_ZpYf92mq"
      },
      "outputs": [],
      "source": [
        "dados_estatisticas.isna().sum()"
      ]
    },
    {
      "cell_type": "code",
      "execution_count": null,
      "metadata": {
        "id": "u0G3rdNt92mq"
      },
      "outputs": [],
      "source": [
        "# Exclusão das variáveis que não serão estudadas na pesquisa:\n",
        "dados_estatisticas = dados_estatisticas.drop(columns=\n",
        "    ['id_combinada','id_empresa','sg_empresa_iata','nm_pais','ds_tipo_empresa',\n",
        "     'nr_singular','id_di','cd_di','ds_di','ds_grupo_di','dt_referencia',\n",
        "     'nr_ano_referencia','nr_semestre_referencia','nm_semestre_referencia',\n",
        "     'nr_trimestre_referencia','nm_trimestre_referencia','nr_mes_referencia',\n",
        "     'nm_mes_referencia','nr_semana_referencia','nm_dia_semana_referencia',\n",
        "     'nr_dia_referencia','nr_ano_mes_referencia','id_tipo_linha',\n",
        "     'cd_tipo_linha','ds_tipo_linha','ds_natureza_tipo_linha','ds_servico_tipo_linha',\n",
        "     'ds_natureza_etapa','nr_ano_partida_real','nr_semestre_partida_real',\n",
        "     'nm_semestre_partida_real','nr_trimestre_partida_real','nm_trimestre_partida_real',\n",
        "     'nm_mes_partida_real','nr_ano_mes_partida_real','id_aerodromo_origem',\n",
        "     'nm_aerodromo_origem','nm_municipio_origem','nm_pais_origem','nm_continente_origem',\n",
        "     'nr_ano_chegada_real','nr_semestre_chegada_real','nm_semestre_chegada_real',\n",
        "     'nr_trimestre_chegada_real','nm_trimestre_chegada_real','nm_mes_chegada_real',\n",
        "     'nr_ano_mes_chegada_real','id_aerodromo_destino','nm_aerodromo_destino',\n",
        "     'nm_municipio_destino','nm_regiao_destino','nm_pais_destino','nm_continente_destino',\n",
        "     'nr_escala_destino','id_arquivo','nm_arquivo','nr_linha','dt_sistema']\n",
        ")"
      ]
    },
    {
      "cell_type": "code",
      "execution_count": null,
      "metadata": {
        "id": "OPVRBJz392mr"
      },
      "outputs": [],
      "source": [
        "# Dimensão do dataframe:\n",
        "dados_estatisticas.shape"
      ]
    },
    {
      "cell_type": "code",
      "execution_count": null,
      "metadata": {
        "id": "jg-Nc6b592mr"
      },
      "outputs": [],
      "source": [
        "# Salvando o arquivo \"estatisticas9c.csv\":\n",
        "dados_estatisticas.to_csv('./Dados/DemandaeOferta/estatisticas9c.csv',\n",
        "                          index=False)"
      ]
    },
    {
      "cell_type": "markdown",
      "metadata": {
        "id": "4ww0-MH8_0jl"
      },
      "source": [
        "##### 3. Inclusão de coluna de distancia nas Estatisticas Combinadas 2019\n",
        "\n",
        "Salvos em ./Dados/DemandaeOferta/estatisticas9c.csv\n",
        "\n",
        "**Descrição:** Para a análise do dataframe, é interessante ter a variável distância correlacionada às estatísticas combinadas. Para isso, foram identificadas as variáveis correspondentes aos aeroportos de origem e destino de cada voo no arquivo estatisticas9c e correlacionadas às distâncias do arquivo distancias2."
      ]
    },
    {
      "cell_type": "code",
      "execution_count": null,
      "metadata": {
        "id": "6Qm3ZpDf_0jl"
      },
      "outputs": [],
      "source": [
        "# Leitura dos arquivos:\n",
        "estatisticas = pd.read_csv('./Dados/DemandaeOferta/estatisticas9c.csv')"
      ]
    },
    {
      "cell_type": "code",
      "execution_count": null,
      "metadata": {
        "id": "qo4aGZ2L_0jl"
      },
      "outputs": [],
      "source": [
        "distancia = pd.read_csv('./Dados/Aerodromos/distancias2.csv')"
      ]
    },
    {
      "cell_type": "code",
      "execution_count": null,
      "metadata": {
        "id": "2DUxb-BS_0jm"
      },
      "outputs": [],
      "source": [
        "# Criando um dicionário com as correspondências entre origem e destino, com as distancias (km):\n",
        "correspondencias = distancia.set_index(['orig', 'dest'])['dist'].to_dict()"
      ]
    },
    {
      "cell_type": "code",
      "execution_count": null,
      "metadata": {
        "id": "w5OPqu0i_0jm"
      },
      "outputs": [],
      "source": [
        "# Criando a variável km_distancia e mapeando os valores de orig/sg_icao_origem e dest/sg_icao_destino para obter as distâncias correspondentes:\n",
        "estatisticas['km_distancia'] = estatisticas[['sg_icao_origem', 'sg_icao_destino']].apply(lambda row: correspondencias.get((row['sg_icao_origem'], row['sg_icao_destino'])), axis=1)"
      ]
    },
    {
      "cell_type": "code",
      "execution_count": null,
      "metadata": {
        "id": "1qtOrzQl_0jm"
      },
      "outputs": [],
      "source": [
        "# Visualizando o dataframe:\n",
        "estatisticas.head()"
      ]
    },
    {
      "cell_type": "code",
      "execution_count": null,
      "metadata": {
        "id": "5afpiQJh_0jm"
      },
      "outputs": [],
      "source": [
        "# Salvando o arquivo \"estatisticas9c.csv\" com a variável distância inclusa.\n",
        "estatisticas.to_csv('./Dados/DemandaeOferta/estatisticas9c.csv', index=False)"
      ]
    },
    {
      "cell_type": "markdown",
      "metadata": {
        "id": "dvAt8mn33wtC"
      },
      "source": [
        "##### 4. Inclusão de coluna de Modelo de Aeronave e Número de Assentos nas Estatisticas Combinadas 2019\n",
        "Salvos em ./Dados/DemandaeOferta/estatisticas9_filtered.csv\n",
        "\n",
        "**Descrição:** Apesar dos banco de dados de estatísticas combinadas dos voos serem mais adequados para a pesquisa, por representarem a origem e destino dos passageiros no voo - independentemente das escalas realizadas - um grande limitador desses bancos foi a carência de algumas variáveis essenciais para as análises da pesquisa, como o Modelo da Aeronave, Número de Assentos e - principalmente - das Tarifas praticadas para cada voo.\n",
        "\n",
        "As etapas subsequentes foram realizadas para a inclusão dessas variáveis nos arquivos de estatísticas combinadas, a partir da correlação entre os arquivos de estatisticas básicas e tarifas. As correlações foram realizadas a partir das combinações entre as variáveis-chaves dos arquivos."
      ]
    },
    {
      "cell_type": "code",
      "execution_count": null,
      "metadata": {
        "id": "w-PrdL--3wtC"
      },
      "outputs": [],
      "source": [
        "# Leitura dos arquivos:\n",
        "estatisticasc = pd.read_csv(\"./Dados/DemandaeOferta/estatisticas9c.csv\")\n",
        "estatisticasb = pd.read_csv(\"./Dados/DemandaeOferta/estatisticas9.csv\")"
      ]
    },
    {
      "cell_type": "code",
      "execution_count": null,
      "metadata": {
        "id": "h-o_im2Q3wtD"
      },
      "outputs": [],
      "source": [
        "# Filtrando o dataframe estatisticas básicas por empresas desejadas:\n",
        "empresas_desejadas = [\"ACN\", \"PAM\", \"ASO\", \"AZU\", \"PTB\", \"ABJ\"]\n",
        "estatisticasb_filtrado = estatisticasb[estatisticasb['sg_empresa_icao'].isin(empresas_desejadas)]"
      ]
    },
    {
      "cell_type": "code",
      "execution_count": null,
      "metadata": {
        "id": "aWWHa5YO3wtD"
      },
      "outputs": [],
      "source": [
        "# Filtrando o dataframe estatisticas básicas (filtrado) por aeronaves indesejadas:\n",
        "aeronaves_indesejadas = [\"A20N\", \"A21N\", \"A319\", \"A320\", \"A321\", \"A332\", \"A339\", \"A359\", \"B38M\", \"B737\", \"B738\", \"B763\", \"B77W\", \"B789\", \"E195\", \"E295\", \"E190\"]\n",
        "condiçao = estatisticasb_filtrado['sg_equipamento_icao'].isin(aeronaves_indesejadas)\n",
        "estatisticasb_filtrado = estatisticasb_filtrado[~condiçao]"
      ]
    },
    {
      "cell_type": "code",
      "execution_count": null,
      "metadata": {
        "id": "oqcALsHO3wtD"
      },
      "outputs": [],
      "source": [
        "# Identificando os números de voos com as respectivas aeronaves de interesse:\n",
        "nr_voos = estatisticasb_filtrado['nr_voo'].unique()\n",
        "print(nr_voos)"
      ]
    },
    {
      "cell_type": "code",
      "execution_count": null,
      "metadata": {
        "id": "lraFt5Pa3wtD"
      },
      "outputs": [],
      "source": [
        "# Filtrando os números de voos encontrados das estatisticas combinadas:\n",
        "estatisticasc_filtrado = estatisticasc[estatisticasc['nr_voo'].isin(nr_voos)]"
      ]
    },
    {
      "cell_type": "code",
      "execution_count": null,
      "metadata": {
        "id": "yTWmZwpf3wtE"
      },
      "outputs": [],
      "source": [
        "# Filtrando o dataframe estatisticas combinadas (filtrado) por empresas desejadas:\n",
        "empresas_desejadas = ['PAM', 'ABJ', 'ACN', 'PTB', 'AZU', 'ASO']\n",
        "estatisticasc_filtrado = estatisticasc_filtrado[estatisticasc_filtrado['sg_empresa_icao'].isin(empresas_desejadas)]"
      ]
    },
    {
      "cell_type": "code",
      "execution_count": null,
      "metadata": {
        "id": "R-IX_Rph3wtE"
      },
      "outputs": [],
      "source": [
        "estatisticasc_filtrado['sg_empresa_icao'].unique()"
      ]
    },
    {
      "cell_type": "code",
      "execution_count": null,
      "metadata": {
        "id": "X_QYEnwP3wtE"
      },
      "outputs": [],
      "source": [
        "# Incluindo a coluna ICAO de aeronave na estatistica combinada\n",
        "# Criando um dicionário com as correspondências entre nr_voo/sg_empresa_origem e sg_equipamento_icao\n",
        "correspondencias = estatisticasb_filtrado.set_index(['nr_voo', 'sg_empresa_icao'])['sg_equipamento_icao'].to_dict()"
      ]
    },
    {
      "cell_type": "code",
      "execution_count": null,
      "metadata": {
        "id": "QBcr-A5-3wtE"
      },
      "outputs": [],
      "source": [
        "# Mapeando os valores de nr_voo/sg_empresa_origem e sg_empresa_icao para obter os modelos de aeronaves correspondentes\n",
        "estatisticasc_filtrado['sg_equipamento_icao'] = estatisticasc_filtrado[['nr_voo', 'sg_empresa_icao']].apply(lambda row: correspondencias.get((row['nr_voo'], row['sg_empresa_icao'])), axis=1)"
      ]
    },
    {
      "cell_type": "code",
      "execution_count": null,
      "metadata": {
        "id": "1yhe4wc03wtF"
      },
      "outputs": [],
      "source": [
        "# Incluindo a coluna modelo de aeronave na estatistica combinada\n",
        "# Criando um dicionário com as correspondências entre sg_equipamento_icao e ds_modelo\n",
        "correspondencias2 = estatisticasb_filtrado.set_index(['sg_equipamento_icao'])['ds_modelo'].to_dict()"
      ]
    },
    {
      "cell_type": "code",
      "execution_count": null,
      "metadata": {
        "id": "hWW3fmkW3wtF"
      },
      "outputs": [],
      "source": [
        "# Mapeando os valores de sg_empresa_icao e ds_modelo para obter os modelos de aeronaves correspondentes\n",
        "estatisticasc_filtrado['ds_modelo'] = estatisticasc_filtrado[['sg_equipamento_icao']].apply(lambda row: correspondencias2.get((row['sg_equipamento_icao'])), axis=1)"
      ]
    },
    {
      "cell_type": "code",
      "execution_count": null,
      "metadata": {
        "id": "QhN6HPaI3wtF"
      },
      "outputs": [],
      "source": [
        "# Incluindo a coluna assentos ofertados na estatistica combinada\n",
        "# Criando um dicionário com as correspondências entre nr_voo/sg_empresa_icao/sg_equipamento_icao e nr_assentos_ofertados\n",
        "correspondencias3 = estatisticasb_filtrado.set_index(['nr_voo', 'sg_empresa_icao', 'sg_equipamento_icao'])['nr_assentos_ofertados'].to_dict()"
      ]
    },
    {
      "cell_type": "code",
      "execution_count": null,
      "metadata": {
        "id": "by_BYvl63wtF"
      },
      "outputs": [],
      "source": [
        "# Mapeando os valores de nr_voo/sg_empresa_origem e ds_modelo para obter os modelos de aeronaves correspondentes\n",
        "estatisticasc_filtrado['nr_assentos_ofertados'] = estatisticasc_filtrado[['nr_voo', 'sg_empresa_icao', 'sg_equipamento_icao']].apply(lambda row: correspondencias3.get((row['nr_voo'], row['sg_empresa_icao'], row['sg_equipamento_icao'])), axis=1)"
      ]
    },
    {
      "cell_type": "code",
      "execution_count": null,
      "metadata": {
        "id": "mKWqsu5C3wtF"
      },
      "outputs": [],
      "source": [
        "estatisticasc_filtrado.head()"
      ]
    },
    {
      "cell_type": "code",
      "execution_count": null,
      "metadata": {
        "id": "Ty5XSdhL3wtG"
      },
      "outputs": [],
      "source": [
        "estatisticasc_filtrado.shape"
      ]
    },
    {
      "cell_type": "code",
      "execution_count": null,
      "metadata": {
        "id": "k3vcrggH3wtG"
      },
      "outputs": [],
      "source": [
        "# Salvando o arquivo \"estatisticas9c_filtered.csv\":\n",
        "estatisticasc_filtrado.to_csv('./Dados/DemandaeOferta/estatisticas9c_filtered.csv', index=False)"
      ]
    },
    {
      "cell_type": "markdown",
      "metadata": {
        "id": "z4214D5z32mZ"
      },
      "source": [
        "##### 5. Inclusão da coluna de Tarifas nas Estatisticas Combinadas 2019\n",
        "Salvos em ./Dados/DemandaeOferta/estatisticas9c_filtered.csv\n",
        "\n",
        "**Descrição:** Para incluir a variável Tarifas nos arquivos de estatisticas combinadas, foi necessário criar uma variável de semestre, pois a variável mês do arquivo tarifas não corresponde à variável mês do arquivo estatisticas combinadas. Isso ocorre, porque o mês de compra da passagem não corresponde necessariamente ao mês do voo.\n",
        "\n",
        "Dessa forma, a criação da variável semestre foi uma tentativa de aproximação das variáveis para correlacionar ambos os bancos de dados e obter a variável tarifa para cada voo no arquivo estatisticas combinadas."
      ]
    },
    {
      "cell_type": "code",
      "execution_count": null,
      "metadata": {
        "id": "4GX6gsTh32ma"
      },
      "outputs": [],
      "source": [
        "# Leitura do arquivo:\n",
        "estatisticas = pd.read_csv('./Dados/DemandaeOferta/estatisticas9c_filtered.csv')"
      ]
    },
    {
      "cell_type": "code",
      "execution_count": null,
      "metadata": {
        "id": "wKtK47y032ma"
      },
      "outputs": [],
      "source": [
        "#Criando a coluna SEMESTRE\n",
        "estatisticas['SEMESTRE'] = pd.cut(estatisticas['nr_mes_partida_real'], bins=[0, 6, 12], labels=[1, 2])"
      ]
    },
    {
      "cell_type": "code",
      "execution_count": null,
      "metadata": {
        "id": "1Lg6H_7u32ma"
      },
      "outputs": [],
      "source": [
        "#Incluindo a coluna das empresas que comercializam as passagens (sg_comercializa_icao)\n",
        "empresas = {\n",
        "    \"PAM\": \"PTB\",\n",
        "    \"PTB\": \"PTB\",\n",
        "    \"ACN\": \"AZU\",\n",
        "    \"AZU\": \"AZU\",\n",
        "    \"ABJ\": \"ABJ\"\n",
        "}\n",
        "estatisticas['sg_comercializa_icao'] = estatisticas['sg_empresa_icao'].map(empresas)"
      ]
    },
    {
      "cell_type": "code",
      "execution_count": null,
      "metadata": {
        "id": "fGdiTGSI32ma"
      },
      "outputs": [],
      "source": [
        "estatisticas.head()"
      ]
    },
    {
      "cell_type": "markdown",
      "metadata": {
        "id": "U2Vsxbii35ie"
      },
      "source": [
        "###### Adequação do arquivo tarifas9.csv\n",
        "\n",
        "\n",
        "**Descrição:** Após a criação da variável semestre, foi necessária a criação da variável tarifa ponderada, qua consiste na média ponderada das tarifas praticadas para o mesmo grupo ('ANO', 'SEMESTRE', 'EMPRESA', 'ORIGEM', 'DESTINO'), ponderadas pela quantidade de assentos.\n",
        "\n",
        "Após a criação da variável tarifa ponderada, foram calculados os desvios padrões das tarifas ponderadas."
      ]
    },
    {
      "cell_type": "code",
      "execution_count": null,
      "metadata": {
        "id": "T7z74D3K35if"
      },
      "outputs": [],
      "source": [
        "# Leitura do arquivo:\n",
        "tarifas = pd.read_csv('./Dados/Tarifas/tarifas9.csv')"
      ]
    },
    {
      "cell_type": "code",
      "execution_count": null,
      "metadata": {
        "id": "8VriyHKG35if"
      },
      "outputs": [],
      "source": [
        "#Criando a coluna SEMESTRE\n",
        "tarifas['SEMESTRE'] = pd.cut(tarifas['MES'], bins=[0, 6, 12], labels=[1, 2])"
      ]
    },
    {
      "cell_type": "code",
      "execution_count": null,
      "metadata": {
        "id": "hlL7LTr635if"
      },
      "outputs": [],
      "source": [
        "#Criando a coluna média ponderada das Tarifas\n",
        "tarifas['produto'] = tarifas['TARIFA'] * tarifas['ASSENTOS']\n",
        "soma_ponderada = tarifas.groupby(['ANO', 'SEMESTRE', 'EMPRESA', 'ORIGEM', 'DESTINO'])['produto'].sum()\n",
        "soma_assentos = tarifas.groupby(['ANO', 'SEMESTRE', 'EMPRESA', 'ORIGEM', 'DESTINO'])['ASSENTOS'].sum()\n",
        "TARIFA_PONDERADA = soma_ponderada / soma_assentos"
      ]
    },
    {
      "cell_type": "code",
      "execution_count": null,
      "metadata": {
        "id": "BW7t8iaw35if"
      },
      "outputs": [],
      "source": [
        "# Adicionando a variável TARIFA_PONDERADA ao dataframe:\n",
        "tarifas = tarifas.merge(TARIFA_PONDERADA.rename('TARIFA_PONDERADA'), left_on=['ANO', 'SEMESTRE', 'EMPRESA', 'ORIGEM', 'DESTINO'], right_index=True)"
      ]
    },
    {
      "cell_type": "code",
      "execution_count": null,
      "metadata": {
        "id": "zH42bEO_35if"
      },
      "outputs": [],
      "source": [
        "# Excluindo a variável criada provisoriamente para o cálculo da média ponderada da tarifa:\n",
        "tarifas = tarifas.drop(columns='produto')"
      ]
    },
    {
      "cell_type": "code",
      "execution_count": null,
      "metadata": {
        "id": "t5-LwOAQ35if"
      },
      "outputs": [],
      "source": [
        "tarifas.head()"
      ]
    },
    {
      "cell_type": "code",
      "execution_count": null,
      "metadata": {
        "id": "8GzZj9Lh35if"
      },
      "outputs": [],
      "source": [
        "# Incluindo a coluna tarifas na estatistica combinada\n",
        "# Criando um dicionário com as correspondências entre MES/EMPRESA/ORIGEM/DESTINO e TARIFA\n",
        "correspondencias = tarifas.set_index(['SEMESTRE', 'EMPRESA', 'ORIGEM', 'DESTINO'])['TARIFA_PONDERADA'].to_dict()"
      ]
    },
    {
      "cell_type": "code",
      "execution_count": null,
      "metadata": {
        "id": "acVo9ORS35ig"
      },
      "outputs": [],
      "source": [
        "# Mapeando os valores de nr_mes_partida_real/sg_empresa_icao/sg_icao_origem/sg_icao_destino e tarifa para obter os modelos de aeronaves correspondentes\n",
        "estatisticas['tarifa_ponderada'] = estatisticas[['SEMESTRE', 'sg_comercializa_icao', 'sg_icao_origem', 'sg_icao_destino']].apply(lambda row: correspondencias.get((row['SEMESTRE'], row['sg_comercializa_icao'], row['sg_icao_origem'], row['sg_icao_destino'])), axis=1)"
      ]
    },
    {
      "cell_type": "code",
      "execution_count": null,
      "metadata": {
        "id": "c9Gx0l6N35ig"
      },
      "outputs": [],
      "source": [
        "estatisticas.head()"
      ]
    },
    {
      "cell_type": "code",
      "execution_count": null,
      "metadata": {
        "id": "J1lUp_nU35ig"
      },
      "outputs": [],
      "source": [
        "#Calculando o Desvio Padrão\n",
        "tarifas['desvio'] = tarifas['ASSENTOS'] * (tarifas['TARIFA'] - tarifas['TARIFA_PONDERADA'])**2\n",
        "soma_desvio = tarifas.groupby(['ANO', 'SEMESTRE', 'EMPRESA', 'ORIGEM', 'DESTINO'])['desvio'].sum()\n",
        "soma_assentos = tarifas.groupby(['ANO', 'SEMESTRE', 'EMPRESA', 'ORIGEM', 'DESTINO'])['ASSENTOS'].sum()\n",
        "desvio_padrao = np.sqrt(soma_desvio / (soma_assentos - 1))"
      ]
    },
    {
      "cell_type": "code",
      "execution_count": null,
      "metadata": {
        "id": "CDoFxYx935ig"
      },
      "outputs": [],
      "source": [
        "# Agora, vamos adicionar essa série ao dataframe original\n",
        "tarifas = tarifas.merge(desvio_padrao.rename('DESVIO_PADRAO'), left_on=['ANO', 'SEMESTRE', 'EMPRESA', 'ORIGEM', 'DESTINO'], right_index=True)"
      ]
    },
    {
      "cell_type": "code",
      "execution_count": null,
      "metadata": {
        "id": "QI3NHz6l35ig"
      },
      "outputs": [],
      "source": [
        "tarifas = tarifas.drop(columns='desvio')"
      ]
    },
    {
      "cell_type": "code",
      "execution_count": null,
      "metadata": {
        "id": "48CmCSpz35ig"
      },
      "outputs": [],
      "source": [
        "tarifas.head()"
      ]
    },
    {
      "cell_type": "code",
      "execution_count": null,
      "metadata": {
        "id": "N79Nqh3A35ig"
      },
      "outputs": [],
      "source": [
        "# Incluindo a coluna DESVIO_PADRAO na estatistica combinada\n",
        "# Criando um dicionário com as correspondências entre SEMESTRE/EMPRESA/ORIGEM/DESTINO/TARIFA_PONDERADA e DESVIO_PADRAO\n",
        "correspondencias = tarifas.set_index(['SEMESTRE', 'EMPRESA', 'ORIGEM', 'DESTINO', 'TARIFA_PONDERADA'])['DESVIO_PADRAO'].to_dict()"
      ]
    },
    {
      "cell_type": "code",
      "execution_count": null,
      "metadata": {
        "id": "RAclsS2035ig"
      },
      "outputs": [],
      "source": [
        "# Mapeando os valores de SEMESTRE/sg_empresa_icao/sg_icao_origem/sg_icao_destino/tarifa para obter o desvio_padrao correspondente\n",
        "estatisticas['desvio_padrao'] = estatisticas[['SEMESTRE', 'sg_comercializa_icao', 'sg_icao_origem', 'sg_icao_destino', 'tarifa_ponderada']].apply(lambda row: correspondencias.get((row['SEMESTRE'], row['sg_comercializa_icao'], row['sg_icao_origem'], row['sg_icao_destino'], row['tarifa_ponderada'])), axis=1)"
      ]
    },
    {
      "cell_type": "code",
      "execution_count": null,
      "metadata": {
        "id": "a84SdR5035ig"
      },
      "outputs": [],
      "source": [
        "estatisticas.head()"
      ]
    },
    {
      "cell_type": "code",
      "execution_count": null,
      "metadata": {
        "id": "PELm4wXu35ih"
      },
      "outputs": [],
      "source": [
        "# Salvando o arquivo \"estatisticas9c_filtered.csv\" com as novas variáveis:\n",
        "estatisticas.to_csv('./Dados/DemandaeOferta/estatisticas9c_filtered.csv', index=False)"
      ]
    },
    {
      "cell_type": "markdown",
      "metadata": {
        "id": "SGDoLG1XxXvb"
      },
      "source": [
        "#### Etapa II.II. Organização e Transformação dos Dados - Estatisticas Combinadas 2020"
      ]
    },
    {
      "cell_type": "markdown",
      "metadata": {
        "id": "Gj0GWdtN6gNF"
      },
      "source": [
        "##### 1. Leitura e agrupamento de arquivos de estatísticas combinadas 2020\n",
        "\n",
        "Salvo em ./Dados/DemandaeOferta/2020_combinada.csv\n",
        "\n",
        "**Descrição:** Nesta etapa foi realizada a leitura e agrupamento dos arquivos de estatisticas combinadas disponibilizados pela ANAC para 2020."
      ]
    },
    {
      "cell_type": "code",
      "execution_count": null,
      "metadata": {
        "id": "8veVQZa26gNK"
      },
      "outputs": [],
      "source": [
        "# Leitura do arquivo:\n",
        "files = ['combinada2020-01.zip', 'combinada2020-02.zip','combinada2020-03.zip',\n",
        "         'combinada2020-04.zip', 'combinada2020-05.zip','combinada2020-06.zip',\n",
        "         'combinada2020-07.zip', 'combinada2020-08.zip','combinada2020-09.zip',\n",
        "         'combinada2020-10.zip', 'combinada2020-11.zip','combinada2020-12.zip']"
      ]
    },
    {
      "cell_type": "code",
      "execution_count": null,
      "metadata": {
        "id": "oLp01dm06gNL"
      },
      "outputs": [],
      "source": [
        "# Criando o dataframe:\n",
        "df = pd.DataFrame()"
      ]
    },
    {
      "cell_type": "code",
      "execution_count": null,
      "metadata": {
        "id": "lvvIGNeG6gNL"
      },
      "outputs": [],
      "source": [
        "# Concatenando os arquivos no dataframe:\n",
        "for file in files:\n",
        "  print(file)\n",
        "  data = pd.read_csv(f'./Dados/DemandaeOferta/2020_combinada/{file}',\n",
        "                     encoding='cp1252', delimiter = ';',low_memory=False)\n",
        "  df = pd.concat([df, data], axis=0,ignore_index=True)"
      ]
    },
    {
      "cell_type": "code",
      "execution_count": null,
      "metadata": {
        "id": "jMt88ubj6gNL"
      },
      "outputs": [],
      "source": [
        "# Visualizando o dataframe:\n",
        "df.head()"
      ]
    },
    {
      "cell_type": "code",
      "execution_count": null,
      "metadata": {
        "id": "fyyuwEK36gNL"
      },
      "outputs": [],
      "source": [
        "# Salvando o arquivo \"estatisticas_2020_combinadas.csv\":\n",
        "df.to_csv('./Dados/DemandaeOferta/estatisticas_2020_combinadas.csv', index=False)"
      ]
    },
    {
      "cell_type": "markdown",
      "metadata": {
        "id": "iu-L5E3O6zOW"
      },
      "source": [
        "\n",
        "##### 2. Obtenção das estatísticas combinadas de Demanda e Oferta em 2020\n",
        "\n",
        "Salvo em /Dados/Estatisticas/estatisticas0c.csv\n",
        "\n",
        "**Descrição:** Nesta etapa foi realizada a transformação do arquivo estatisticas_2020_combinadas.csv."
      ]
    },
    {
      "cell_type": "code",
      "execution_count": null,
      "metadata": {
        "id": "vY1Glrmx6zOb"
      },
      "outputs": [],
      "source": [
        "# Leitura do arquivo:\n",
        "dados_estatisticas = pd.read_csv('./Dados/DemandaeOferta/estatisticas_2020_combinadas.csv',\n",
        "                                 low_memory=False)"
      ]
    },
    {
      "cell_type": "code",
      "execution_count": null,
      "metadata": {
        "id": "VelgHBnN6zOb"
      },
      "outputs": [],
      "source": [
        "# Dimensão do arquivo:\n",
        "dados_estatisticas.shape"
      ]
    },
    {
      "cell_type": "code",
      "execution_count": null,
      "metadata": {
        "id": "zuKjFKfd6zOb"
      },
      "outputs": [],
      "source": [
        "# Padronizando os dados respectivos ao mês:\n",
        "dados_estatisticas['nr_mes_referencia'].unique()"
      ]
    },
    {
      "cell_type": "code",
      "execution_count": null,
      "metadata": {
        "id": "WnPAdqpn6zOb"
      },
      "outputs": [],
      "source": [
        "dados_estatisticas.columns"
      ]
    },
    {
      "cell_type": "code",
      "execution_count": null,
      "metadata": {
        "id": "QFNkqbWr6zOc"
      },
      "outputs": [],
      "source": [
        "# Filtrando o dataframe com a natureza da etapa de voo = doméstica, serviço referente ao tipo de linha = passageiro e tipo de Voo = regular:\n",
        "dados_estatisticas = dados_estatisticas[\n",
        "    (dados_estatisticas['ds_natureza_etapa'] == 'DOMÉSTICA') & \\\n",
        "    (dados_estatisticas['ds_servico_tipo_linha'] == 'PASSAGEIRO') & \\\n",
        "    (dados_estatisticas['ds_grupo_di'] == 'REGULAR')]\n",
        "# Com isso, foram excluídos os dados que não serão trabalhados nessa pesquisa."
      ]
    },
    {
      "cell_type": "code",
      "execution_count": null,
      "metadata": {
        "id": "RUKwboWw6zOc"
      },
      "outputs": [],
      "source": [
        "dados_estatisticas.info()"
      ]
    },
    {
      "cell_type": "code",
      "execution_count": null,
      "metadata": {
        "id": "rkqsmYnw6zOc"
      },
      "outputs": [],
      "source": [
        "# Exclusão dos dados vazios (NA)\n",
        "dados_estatisticas.isna().sum()"
      ]
    },
    {
      "cell_type": "code",
      "execution_count": null,
      "metadata": {
        "id": "7KPLyIFO6zOc"
      },
      "outputs": [],
      "source": [
        "# Exclusão das variáveis que não serão estudadas na pesquisa:\n",
        "dados_estatisticas = dados_estatisticas.drop(columns=\n",
        "    ['id_combinada','id_empresa','sg_empresa_iata','nm_pais','ds_tipo_empresa',\n",
        "     'nr_singular','id_di','cd_di','ds_di','ds_grupo_di','dt_referencia',\n",
        "     'nr_ano_referencia','nr_semestre_referencia','nm_semestre_referencia',\n",
        "     'nr_trimestre_referencia','nm_trimestre_referencia','nr_mes_referencia',\n",
        "     'nm_mes_referencia','nr_semana_referencia','nm_dia_semana_referencia',\n",
        "     'nr_dia_referencia','nr_ano_mes_referencia','id_tipo_linha',\n",
        "     'cd_tipo_linha','ds_tipo_linha','ds_natureza_tipo_linha','ds_servico_tipo_linha',\n",
        "     'ds_natureza_etapa','nr_ano_partida_real','nr_semestre_partida_real',\n",
        "     'nm_semestre_partida_real','nr_trimestre_partida_real','nm_trimestre_partida_real',\n",
        "     'nm_mes_partida_real','nr_ano_mes_partida_real','id_aerodromo_origem',\n",
        "     'nm_aerodromo_origem','nm_municipio_origem','nm_pais_origem','nm_continente_origem',\n",
        "     'nr_ano_chegada_real','nr_semestre_chegada_real','nm_semestre_chegada_real',\n",
        "     'nr_trimestre_chegada_real','nm_trimestre_chegada_real','nm_mes_chegada_real',\n",
        "     'nr_ano_mes_chegada_real','id_aerodromo_destino','nm_aerodromo_destino',\n",
        "     'nm_municipio_destino','nm_regiao_destino','nm_pais_destino','nm_continente_destino',\n",
        "     'nr_escala_destino','id_arquivo','nm_arquivo','nr_linha','dt_sistema']\n",
        ")"
      ]
    },
    {
      "cell_type": "code",
      "execution_count": null,
      "metadata": {
        "id": "EgnwGPRh6zOc"
      },
      "outputs": [],
      "source": [
        "# Dimensão do dataframe:\n",
        "dados_estatisticas.shape"
      ]
    },
    {
      "cell_type": "code",
      "execution_count": null,
      "metadata": {
        "id": "2tkfWz2g6zOc"
      },
      "outputs": [],
      "source": [
        "# Salvando o arquivo \"estatisticas0c.csv\":\n",
        "dados_estatisticas.to_csv('./Dados/DemandaeOferta/estatisticas0c.csv',\n",
        "                          index=False)"
      ]
    },
    {
      "cell_type": "markdown",
      "metadata": {
        "id": "5Iy95eXO8uXK"
      },
      "source": [
        "##### 3. Inclusão de coluna de distancia nas Estatisticas Combinadas 2020\n",
        "\n",
        "Salvos em ./Dados/DemandaeOferta/estatisticas0c.csv\n",
        "\n",
        "**Descrição:** Para a análise do dataframe, é interessante ter a variável distância correlacionada às estatísticas combinadas. Para isso, foram identificadas as variáveis correspondentes aos aeroportos de origem e destino de cada voo no arquivo estatisticas0c e correlacionadas às distâncias do arquivo distancias2."
      ]
    },
    {
      "cell_type": "code",
      "execution_count": null,
      "metadata": {
        "id": "8REC6cz18uXL"
      },
      "outputs": [],
      "source": [
        "# Leitura dos arquivos:\n",
        "estatisticas = pd.read_csv('./Dados/DemandaeOferta/estatisticas0c.csv')"
      ]
    },
    {
      "cell_type": "code",
      "execution_count": null,
      "metadata": {
        "id": "BlhamU5y8uXM"
      },
      "outputs": [],
      "source": [
        "distancia = pd.read_csv('./Dados/Aerodromos/distancias2.csv')"
      ]
    },
    {
      "cell_type": "code",
      "execution_count": null,
      "metadata": {
        "id": "WcUG2lsN8uXM"
      },
      "outputs": [],
      "source": [
        "# Criando um dicionário com as correspondências entre origem e destino, com as distancias (km):\n",
        "correspondencias = distancia.set_index(['orig', 'dest'])['dist'].to_dict()"
      ]
    },
    {
      "cell_type": "code",
      "execution_count": null,
      "metadata": {
        "id": "mdb0U8HZ8uXM"
      },
      "outputs": [],
      "source": [
        "# Criando a variável km_distancia e mapeando os valores de orig/sg_icao_origem e dest/sg_icao_destino para obter as distâncias correspondentes:\n",
        "estatisticas['km_distancia'] = estatisticas[['sg_icao_origem', 'sg_icao_destino']].apply(lambda row: correspondencias.get((row['sg_icao_origem'], row['sg_icao_destino'])), axis=1)"
      ]
    },
    {
      "cell_type": "code",
      "execution_count": null,
      "metadata": {
        "id": "RVjKfgzV8uXM"
      },
      "outputs": [],
      "source": [
        "# Visualizando o dataframe:\n",
        "estatisticas.head()"
      ]
    },
    {
      "cell_type": "code",
      "execution_count": null,
      "metadata": {
        "id": "4Q-UR56C8uXN"
      },
      "outputs": [],
      "source": [
        "# Salvando o arquivo \"estatisticas0c.csv\" com a variável distância inclusa.\n",
        "estatisticas.to_csv('./Dados/DemandaeOferta/estatisticas0c.csv', index=False)"
      ]
    },
    {
      "cell_type": "markdown",
      "metadata": {
        "id": "t4c7OBpQ2DIH"
      },
      "source": [
        "###### 4. Inclusão de coluna de Modelo de Aeronave e Número de Assentos nas Estatisticas Combinadas 2020\n",
        "Salvos em ./Dados/DemandaeOferta/estatisticas0c_filtered.csv\n",
        "\n",
        "**Descrição:** Apesar dos banco de dados de estatísticas combinadas dos voos serem mais adequados para a pesquisa, por representarem a origem e destino dos passageiros no voo - independentemente das escalas realizadas - um grande limitador desses bancos foi a carência de algumas variáveis essenciais para as análises da pesquisa, como o Modelo da Aeronave, Número de Assentos e - principalmente - das Tarifas praticadas para cada voo.\n",
        "\n",
        "As etapas subsequentes foram realizadas para a inclusão dessas variáveis nos arquivos de estatísticas combinadas, a partir da correlação entre os arquivos de estatisticas básicas e tarifas. As correlações foram realizadas a partir das combinações entre as variáveis-chaves dos arquivos."
      ]
    },
    {
      "cell_type": "code",
      "execution_count": null,
      "metadata": {
        "id": "UzP4fn982DIH"
      },
      "outputs": [],
      "source": [
        "# Leitura dos arquivos:\n",
        "estatisticasc = pd.read_csv(\"./Dados/DemandaeOferta/estatisticas0c.csv\")\n",
        "estatisticasb = pd.read_csv(\"./Dados/DemandaeOferta/estatisticas0.csv\")"
      ]
    },
    {
      "cell_type": "code",
      "execution_count": null,
      "metadata": {
        "id": "aW8B5mPI2DIH"
      },
      "outputs": [],
      "source": [
        "# Filtrando o dataframe estatisticas básicas por empresas desejadas:\n",
        "empresas_desejadas = [\"ACN\", \"PAM\", \"ASO\", \"AZU\", \"PTB\", \"ABJ\"]\n",
        "estatisticasb_filtrado = estatisticasb[estatisticasb['sg_empresa_icao'].isin(empresas_desejadas)]"
      ]
    },
    {
      "cell_type": "code",
      "execution_count": null,
      "metadata": {
        "id": "2yh5mviT2DII"
      },
      "outputs": [],
      "source": [
        "# Filtrando o dataframe estatisticas básicas (filtrado) por aeronaves indesejadas:\n",
        "aeronaves_indesejadas = [\"A20N\", \"A21N\", \"A319\", \"A320\", \"A321\", \"A332\", \"A339\", \"A359\", \"B38M\", \"B737\", \"B738\", \"B763\", \"B77W\", \"B789\", \"E195\", \"E295\", \"E190\"]\n",
        "condiçao = estatisticasb_filtrado['sg_equipamento_icao'].isin(aeronaves_indesejadas)\n",
        "estatisticasb_filtrado = estatisticasb_filtrado[~condiçao]"
      ]
    },
    {
      "cell_type": "code",
      "execution_count": null,
      "metadata": {
        "id": "2F0s8G_i2DII"
      },
      "outputs": [],
      "source": [
        "# Identificando os números de voos com as respectivas aeronaves de interesse:\n",
        "nr_voos = estatisticasb_filtrado['nr_voo'].unique()\n",
        "print(nr_voos)"
      ]
    },
    {
      "cell_type": "code",
      "execution_count": null,
      "metadata": {
        "id": "b6GXE0B22DII"
      },
      "outputs": [],
      "source": [
        "# Filtrando os números de voos encontrados das estatisticas combinadas:\n",
        "estatisticasc_filtrado = estatisticasc[estatisticasc['nr_voo'].isin(nr_voos)]"
      ]
    },
    {
      "cell_type": "code",
      "execution_count": null,
      "metadata": {
        "id": "jtTNE8Ph2DII"
      },
      "outputs": [],
      "source": [
        "# Filtrando o dataframe estatisticas combinadas (filtrado) por empresas desejadas:\n",
        "empresas_desejadas = ['PAM', 'ABJ', 'ACN', 'PTB', 'AZU', 'ASO']\n",
        "estatisticasc_filtrado = estatisticasc_filtrado[estatisticasc_filtrado['sg_empresa_icao'].isin(empresas_desejadas)]"
      ]
    },
    {
      "cell_type": "code",
      "execution_count": null,
      "metadata": {
        "id": "dfmB-tHG2DII"
      },
      "outputs": [],
      "source": [
        "estatisticasc_filtrado['sg_empresa_icao'].unique()"
      ]
    },
    {
      "cell_type": "code",
      "execution_count": null,
      "metadata": {
        "id": "yof-MYLS2DII"
      },
      "outputs": [],
      "source": [
        "# Incluindo a coluna ICAO de aeronave na estatistica combinada\n",
        "# Criando um dicionário com as correspondências entre nr_voo/sg_empresa_origem e sg_equipamento_icao\n",
        "correspondencias = estatisticasb_filtrado.set_index(['nr_voo', 'sg_empresa_icao'])['sg_equipamento_icao'].to_dict()"
      ]
    },
    {
      "cell_type": "code",
      "execution_count": null,
      "metadata": {
        "id": "sRIz_UIp2DII"
      },
      "outputs": [],
      "source": [
        "# Mapeando os valores de nr_voo/sg_empresa_origem e sg_empresa_icao para obter os modelos de aeronaves correspondentes\n",
        "estatisticasc_filtrado['sg_equipamento_icao'] = estatisticasc_filtrado[['nr_voo', 'sg_empresa_icao']].apply(lambda row: correspondencias.get((row['nr_voo'], row['sg_empresa_icao'])), axis=1)"
      ]
    },
    {
      "cell_type": "code",
      "execution_count": null,
      "metadata": {
        "id": "ypvzWlUi2DIJ"
      },
      "outputs": [],
      "source": [
        "# Incluindo a coluna modelo de aeronave na estatistica combinada\n",
        "# Criando um dicionário com as correspondências entre sg_equipamento_icao e ds_modelo\n",
        "correspondencias2 = estatisticasb_filtrado.set_index(['sg_equipamento_icao'])['ds_modelo'].to_dict()"
      ]
    },
    {
      "cell_type": "code",
      "execution_count": null,
      "metadata": {
        "id": "SPNxzmxD2DIJ"
      },
      "outputs": [],
      "source": [
        "# Mapeando os valores de sg_empresa_icao e ds_modelo para obter os modelos de aeronaves correspondentes\n",
        "estatisticasc_filtrado['ds_modelo'] = estatisticasc_filtrado[['sg_equipamento_icao']].apply(lambda row: correspondencias2.get((row['sg_equipamento_icao'])), axis=1)"
      ]
    },
    {
      "cell_type": "code",
      "execution_count": null,
      "metadata": {
        "id": "qcaUvk4v2DIJ"
      },
      "outputs": [],
      "source": [
        "# Incluindo a coluna assentos ofertados na estatistica combinada\n",
        "# Criando um dicionário com as correspondências entre nr_voo/sg_empresa_icao/sg_equipamento_icao e nr_assentos_ofertados\n",
        "correspondencias3 = estatisticasb_filtrado.set_index(['nr_voo', 'sg_empresa_icao', 'sg_equipamento_icao'])['nr_assentos_ofertados'].to_dict()"
      ]
    },
    {
      "cell_type": "code",
      "execution_count": null,
      "metadata": {
        "id": "mKPSrmmW2DIJ"
      },
      "outputs": [],
      "source": [
        "# Mapear os valores de nr_voo/sg_empresa_origem e ds_modelo para obter os modelos de aeronaves correspondentes\n",
        "estatisticasc_filtrado['nr_assentos_ofertados'] = estatisticasc_filtrado[['nr_voo', 'sg_empresa_icao', 'sg_equipamento_icao']].apply(lambda row: correspondencias3.get((row['nr_voo'], row['sg_empresa_icao'], row['sg_equipamento_icao'])), axis=1)"
      ]
    },
    {
      "cell_type": "code",
      "execution_count": null,
      "metadata": {
        "id": "u1KpvQki2DIJ"
      },
      "outputs": [],
      "source": [
        "estatisticasc_filtrado.head()"
      ]
    },
    {
      "cell_type": "code",
      "execution_count": null,
      "metadata": {
        "id": "4BowySvL2DIJ"
      },
      "outputs": [],
      "source": [
        "estatisticasc_filtrado.shape"
      ]
    },
    {
      "cell_type": "code",
      "execution_count": null,
      "metadata": {
        "id": "PGWw0MST2DIJ"
      },
      "outputs": [],
      "source": [
        "# Salvando o arquivo \"estatisticas0c_filtered.csv\":\n",
        "estatisticasc_filtrado.to_csv('./Dados/DemandaeOferta/estatisticas0c_filtered.csv', index=False)"
      ]
    },
    {
      "cell_type": "markdown",
      "metadata": {
        "id": "suGefAKM2JRa"
      },
      "source": [
        "##### 5. Inclusão da coluna de Tarifas nas Estatisticas Combinadas 2020\n",
        "Salvos em ./Dados/DemandaeOferta/estatisticas0c_filtered.csv\n",
        "\n",
        "**Descrição:** Para incluir a variável Tarifas nos arquivos de estatisticas combinadas, foi necessário criar uma variável de semestre, pois a variável mês do arquivo tarifas não corresponde à variável mês do arquivo estatisticas combinadas. Isso ocorre, porque o mês de compra da passagem não corresponde necessariamente ao mês do voo.\n",
        "\n",
        "Dessa forma, a criação da variável semestre foi uma tentativa de aproximação das variáveis para correlacionar ambos os bancos de dados e obter a variável tarifa para cada voo no arquivo estatisticas combinadas."
      ]
    },
    {
      "cell_type": "code",
      "execution_count": null,
      "metadata": {
        "id": "N8p76jQj2JRd"
      },
      "outputs": [],
      "source": [
        "# Leitura do arquivo:\n",
        "estatisticas = pd.read_csv('./Dados/DemandaeOferta/estatisticas0c_filtered.csv')"
      ]
    },
    {
      "cell_type": "code",
      "execution_count": null,
      "metadata": {
        "id": "InfLQ0-Z2JRf"
      },
      "outputs": [],
      "source": [
        "#Criando a coluna SEMESTRE\n",
        "estatisticas['SEMESTRE'] = pd.cut(estatisticas['nr_mes_partida_real'], bins=[0, 6, 12], labels=[1, 2])"
      ]
    },
    {
      "cell_type": "code",
      "execution_count": null,
      "metadata": {
        "id": "4xMe5Va52JRh"
      },
      "outputs": [],
      "source": [
        "#Incluindo a coluna das empresas que comercializam as passagens (sg_comercializa_icao)\n",
        "empresas = {\n",
        "    \"PAM\": \"PTB\",\n",
        "    \"PTB\": \"PTB\",\n",
        "    \"ACN\": \"AZU\",\n",
        "    \"AZU\": \"AZU\",\n",
        "    \"ABJ\": \"ABJ\"\n",
        "}\n",
        "estatisticas['sg_comercializa_icao'] = estatisticas['sg_empresa_icao'].map(empresas)"
      ]
    },
    {
      "cell_type": "code",
      "execution_count": null,
      "metadata": {
        "id": "x_BsfT2k2JRi"
      },
      "outputs": [],
      "source": [
        "estatisticas.head()"
      ]
    },
    {
      "cell_type": "markdown",
      "metadata": {
        "id": "Kn8J1iiO2VhL"
      },
      "source": [
        "###### Adequação do arquivo tarifas0.csv\n",
        "\n",
        "\n",
        "**Descrição:** Após a criação da variável semestre, foi necessária a criação da variável tarifa ponderada, qua consiste na média ponderada das tarifas praticadas para o mesmo grupo ('ANO', 'SEMESTRE', 'EMPRESA', 'ORIGEM', 'DESTINO'), ponderadas pela quantidade de assentos.\n",
        "\n",
        "Após a criação da variável tarifa ponderada, foram calculados os desvios padrões das tarifas ponderadas."
      ]
    },
    {
      "cell_type": "code",
      "execution_count": null,
      "metadata": {
        "id": "lhkqoqLR2VhM"
      },
      "outputs": [],
      "source": [
        "# Leitura do arquivo:\n",
        "tarifas = pd.read_csv('./Dados/Tarifas/tarifas0.csv')"
      ]
    },
    {
      "cell_type": "code",
      "execution_count": null,
      "metadata": {
        "id": "bSvi6bYs2VhM"
      },
      "outputs": [],
      "source": [
        "#Criando a coluna SEMESTRE\n",
        "tarifas['SEMESTRE'] = pd.cut(tarifas['MES'], bins=[0, 6, 12], labels=[1, 2])"
      ]
    },
    {
      "cell_type": "code",
      "execution_count": null,
      "metadata": {
        "id": "ey5zRY_r2VhM"
      },
      "outputs": [],
      "source": [
        "#Criando a coluna média ponderada das Tarifas\n",
        "tarifas['produto'] = tarifas['TARIFA'] * tarifas['ASSENTOS']\n",
        "soma_ponderada = tarifas.groupby(['ANO', 'SEMESTRE', 'EMPRESA', 'ORIGEM', 'DESTINO'])['produto'].sum()\n",
        "soma_assentos = tarifas.groupby(['ANO', 'SEMESTRE', 'EMPRESA', 'ORIGEM', 'DESTINO'])['ASSENTOS'].sum()\n",
        "TARIFA_PONDERADA = soma_ponderada / soma_assentos"
      ]
    },
    {
      "cell_type": "code",
      "execution_count": null,
      "metadata": {
        "id": "DHy3KFkR2VhM"
      },
      "outputs": [],
      "source": [
        "# Adicionando a variável TARIFA_PONDERADA ao dataframe:\n",
        "tarifas = tarifas.merge(TARIFA_PONDERADA.rename('TARIFA_PONDERADA'), left_on=['ANO', 'SEMESTRE', 'EMPRESA', 'ORIGEM', 'DESTINO'], right_index=True)"
      ]
    },
    {
      "cell_type": "code",
      "execution_count": null,
      "metadata": {
        "id": "ae77Qlrv2VhM"
      },
      "outputs": [],
      "source": [
        "# Excluindo a variável criada provisoriamente para o cálculo da média ponderada da tarifa:\n",
        "tarifas = tarifas.drop(columns='produto')"
      ]
    },
    {
      "cell_type": "code",
      "execution_count": null,
      "metadata": {
        "id": "kWU11LuW2VhM"
      },
      "outputs": [],
      "source": [
        "tarifas.head()"
      ]
    },
    {
      "cell_type": "code",
      "execution_count": null,
      "metadata": {
        "id": "KBDrPJ3u2VhM"
      },
      "outputs": [],
      "source": [
        "# Incluindo a coluna tarifas na estatistica combinada\n",
        "# Criando um dicionário com as correspondências entre MES/EMPRESA/ORIGEM/DESTINO e TARIFA\n",
        "correspondencias = tarifas.set_index(['SEMESTRE', 'EMPRESA', 'ORIGEM', 'DESTINO'])['TARIFA_PONDERADA'].to_dict()"
      ]
    },
    {
      "cell_type": "code",
      "execution_count": null,
      "metadata": {
        "id": "JeFEWPSg2VhN"
      },
      "outputs": [],
      "source": [
        "# Mapeando os valores de nr_mes_partida_real/sg_empresa_icao/sg_icao_origem/sg_icao_destino e tarifa para obter os modelos de aeronaves correspondentes\n",
        "estatisticas['tarifa_ponderada'] = estatisticas[['SEMESTRE', 'sg_comercializa_icao', 'sg_icao_origem', 'sg_icao_destino']].apply(lambda row: correspondencias.get((row['SEMESTRE'], row['sg_comercializa_icao'], row['sg_icao_origem'], row['sg_icao_destino'])), axis=1)"
      ]
    },
    {
      "cell_type": "code",
      "execution_count": null,
      "metadata": {
        "id": "6uBn_kxF2VhN"
      },
      "outputs": [],
      "source": [
        "estatisticas.head()"
      ]
    },
    {
      "cell_type": "code",
      "execution_count": null,
      "metadata": {
        "id": "9JZd9vzU2VhN"
      },
      "outputs": [],
      "source": [
        "#Calculando o Desvio Padrão\n",
        "tarifas['desvio'] = tarifas['ASSENTOS'] * (tarifas['TARIFA'] - tarifas['TARIFA_PONDERADA'])**2\n",
        "soma_desvio = tarifas.groupby(['ANO', 'SEMESTRE', 'EMPRESA', 'ORIGEM', 'DESTINO'])['desvio'].sum()\n",
        "soma_assentos = tarifas.groupby(['ANO', 'SEMESTRE', 'EMPRESA', 'ORIGEM', 'DESTINO'])['ASSENTOS'].sum()\n",
        "desvio_padrao = np.sqrt(soma_desvio / (soma_assentos - 1))"
      ]
    },
    {
      "cell_type": "code",
      "execution_count": null,
      "metadata": {
        "id": "5MnqKcip2VhN"
      },
      "outputs": [],
      "source": [
        "# Agora, vamos adicionar essa série ao dataframe original\n",
        "tarifas = tarifas.merge(desvio_padrao.rename('DESVIO_PADRAO'), left_on=['ANO', 'SEMESTRE', 'EMPRESA', 'ORIGEM', 'DESTINO'], right_index=True)"
      ]
    },
    {
      "cell_type": "code",
      "execution_count": null,
      "metadata": {
        "id": "2-461uB92VhN"
      },
      "outputs": [],
      "source": [
        "tarifas = tarifas.drop(columns='desvio')"
      ]
    },
    {
      "cell_type": "code",
      "execution_count": null,
      "metadata": {
        "id": "WOKTMcR22VhN"
      },
      "outputs": [],
      "source": [
        "tarifas.head()"
      ]
    },
    {
      "cell_type": "code",
      "execution_count": null,
      "metadata": {
        "id": "4GpESLAW2VhO"
      },
      "outputs": [],
      "source": [
        "# Incluindo a coluna DESVIO_PADRAO na estatistica combinada\n",
        "# Criando um dicionário com as correspondências entre SEMESTRE/EMPRESA/ORIGEM/DESTINO/TARIFA_PONDERADA e DESVIO_PADRAO\n",
        "correspondencias = tarifas.set_index(['SEMESTRE', 'EMPRESA', 'ORIGEM', 'DESTINO', 'TARIFA_PONDERADA'])['DESVIO_PADRAO'].to_dict()"
      ]
    },
    {
      "cell_type": "code",
      "execution_count": null,
      "metadata": {
        "id": "v9PaRzlm2VhO"
      },
      "outputs": [],
      "source": [
        "# Mapeando os valores de SEMESTRE/sg_empresa_icao/sg_icao_origem/sg_icao_destino/tarifa para obter o desvio_padrao correspondente\n",
        "estatisticas['desvio_padrao'] = estatisticas[['SEMESTRE', 'sg_comercializa_icao', 'sg_icao_origem', 'sg_icao_destino', 'tarifa_ponderada']].apply(lambda row: correspondencias.get((row['SEMESTRE'], row['sg_comercializa_icao'], row['sg_icao_origem'], row['sg_icao_destino'], row['tarifa_ponderada'])), axis=1)"
      ]
    },
    {
      "cell_type": "code",
      "execution_count": null,
      "metadata": {
        "id": "-L1Jfvx22VhO"
      },
      "outputs": [],
      "source": [
        "estatisticas.head()"
      ]
    },
    {
      "cell_type": "code",
      "execution_count": null,
      "metadata": {
        "id": "OH2hMWGi2VhO"
      },
      "outputs": [],
      "source": [
        "# Salvando o arquivo \"estatisticas0c_filtered.csv\" com as novas variáveis:\n",
        "estatisticas.to_csv('./Dados/DemandaeOferta/estatisticas0c_filtered.csv', index=False)"
      ]
    },
    {
      "cell_type": "markdown",
      "metadata": {
        "id": "MLYnsTlxxTBM"
      },
      "source": [
        "#### Etapa II.III. Organização e Transformação dos Dados - Estatisticas Combinadas 2021"
      ]
    },
    {
      "cell_type": "markdown",
      "metadata": {
        "id": "rcQglvFD38YJ"
      },
      "source": [
        "##### 1. Leitura e agrupamento de arquivos de estatísticas combinadas 2021\n",
        "\n",
        "Salvo em ./Dados/DemandaeOferta/2021_combinada.csv\n",
        "\n",
        "**Descrição:** Nesta etapa foi realizada a leitura e agrupamento dos arquivos de estatisticas combinadas disponibilizados pela ANAC para 2021."
      ]
    },
    {
      "cell_type": "code",
      "execution_count": null,
      "metadata": {
        "id": "Cb_wlhPL38YK"
      },
      "outputs": [],
      "source": [
        "# Leitura do arquivo:\n",
        "files = ['combinada2021-01.zip', 'combinada2021-02.zip','combinada2021-03.zip',\n",
        "         'combinada2021-04.zip', 'combinada2021-05.zip','combinada2021-06.zip',\n",
        "         'combinada2021-07.zip', 'combinada2021-08.zip','combinada2021-09.zip',\n",
        "         'combinada2021-10.zip', 'combinada2021-11.zip','combinada2021-12.zip']"
      ]
    },
    {
      "cell_type": "code",
      "execution_count": null,
      "metadata": {
        "id": "NOKt1ZZT38YK"
      },
      "outputs": [],
      "source": [
        "# Criando o dataframe:\n",
        "df = pd.DataFrame()"
      ]
    },
    {
      "cell_type": "code",
      "execution_count": null,
      "metadata": {
        "id": "dBg5i8Iz38YK"
      },
      "outputs": [],
      "source": [
        "# Concatenando os arquivos no dataframe:\n",
        "for file in files:\n",
        "  print(file)\n",
        "  data = pd.read_csv(f'./Dados/DemandaeOferta/2021_combinada/{file}',\n",
        "                     encoding='cp1252', delimiter = ';',low_memory=False)\n",
        "  df = pd.concat([df, data], axis=0,ignore_index=True)"
      ]
    },
    {
      "cell_type": "code",
      "execution_count": null,
      "metadata": {
        "id": "dN-MkGuq38YK"
      },
      "outputs": [],
      "source": [
        "# Visualizando o dataframe:\n",
        "df.head()"
      ]
    },
    {
      "cell_type": "code",
      "execution_count": null,
      "metadata": {
        "id": "LPjxIGWt38YK"
      },
      "outputs": [],
      "source": [
        "# Salvando o arquivo \"estatisticas_2021_combinadas.csv\":\n",
        "df.to_csv('./Dados/DemandaeOferta/estatisticas_2021_combinadas.csv', index=False)"
      ]
    },
    {
      "cell_type": "markdown",
      "metadata": {
        "id": "d_CT9FWt4qhH"
      },
      "source": [
        "##### 2. Obtenção das estatísticas combinadas de Demanda e Oferta em 2021\n",
        "\n",
        "Salvo em /Dados/Estatisticas/estatisticas1c.csv\n",
        "\n",
        "**Descrição:** Nesta etapa foi realizada a transformação do arquivo estatisticas_2021_combinadas.csv."
      ]
    },
    {
      "cell_type": "code",
      "execution_count": null,
      "metadata": {
        "id": "x5Mve7LV4qhH"
      },
      "outputs": [],
      "source": [
        "# Leitura do arquivo:\n",
        "dados_estatisticas = pd.read_csv('./Dados/DemandaeOferta/estatisticas_2021_combinadas.csv',\n",
        "                                 low_memory=False)"
      ]
    },
    {
      "cell_type": "code",
      "execution_count": null,
      "metadata": {
        "id": "klyme9LI4qhI"
      },
      "outputs": [],
      "source": [
        "# Dimensão do arquivo:\n",
        "dados_estatisticas.shape"
      ]
    },
    {
      "cell_type": "code",
      "execution_count": null,
      "metadata": {
        "id": "91PGT4FS4qhI"
      },
      "outputs": [],
      "source": [
        "dados_estatisticas['nr_mes_referencia'].unique()"
      ]
    },
    {
      "cell_type": "code",
      "execution_count": null,
      "metadata": {
        "id": "Ww-qT91w4qhI"
      },
      "outputs": [],
      "source": [
        "dados_estatisticas.columns"
      ]
    },
    {
      "cell_type": "code",
      "execution_count": null,
      "metadata": {
        "id": "a2gEncxV4qhI"
      },
      "outputs": [],
      "source": [
        "# Filtrando o dataframe com a natureza da etapa de voo = doméstica, serviço referente ao tipo de linha = passageiro e tipo de Voo = regular:\n",
        "dados_estatisticas = dados_estatisticas[\n",
        "    (dados_estatisticas['ds_natureza_etapa'] == 'DOMÉSTICA') & \\\n",
        "    (dados_estatisticas['ds_servico_tipo_linha'] == 'PASSAGEIRO') & \\\n",
        "    (dados_estatisticas['ds_grupo_di'] == 'REGULAR')]\n",
        "# Com isso, foram excluídos os dados que não serão trabalhados nessa pesquisa."
      ]
    },
    {
      "cell_type": "code",
      "execution_count": null,
      "metadata": {
        "id": "Pm129Jlo4qhI"
      },
      "outputs": [],
      "source": [
        "dados_estatisticas.info()"
      ]
    },
    {
      "cell_type": "code",
      "execution_count": null,
      "metadata": {
        "id": "KNX9pldF4qhI"
      },
      "outputs": [],
      "source": [
        "# Exclusão dos dados vazios do dataframe (NA)\n",
        "dados_estatisticas.isna().sum()"
      ]
    },
    {
      "cell_type": "code",
      "execution_count": null,
      "metadata": {
        "id": "UwAxm9RF4qhI"
      },
      "outputs": [],
      "source": [
        "# Exclusão das variáveis que não serão estudadas na pesquisa:\n",
        "dados_estatisticas = dados_estatisticas.drop(columns=\n",
        "    ['id_combinada','id_empresa','sg_empresa_iata','nm_pais','ds_tipo_empresa',\n",
        "     'nr_singular','id_di','cd_di','ds_di','ds_grupo_di','dt_referencia',\n",
        "     'nr_ano_referencia','nr_semestre_referencia','nm_semestre_referencia',\n",
        "     'nr_trimestre_referencia','nm_trimestre_referencia','nr_mes_referencia',\n",
        "     'nm_mes_referencia','nr_semana_referencia','nm_dia_semana_referencia',\n",
        "     'nr_dia_referencia','nr_ano_mes_referencia','id_tipo_linha',\n",
        "     'cd_tipo_linha','ds_tipo_linha','ds_natureza_tipo_linha','ds_servico_tipo_linha',\n",
        "     'ds_natureza_etapa','nr_ano_partida_real','nr_semestre_partida_real',\n",
        "     'nm_semestre_partida_real','nr_trimestre_partida_real','nm_trimestre_partida_real',\n",
        "     'nm_mes_partida_real','nr_ano_mes_partida_real','id_aerodromo_origem',\n",
        "     'nm_aerodromo_origem','nm_municipio_origem','nm_pais_origem','nm_continente_origem',\n",
        "     'nr_ano_chegada_real','nr_semestre_chegada_real','nm_semestre_chegada_real',\n",
        "     'nr_trimestre_chegada_real','nm_trimestre_chegada_real','nm_mes_chegada_real',\n",
        "     'nr_ano_mes_chegada_real','id_aerodromo_destino','nm_aerodromo_destino',\n",
        "     'nm_municipio_destino','nm_regiao_destino','nm_pais_destino','nm_continente_destino',\n",
        "     'nr_escala_destino','id_arquivo','nm_arquivo','nr_linha','dt_sistema']\n",
        ")"
      ]
    },
    {
      "cell_type": "code",
      "execution_count": null,
      "metadata": {
        "id": "Bj91ABiY4qhI"
      },
      "outputs": [],
      "source": [
        "# Dimensão do dataframe:\n",
        "dados_estatisticas.shape"
      ]
    },
    {
      "cell_type": "code",
      "execution_count": null,
      "metadata": {
        "id": "lKf5qcND4qhI"
      },
      "outputs": [],
      "source": [
        "# Salvando o arquivo \"estatisticas1c.csv\":\n",
        "dados_estatisticas.to_csv('./Dados/DemandaeOferta/estatisticas1c.csv',\n",
        "                          index=False)"
      ]
    },
    {
      "cell_type": "markdown",
      "metadata": {
        "id": "pyDvV9lb56kP"
      },
      "source": [
        "##### 3. Inclusão de coluna de distancia nas Estatisticas Combinadas 2021\n",
        "\n",
        "Salvos em ./Dados/DemandaeOferta/estatisticas1c.csv\n",
        "\n",
        "**Descrição:** Para a análise do dataframe, é interessante ter a variável distância correlacionada às estatísticas combinadas. Para isso, foram identificadas as variáveis correspondentes aos aeroportos de origem e destino de cada voo no arquivo estatisticas1c e correlacionadas às distâncias do arquivo distancias2."
      ]
    },
    {
      "cell_type": "code",
      "execution_count": null,
      "metadata": {
        "id": "6CzUAdkR56kQ"
      },
      "outputs": [],
      "source": [
        "# Leitura dos arquivos:\n",
        "estatisticas = pd.read_csv('./Dados/DemandaeOferta/estatisticas1c.csv')"
      ]
    },
    {
      "cell_type": "code",
      "execution_count": null,
      "metadata": {
        "id": "tUW89uU356kQ"
      },
      "outputs": [],
      "source": [
        "distancia = pd.read_csv('./Dados/Aerodromos/distancias2.csv')"
      ]
    },
    {
      "cell_type": "code",
      "execution_count": null,
      "metadata": {
        "id": "3aK7Xm-S56kQ"
      },
      "outputs": [],
      "source": [
        "# Criando um dicionário com as correspondências entre origem e destino, com as distancias (km):\n",
        "correspondencias = distancia.set_index(['orig', 'dest'])['dist'].to_dict()"
      ]
    },
    {
      "cell_type": "code",
      "execution_count": null,
      "metadata": {
        "id": "02TL8IGI56kQ"
      },
      "outputs": [],
      "source": [
        "# Criando a variável km_distancia e mapeando os valores de orig/sg_icao_origem e dest/sg_icao_destino para obter as distâncias correspondentes:\n",
        "estatisticas['km_distancia'] = estatisticas[['sg_icao_origem', 'sg_icao_destino']].apply(lambda row: correspondencias.get((row['sg_icao_origem'], row['sg_icao_destino'])), axis=1)"
      ]
    },
    {
      "cell_type": "code",
      "execution_count": null,
      "metadata": {
        "id": "-6FnlhBI56kQ"
      },
      "outputs": [],
      "source": [
        "# Visualizando o dataframe:\n",
        "estatisticas.head()"
      ]
    },
    {
      "cell_type": "code",
      "execution_count": null,
      "metadata": {
        "id": "x5r4LbA156kR"
      },
      "outputs": [],
      "source": [
        "# Salvando o arquivo \"estatisticas9c.csv\" com a variável distância inclusa.\n",
        "estatisticas.to_csv('./Dados/DemandaeOferta/estatisticas1c.csv', index=False)"
      ]
    },
    {
      "cell_type": "markdown",
      "metadata": {
        "id": "pEZpO9A5xxt-"
      },
      "source": [
        "###### 4. Inclusão de coluna de Modelo de Aeronave e Número de Assentos nas Estatisticas Combinadas 2021\n",
        "Salvos em ./Dados/DemandaeOferta/estatisticas1c_filtered.csv\n",
        "\n",
        "**Descrição:** Apesar dos banco de dados de estatísticas combinadas dos voos serem mais adequados para a pesquisa, por representarem a origem e destino dos passageiros no voo - independentemente das escalas realizadas - um grande limitador desses bancos foi a carência de algumas variáveis essenciais para as análises da pesquisa, como o Modelo da Aeronave, Número de Assentos e - principalmente - das Tarifas praticadas para cada voo.\n",
        "\n",
        "As etapas subsequentes foram realizadas para a inclusão dessas variáveis nos arquivos de estatísticas combinadas, a partir da correlação entre os arquivos de estatisticas básicas e tarifas. As correlações foram realizadas a partir das combinações entre as variáveis-chaves dos arquivos."
      ]
    },
    {
      "cell_type": "code",
      "execution_count": null,
      "metadata": {
        "id": "7GYscztDxxt-"
      },
      "outputs": [],
      "source": [
        "# Leitura dos arquivos:\n",
        "estatisticasc = pd.read_csv(\"./Dados/DemandaeOferta/estatisticas1c.csv\")\n",
        "estatisticasb = pd.read_csv(\"./Dados/DemandaeOferta/estatisticas1.csv\")"
      ]
    },
    {
      "cell_type": "code",
      "execution_count": null,
      "metadata": {
        "id": "o8fto8tYxxt_"
      },
      "outputs": [],
      "source": [
        "# Filtrando o dataframe estatisticas básicas por empresas desejadas:\n",
        "empresas_desejadas = [\"ACN\", \"PAM\", \"ASO\", \"AZU\", \"PTB\", \"ABJ\"]\n",
        "estatisticasb_filtrado = estatisticasb[estatisticasb['sg_empresa_icao'].isin(empresas_desejadas)]"
      ]
    },
    {
      "cell_type": "code",
      "execution_count": null,
      "metadata": {
        "id": "qqLiwmhYxxt_"
      },
      "outputs": [],
      "source": [
        "# Filtrando o dataframe estatisticas básicas (filtrado) por aeronaves indesejadas:\n",
        "aeronaves_indesejadas = [\"A20N\", \"A21N\", \"A319\", \"A320\", \"A321\", \"A332\", \"A339\", \"A359\", \"B38M\", \"B737\", \"B738\", \"B763\", \"B77W\", \"B789\", \"E195\", \"E295\", \"E190\"]\n",
        "condiçao = estatisticasb_filtrado['sg_equipamento_icao'].isin(aeronaves_indesejadas)\n",
        "estatisticasb_filtrado = estatisticasb_filtrado[~condiçao]"
      ]
    },
    {
      "cell_type": "code",
      "execution_count": null,
      "metadata": {
        "id": "2VhC6WEIxxuA"
      },
      "outputs": [],
      "source": [
        "# Identificando os números de voos com as respectivas aeronaves de interesse:\n",
        "nr_voos = estatisticasb_filtrado['nr_voo'].unique()\n",
        "print(nr_voos)"
      ]
    },
    {
      "cell_type": "code",
      "execution_count": null,
      "metadata": {
        "id": "-XUxqwGHxxuA"
      },
      "outputs": [],
      "source": [
        "# Filtrando os números de voos encontrados das estatisticas combinadas:\n",
        "estatisticasc_filtrado = estatisticasc[estatisticasc['nr_voo'].isin(nr_voos)]"
      ]
    },
    {
      "cell_type": "code",
      "execution_count": null,
      "metadata": {
        "id": "8zwqZoodxxuA"
      },
      "outputs": [],
      "source": [
        "# Filtrando o dataframe estatisticas combinadas (filtrado) por empresas desejadas:\n",
        "empresas_desejadas = ['PAM', 'ABJ', 'ACN', 'PTB', 'AZU', 'ASO']\n",
        "estatisticasc_filtrado = estatisticasc_filtrado[estatisticasc_filtrado['sg_empresa_icao'].isin(empresas_desejadas)]"
      ]
    },
    {
      "cell_type": "code",
      "execution_count": null,
      "metadata": {
        "id": "bHGjTyuBxxuB"
      },
      "outputs": [],
      "source": [
        "estatisticasc_filtrado['sg_empresa_icao'].unique()"
      ]
    },
    {
      "cell_type": "code",
      "execution_count": null,
      "metadata": {
        "id": "8ct0SE7zxxuB"
      },
      "outputs": [],
      "source": [
        "# Incluindo a coluna ICAO de aeronave na estatistica combinada\n",
        "# Criando um dicionário com as correspondências entre nr_voo/sg_empresa_origem e sg_equipamento_icao\n",
        "correspondencias = estatisticasb_filtrado.set_index(['nr_voo', 'sg_empresa_icao'])['sg_equipamento_icao'].to_dict()"
      ]
    },
    {
      "cell_type": "code",
      "execution_count": null,
      "metadata": {
        "id": "xUHqm0U5xxuB"
      },
      "outputs": [],
      "source": [
        "# Mapeando os valores de nr_voo/sg_empresa_origem e sg_empresa_icao para obter os modelos de aeronaves correspondentes\n",
        "estatisticasc_filtrado['sg_equipamento_icao'] = estatisticasc_filtrado[['nr_voo', 'sg_empresa_icao']].apply(lambda row: correspondencias.get((row['nr_voo'], row['sg_empresa_icao'])), axis=1)"
      ]
    },
    {
      "cell_type": "code",
      "execution_count": null,
      "metadata": {
        "id": "m12W8RsvxxuB"
      },
      "outputs": [],
      "source": [
        "# Incluindo a coluna modelo de aeronave na estatistica combinada\n",
        "# Criando um dicionário com as correspondências entre sg_equipamento_icao e ds_modelo\n",
        "correspondencias2 = estatisticasb_filtrado.set_index(['sg_equipamento_icao'])['ds_modelo'].to_dict()"
      ]
    },
    {
      "cell_type": "code",
      "execution_count": null,
      "metadata": {
        "id": "vqfixFOUxxuB"
      },
      "outputs": [],
      "source": [
        "# Criando os valores de sg_empresa_icao e ds_modelo para obter os modelos de aeronaves correspondentes\n",
        "estatisticasc_filtrado['ds_modelo'] = estatisticasc_filtrado[['sg_equipamento_icao']].apply(lambda row: correspondencias2.get((row['sg_equipamento_icao'])), axis=1)"
      ]
    },
    {
      "cell_type": "code",
      "execution_count": null,
      "metadata": {
        "id": "o6RdsiuIxxuC"
      },
      "outputs": [],
      "source": [
        "# Incluindo a coluna assentos ofertados na estatistica combinada\n",
        "# Criando um dicionário com as correspondências entre nr_voo/sg_empresa_icao/sg_equipamento_icao e nr_assentos_ofertados\n",
        "correspondencias3 = estatisticasb_filtrado.set_index(['nr_voo', 'sg_empresa_icao', 'sg_equipamento_icao'])['nr_assentos_ofertados'].to_dict()"
      ]
    },
    {
      "cell_type": "code",
      "execution_count": null,
      "metadata": {
        "id": "MUTu5R-oxxuC"
      },
      "outputs": [],
      "source": [
        "# Mapeando os valores de nr_voo/sg_empresa_origem e ds_modelo para obter os modelos de aeronaves correspondentes\n",
        "estatisticasc_filtrado['nr_assentos_ofertados'] = estatisticasc_filtrado[['nr_voo', 'sg_empresa_icao', 'sg_equipamento_icao']].apply(lambda row: correspondencias3.get((row['nr_voo'], row['sg_empresa_icao'], row['sg_equipamento_icao'])), axis=1)"
      ]
    },
    {
      "cell_type": "code",
      "execution_count": null,
      "metadata": {
        "id": "2ph-d7q2xxuC"
      },
      "outputs": [],
      "source": [
        "estatisticasc_filtrado.head()"
      ]
    },
    {
      "cell_type": "code",
      "execution_count": null,
      "metadata": {
        "id": "KdoVhLGgxxuC"
      },
      "outputs": [],
      "source": [
        "estatisticasc_filtrado[estatisticasc_filtrado[\"sg_empresa_icao\"] == \"ABJ\"]"
      ]
    },
    {
      "cell_type": "code",
      "execution_count": null,
      "metadata": {
        "id": "Zq6nY_ZhxxuD"
      },
      "outputs": [],
      "source": [
        "# Salvando o arquivo \"estatisticas1c_filtered.csv\":\n",
        "estatisticasc_filtrado.to_csv('./Dados/DemandaeOferta/estatisticas1c_filtered.csv', index=False)"
      ]
    },
    {
      "cell_type": "markdown",
      "metadata": {
        "id": "odcfC7M5x--c"
      },
      "source": [
        "##### 5. Inclusão da coluna de Tarifas nas Estatisticas Combinadas 2021\n",
        "Salvos em ./Dados/DemandaeOferta/estatisticas1c_filtered.csv\n",
        "\n",
        "**Descrição:** Para incluir a variável Tarifas nos arquivos de estatisticas combinadas, foi necessário criar uma variável de semestre, pois a variável mês do arquivo tarifas não corresponde à variável mês do arquivo estatisticas combinadas. Isso ocorre, porque o mês de compra da passagem não corresponde necessariamente ao mês do voo.\n",
        "\n",
        "Dessa forma, a criação da variável semestre foi uma tentativa de aproximação das variáveis para correlacionar ambos os bancos de dados e obter a variável tarifa para cada voo no arquivo estatisticas combinadas."
      ]
    },
    {
      "cell_type": "code",
      "execution_count": null,
      "metadata": {
        "id": "PM5hIQf5x--d"
      },
      "outputs": [],
      "source": [
        "# Leitura do arquivo:\n",
        "estatisticas = pd.read_csv('./Dados/DemandaeOferta/estatisticas1c_filtered.csv')"
      ]
    },
    {
      "cell_type": "code",
      "execution_count": null,
      "metadata": {
        "id": "Bgvw0hxhx--d"
      },
      "outputs": [],
      "source": [
        "#Criando a coluna SEMESTRE\n",
        "estatisticas['SEMESTRE'] = pd.cut(estatisticas['nr_mes_partida_real'], bins=[0, 6, 12], labels=[1, 2])"
      ]
    },
    {
      "cell_type": "code",
      "execution_count": null,
      "metadata": {
        "id": "T3Edx4DZx--d"
      },
      "outputs": [],
      "source": [
        "#Incluindo a coluna das empresas que comercializam as passagens (sg_comercializa_icao)\n",
        "empresas = {\n",
        "    \"PAM\": \"PTB\",\n",
        "    \"PTB\": \"PTB\",\n",
        "    \"ACN\": \"AZU\",\n",
        "    \"AZU\": \"AZU\",\n",
        "    \"ABJ\": \"ABJ\"\n",
        "}\n",
        "estatisticas['sg_comercializa_icao'] = estatisticas['sg_empresa_icao'].map(empresas)"
      ]
    },
    {
      "cell_type": "code",
      "execution_count": null,
      "metadata": {
        "id": "oAbd_gQXx--e"
      },
      "outputs": [],
      "source": [
        "estatisticas.head()"
      ]
    },
    {
      "cell_type": "markdown",
      "metadata": {
        "id": "QUOSkE0CyQ5i"
      },
      "source": [
        "###### Adequação do arquivo tarifas1.csv\n",
        "\n",
        "\n",
        "**Descrição:** Após a criação da variável semestre, foi necessária a criação da variável tarifa ponderada, qua consiste na média ponderada das tarifas praticadas para o mesmo grupo ('ANO', 'SEMESTRE', 'EMPRESA', 'ORIGEM', 'DESTINO'), ponderadas pela quantidade de assentos.\n",
        "\n",
        "Após a criação da variável tarifa ponderada, foram calculados os desvios padrões das tarifas ponderadas."
      ]
    },
    {
      "cell_type": "code",
      "execution_count": null,
      "metadata": {
        "id": "RgQMWcMcyQ5i"
      },
      "outputs": [],
      "source": [
        "# Leitura do arquivo:\n",
        "tarifas = pd.read_csv('./Dados/Tarifas/tarifas1.csv')"
      ]
    },
    {
      "cell_type": "code",
      "execution_count": null,
      "metadata": {
        "id": "NX8Sd3nByQ5i"
      },
      "outputs": [],
      "source": [
        "#Criando a coluna SEMESTRE\n",
        "tarifas['SEMESTRE'] = pd.cut(tarifas['MES'], bins=[0, 6, 12], labels=[1, 2])"
      ]
    },
    {
      "cell_type": "code",
      "execution_count": null,
      "metadata": {
        "id": "ii-eqJumyQ5i"
      },
      "outputs": [],
      "source": [
        "#Criando a coluna média ponderada das Tarifas\n",
        "tarifas['produto'] = tarifas['TARIFA'] * tarifas['ASSENTOS']\n",
        "soma_ponderada = tarifas.groupby(['ANO', 'SEMESTRE', 'EMPRESA', 'ORIGEM', 'DESTINO'])['produto'].sum()\n",
        "soma_assentos = tarifas.groupby(['ANO', 'SEMESTRE', 'EMPRESA', 'ORIGEM', 'DESTINO'])['ASSENTOS'].sum()\n",
        "TARIFA_PONDERADA = soma_ponderada / soma_assentos"
      ]
    },
    {
      "cell_type": "code",
      "execution_count": null,
      "metadata": {
        "id": "LFbK031RyQ5i"
      },
      "outputs": [],
      "source": [
        "# Adicionando a variável TARIFA_PONDERADA ao dataframe:\n",
        "tarifas = tarifas.merge(TARIFA_PONDERADA.rename('TARIFA_PONDERADA'), left_on=['ANO', 'SEMESTRE', 'EMPRESA', 'ORIGEM', 'DESTINO'], right_index=True)"
      ]
    },
    {
      "cell_type": "code",
      "execution_count": null,
      "metadata": {
        "id": "-4lWdBmHyQ5i"
      },
      "outputs": [],
      "source": [
        "# Excluindo a variável criada provisoriamente para o cálculo da média ponderada da tarifa:\n",
        "tarifas = tarifas.drop(columns='produto')"
      ]
    },
    {
      "cell_type": "code",
      "execution_count": null,
      "metadata": {
        "id": "Q9GMJDCZyQ5j"
      },
      "outputs": [],
      "source": [
        "tarifas.head()"
      ]
    },
    {
      "cell_type": "code",
      "execution_count": null,
      "metadata": {
        "id": "vDbQMrc1yQ5j"
      },
      "outputs": [],
      "source": [
        "# Incluindo a coluna tarifas na estatistica combinada\n",
        "# Criando um dicionário com as correspondências entre MES/EMPRESA/ORIGEM/DESTINO e TARIFA\n",
        "correspondencias = tarifas.set_index(['SEMESTRE', 'EMPRESA', 'ORIGEM', 'DESTINO'])['TARIFA_PONDERADA'].to_dict()"
      ]
    },
    {
      "cell_type": "code",
      "execution_count": null,
      "metadata": {
        "id": "Iww7wwOLyQ5j"
      },
      "outputs": [],
      "source": [
        "# Mapeando os valores de nr_mes_partida_real/sg_empresa_icao/sg_icao_origem/sg_icao_destino e tarifa para obter os modelos de aeronaves correspondentes\n",
        "estatisticas['tarifa_ponderada'] = estatisticas[['SEMESTRE', 'sg_comercializa_icao', 'sg_icao_origem', 'sg_icao_destino']].apply(lambda row: correspondencias.get((row['SEMESTRE'], row['sg_comercializa_icao'], row['sg_icao_origem'], row['sg_icao_destino'])), axis=1)"
      ]
    },
    {
      "cell_type": "code",
      "execution_count": null,
      "metadata": {
        "id": "aVYLz9ViyQ5j"
      },
      "outputs": [],
      "source": [
        "estatisticas.head()"
      ]
    },
    {
      "cell_type": "code",
      "execution_count": null,
      "metadata": {
        "id": "ddY2PoBmyQ5j"
      },
      "outputs": [],
      "source": [
        "#Calculando o Desvio Padrão\n",
        "tarifas['desvio'] = tarifas['ASSENTOS'] * (tarifas['TARIFA'] - tarifas['TARIFA_PONDERADA'])**2\n",
        "soma_desvio = tarifas.groupby(['ANO', 'SEMESTRE', 'EMPRESA', 'ORIGEM', 'DESTINO'])['desvio'].sum()\n",
        "soma_assentos = tarifas.groupby(['ANO', 'SEMESTRE', 'EMPRESA', 'ORIGEM', 'DESTINO'])['ASSENTOS'].sum()\n",
        "desvio_padrao = np.sqrt(soma_desvio / (soma_assentos - 1))"
      ]
    },
    {
      "cell_type": "code",
      "execution_count": null,
      "metadata": {
        "id": "xvwAv-n5yQ5j"
      },
      "outputs": [],
      "source": [
        "# Agora, vamos adicionar essa série ao dataframe original\n",
        "tarifas = tarifas.merge(desvio_padrao.rename('DESVIO_PADRAO'), left_on=['ANO', 'SEMESTRE', 'EMPRESA', 'ORIGEM', 'DESTINO'], right_index=True)"
      ]
    },
    {
      "cell_type": "code",
      "execution_count": null,
      "metadata": {
        "id": "JTyy9S_ZyQ5j"
      },
      "outputs": [],
      "source": [
        "tarifas = tarifas.drop(columns='desvio')"
      ]
    },
    {
      "cell_type": "code",
      "execution_count": null,
      "metadata": {
        "id": "QUsiQFWWyQ5j"
      },
      "outputs": [],
      "source": [
        "tarifas.head()"
      ]
    },
    {
      "cell_type": "code",
      "execution_count": null,
      "metadata": {
        "id": "3S4-F-v5yQ5k"
      },
      "outputs": [],
      "source": [
        "# Incluindo a coluna DESVIO_PADRAO na estatistica combinada\n",
        "# Criando um dicionário com as correspondências entre SEMESTRE/EMPRESA/ORIGEM/DESTINO/TARIFA_PONDERADA e DESVIO_PADRAO\n",
        "correspondencias = tarifas.set_index(['SEMESTRE', 'EMPRESA', 'ORIGEM', 'DESTINO', 'TARIFA_PONDERADA'])['DESVIO_PADRAO'].to_dict()"
      ]
    },
    {
      "cell_type": "code",
      "execution_count": null,
      "metadata": {
        "id": "_wSdDXdJyQ5k"
      },
      "outputs": [],
      "source": [
        "# Mapeando os valores de SEMESTRE/sg_empresa_icao/sg_icao_origem/sg_icao_destino/tarifa para obter o desvio_padrao correspondente\n",
        "estatisticas['desvio_padrao'] = estatisticas[['SEMESTRE', 'sg_comercializa_icao', 'sg_icao_origem', 'sg_icao_destino', 'tarifa_ponderada']].apply(lambda row: correspondencias.get((row['SEMESTRE'], row['sg_comercializa_icao'], row['sg_icao_origem'], row['sg_icao_destino'], row['tarifa_ponderada'])), axis=1)"
      ]
    },
    {
      "cell_type": "code",
      "execution_count": null,
      "metadata": {
        "id": "ZYQBBo2-yQ5k"
      },
      "outputs": [],
      "source": [
        "estatisticas.head()"
      ]
    },
    {
      "cell_type": "code",
      "execution_count": null,
      "metadata": {
        "id": "gtejPM6HyQ5k"
      },
      "outputs": [],
      "source": [
        "# Salvando o arquivo \"estatisticas1c_filtered.csv\" com as novas variáveis:\n",
        "estatisticas.to_csv('./Dados/DemandaeOferta/estatisticas1c_filtered.csv', index=False)"
      ]
    },
    {
      "cell_type": "markdown",
      "metadata": {
        "id": "UAzsDfoIxKDs"
      },
      "source": [
        "#### Etapa II.IV. Organização e Transformação dos Dados - Estatisticas Combinadas 2022"
      ]
    },
    {
      "cell_type": "markdown",
      "metadata": {
        "id": "x9v3sPGIunBa"
      },
      "source": [
        "##### 1. Leitura e agrupamento de arquivos de estatísticas combinadas 2022\n",
        "\n",
        "Salvo em ./Dados/DemandaeOferta/2022_combinada.csv\n",
        "\n",
        "**Descrição:** Nesta etapa foi realizada a leitura e agrupamento dos arquivos de estatisticas combinadas disponibilizados pela ANAC para 2022."
      ]
    },
    {
      "cell_type": "code",
      "execution_count": null,
      "metadata": {
        "id": "kx7sLCEfunBa"
      },
      "outputs": [],
      "source": [
        "# Leitura do arquivo:\n",
        "files = ['combinada2022-01.zip', 'combinada2022-02.zip','combinada2022-03.zip',\n",
        "         'combinada2022-04.zip', 'combinada2022-05.zip','combinada2022-06.zip',\n",
        "         'combinada2022-07.zip', 'combinada2022-08.zip','combinada2022-09.zip',\n",
        "         'combinada2022-10.zip', 'combinada2022-11.zip','combinada2022-12.zip']"
      ]
    },
    {
      "cell_type": "code",
      "execution_count": null,
      "metadata": {
        "id": "qjnLLVP5unBa"
      },
      "outputs": [],
      "source": [
        "# Criando o dataframe:\n",
        "df = pd.DataFrame()"
      ]
    },
    {
      "cell_type": "code",
      "execution_count": null,
      "metadata": {
        "id": "lDnVQzIhunBa"
      },
      "outputs": [],
      "source": [
        "# Concatenando os arquivos no dataframe:\n",
        "for file in files:\n",
        "  print(file)\n",
        "  data = pd.read_csv(f'./Dados/DemandaeOferta/2022_combinada/{file}',\n",
        "                     encoding='cp1252', delimiter = ';',low_memory=False)\n",
        "  df = pd.concat([df, data], axis=0,ignore_index=True)"
      ]
    },
    {
      "cell_type": "code",
      "execution_count": null,
      "metadata": {
        "id": "66GdO_DQunBb"
      },
      "outputs": [],
      "source": [
        "# Visualizando o dataframe:\n",
        "df.head()"
      ]
    },
    {
      "cell_type": "code",
      "execution_count": null,
      "metadata": {
        "id": "JmeYxM2zunBb"
      },
      "outputs": [],
      "source": [
        "# Salvando o arquivo \"estatisticas_2022_combinadas.csv\":\n",
        "df.to_csv('./Dados/DemandaeOferta/estatisticas_2022_combinadas.csv', index=False)"
      ]
    },
    {
      "cell_type": "markdown",
      "metadata": {
        "id": "JxMFLyWvuvvq"
      },
      "source": [
        "##### 2. Obtenção das estatísticas combinadas de Demanda e Oferta em 2022\n",
        "\n",
        "\n",
        "Salvo em /Dados/Estatisticas/estatisticas2c.csv\n",
        "\n",
        "**Descrição:** Nesta etapa foi realizada a transformação do arquivo estatisticas_2022_combinadas.csv."
      ]
    },
    {
      "cell_type": "code",
      "execution_count": null,
      "metadata": {
        "id": "V53eoeejuvvq"
      },
      "outputs": [],
      "source": [
        "# Leitura do arquivo:\n",
        "dados_estatisticas = pd.read_csv('./Dados/DemandaeOferta/estatisticas_2022_combinadas.csv',\n",
        "                                 low_memory=False)"
      ]
    },
    {
      "cell_type": "code",
      "execution_count": null,
      "metadata": {
        "id": "6_BNTIUAuvvq"
      },
      "outputs": [],
      "source": [
        "# Dimensão do arquivo:\n",
        "dados_estatisticas.shape"
      ]
    },
    {
      "cell_type": "code",
      "execution_count": null,
      "metadata": {
        "id": "BpVppikXuvvq"
      },
      "outputs": [],
      "source": [
        "# Padronizando os dados respectivos ao mês:\n",
        "dados_estatisticas['nr_mes_referencia'].unique()"
      ]
    },
    {
      "cell_type": "code",
      "execution_count": null,
      "metadata": {
        "id": "R0jZmsYtuvvq"
      },
      "outputs": [],
      "source": [
        "dados_estatisticas.columns"
      ]
    },
    {
      "cell_type": "code",
      "execution_count": null,
      "metadata": {
        "id": "CHre64i7uvvr"
      },
      "outputs": [],
      "source": [
        "# Filtrando o dataframe com a natureza da etapa de voo = doméstica, serviço referente ao tipo de linha = passageiro e tipo de Voo = regular:\n",
        "dados_estatisticas = dados_estatisticas[\n",
        "    (dados_estatisticas['ds_natureza_etapa'] == 'DOMÉSTICA') & \\\n",
        "    (dados_estatisticas['ds_servico_tipo_linha'] == 'PASSAGEIRO') & \\\n",
        "    (dados_estatisticas['ds_grupo_di'] == 'REGULAR')]\n",
        "# Com isso, foram excluídos os dados que não serão trabalhados nessa pesquisa."
      ]
    },
    {
      "cell_type": "code",
      "execution_count": null,
      "metadata": {
        "id": "gZ3bAPp5uvvr"
      },
      "outputs": [],
      "source": [
        "dados_estatisticas.info()"
      ]
    },
    {
      "cell_type": "code",
      "execution_count": null,
      "metadata": {
        "id": "YUls-xWSuvvr"
      },
      "outputs": [],
      "source": [
        "dados_estatisticas.isna().sum()"
      ]
    },
    {
      "cell_type": "code",
      "execution_count": null,
      "metadata": {
        "id": "Tyn338rxuvvr"
      },
      "outputs": [],
      "source": [
        "# Exclusão das variáveis que não serão estudadas na pesquisa:\n",
        "dados_estatisticas = dados_estatisticas.drop(columns=\n",
        "    ['id_combinada','id_empresa','sg_empresa_iata','nm_pais','ds_tipo_empresa',\n",
        "     'nr_singular','id_di','cd_di','ds_di','ds_grupo_di','dt_referencia',\n",
        "     'nr_ano_referencia','nr_semestre_referencia','nm_semestre_referencia',\n",
        "     'nr_trimestre_referencia','nm_trimestre_referencia','nr_mes_referencia',\n",
        "     'nm_mes_referencia','nr_semana_referencia','nm_dia_semana_referencia',\n",
        "     'nr_dia_referencia','nr_ano_mes_referencia','id_tipo_linha',\n",
        "     'cd_tipo_linha','ds_tipo_linha','ds_natureza_tipo_linha','ds_servico_tipo_linha',\n",
        "     'ds_natureza_etapa','nr_ano_partida_real','nr_semestre_partida_real',\n",
        "     'nm_semestre_partida_real','nr_trimestre_partida_real','nm_trimestre_partida_real',\n",
        "     'nm_mes_partida_real','nr_ano_mes_partida_real','id_aerodromo_origem',\n",
        "     'nm_aerodromo_origem','nm_municipio_origem','nm_pais_origem','nm_continente_origem',\n",
        "     'nr_ano_chegada_real','nr_semestre_chegada_real','nm_semestre_chegada_real',\n",
        "     'nr_trimestre_chegada_real','nm_trimestre_chegada_real','nm_mes_chegada_real',\n",
        "     'nr_ano_mes_chegada_real','id_aerodromo_destino','nm_aerodromo_destino',\n",
        "     'nm_municipio_destino','nm_regiao_destino','nm_pais_destino','nm_continente_destino',\n",
        "     'nr_escala_destino','id_arquivo','nm_arquivo','nr_linha','dt_sistema']\n",
        ")"
      ]
    },
    {
      "cell_type": "code",
      "execution_count": null,
      "metadata": {
        "id": "5YuawZZfuvvr"
      },
      "outputs": [],
      "source": [
        "# Dimensão do dataframe:\n",
        "dados_estatisticas.shape"
      ]
    },
    {
      "cell_type": "code",
      "execution_count": null,
      "metadata": {
        "id": "29oXHMzzuvvr"
      },
      "outputs": [],
      "source": [
        "# Salvando o arquivo \"estatisticas2c.csv\":\n",
        "dados_estatisticas.to_csv('./Dados/DemandaeOferta/estatisticas2c.csv',\n",
        "                          index=False)"
      ]
    },
    {
      "cell_type": "markdown",
      "metadata": {
        "id": "d1Vp1c-0WbJl"
      },
      "source": [
        "##### 3. Inclusão de coluna de distancia nas Estatisticas Combinadas 2022\n",
        "\n",
        "Salvos em ./Dados/DemandaeOferta/estatisticas2c.csv\n",
        "\n",
        "**Descrição:** Para a análise do dataframe, é interessante ter a variável distância correlacionada às estatísticas combinadas. Para isso, foram identificadas as variáveis correspondentes aos aeroportos de origem e destino de cada voo no arquivo estatisticas2c e correlacionadas às distâncias do arquivo distancias2."
      ]
    },
    {
      "cell_type": "code",
      "execution_count": null,
      "metadata": {
        "id": "N1BQgPEmWbJl"
      },
      "outputs": [],
      "source": [
        "# Leitura dos arquivos:\n",
        "estatisticas = pd.read_csv('./Dados/DemandaeOferta/estatisticas2c.csv')"
      ]
    },
    {
      "cell_type": "code",
      "execution_count": null,
      "metadata": {
        "id": "46RwF1vqWbJm"
      },
      "outputs": [],
      "source": [
        "distancia = pd.read_csv('./Dados/Aerodromos/distancias2.csv')"
      ]
    },
    {
      "cell_type": "code",
      "execution_count": null,
      "metadata": {
        "id": "jWDk0NcKzDZL"
      },
      "outputs": [],
      "source": [
        "# Criando um dicionário com as correspondências entre origem e destino, com as distancias (km):\n",
        "correspondencias = distancia.set_index(['orig', 'dest'])['dist'].to_dict()"
      ]
    },
    {
      "cell_type": "code",
      "execution_count": null,
      "metadata": {
        "id": "8RBPDEnJzJjZ"
      },
      "outputs": [],
      "source": [
        "# Criando a variável km_distancia e mapeando os valores de orig/sg_icao_origem e dest/sg_icao_destino para obter as distâncias correspondentes:\n",
        "estatisticas['km_distancia'] = estatisticas[['sg_icao_origem', 'sg_icao_destino']].apply(lambda row: correspondencias.get((row['sg_icao_origem'], row['sg_icao_destino'])), axis=1)"
      ]
    },
    {
      "cell_type": "code",
      "execution_count": null,
      "metadata": {
        "id": "9u6nyJOSaq5r"
      },
      "outputs": [],
      "source": [
        "# Visualizando o dataframe:\n",
        "estatisticas.head()"
      ]
    },
    {
      "cell_type": "code",
      "execution_count": null,
      "metadata": {
        "id": "1rMx2QH2WbJn"
      },
      "outputs": [],
      "source": [
        "# Salvando o arquivo \"estatisticas2c.csv\" com a variável distância inclusa.\n",
        "estatisticas.to_csv('./Dados/DemandaeOferta/estatisticas2c.csv', index=False)"
      ]
    },
    {
      "cell_type": "markdown",
      "metadata": {
        "id": "7hZeGQNIpjxS"
      },
      "source": [
        "###### 4. Inclusão de coluna de Modelo de Aeronave e Número de Assentos nas Estatisticas Combinadas 2022\n",
        "Salvos em ./Dados/DemandaeOferta/estatisticas2c_filtered.csv\n",
        "\n",
        "**Descrição:** Apesar dos banco de dados de estatísticas combinadas dos voos serem mais adequados para a pesquisa, por representarem a origem e destino dos passageiros no voo - independentemente das escalas realizadas - um grande limitador desses bancos foi a carência de algumas variáveis essenciais para as análises da pesquisa, como o Modelo da Aeronave, Número de Assentos e - principalmente - das Tarifas praticadas para cada voo.\n",
        "\n",
        "As etapas subsequentes foram realizadas para a inclusão dessas variáveis nos arquivos de estatísticas combinadas, a partir da correlação entre os arquivos de estatisticas básicas e tarifas. As correlações foram realizadas a partir das combinações entre as variáveis-chaves dos arquivos."
      ]
    },
    {
      "cell_type": "code",
      "execution_count": null,
      "metadata": {
        "id": "fa0YxL-WqAXp"
      },
      "outputs": [],
      "source": [
        "# Leitura dos arquivos:\n",
        "estatisticasc = pd.read_csv(\"./Dados/DemandaeOferta/estatisticas2c.csv\")\n",
        "estatisticasb = pd.read_csv(\"./Dados/DemandaeOferta/estatisticas2.csv\")"
      ]
    },
    {
      "cell_type": "code",
      "execution_count": null,
      "metadata": {
        "id": "V4D3GNab4oCN"
      },
      "outputs": [],
      "source": [
        "# Filtrando o dataframe estatisticas básicas por empresas desejadas:\n",
        "empresas_desejadas = [\"ACN\", \"PAM\", \"ASO\", \"AZU\", \"PTB\", \"ABJ\"]\n",
        "estatisticasb_filtrado = estatisticasb[estatisticasb['sg_empresa_icao'].isin(empresas_desejadas)]"
      ]
    },
    {
      "cell_type": "code",
      "execution_count": null,
      "metadata": {
        "id": "QXIbqWR0PPbz"
      },
      "outputs": [],
      "source": [
        "# Filtrando o dataframe estatisticas básicas (filtrado) por aeronaves indesejadas:\n",
        "aeronaves_indesejadas = [\"A20N\", \"A21N\", \"A319\", \"A320\", \"A321\", \"A332\", \"A339\", \"A359\", \"B38M\", \"B737\", \"B738\", \"B763\", \"B77W\", \"B789\", \"E195\", \"E295\", \"E190\"]\n",
        "condiçao = estatisticasb_filtrado['sg_equipamento_icao'].isin(aeronaves_indesejadas)\n",
        "estatisticasb_filtrado = estatisticasb_filtrado[~condiçao]"
      ]
    },
    {
      "cell_type": "code",
      "execution_count": null,
      "metadata": {
        "id": "G-9MwFHsjS5Q"
      },
      "outputs": [],
      "source": [
        "# Identificando os números de voos com as respectivas aeronaves de interesse:\n",
        "nr_voos = estatisticasb_filtrado['nr_voo'].unique()\n",
        "print(nr_voos)"
      ]
    },
    {
      "cell_type": "code",
      "execution_count": null,
      "metadata": {
        "id": "sXsrTJXi9-aB"
      },
      "outputs": [],
      "source": [
        "# Filtrando os números de voos encontrados das estatisticas combinadas:\n",
        "estatisticasc_filtrado = estatisticasc[estatisticasc['nr_voo'].isin(nr_voos)]"
      ]
    },
    {
      "cell_type": "code",
      "execution_count": null,
      "metadata": {
        "id": "VmN5IPcZoDNo"
      },
      "outputs": [],
      "source": [
        "# Filtrando o dataframe estatisticas combinadas (filtrado) por empresas desejadas:\n",
        "empresas_desejadas = ['PAM', 'ABJ', 'ACN', 'PTB', 'AZU', 'ASO']\n",
        "estatisticasc_filtrado = estatisticasc_filtrado[estatisticasc_filtrado['sg_empresa_icao'].isin(empresas_desejadas)]"
      ]
    },
    {
      "cell_type": "code",
      "execution_count": null,
      "metadata": {
        "id": "DePGfP25oy-r"
      },
      "outputs": [],
      "source": [
        "estatisticasc_filtrado['sg_empresa_icao'].unique()"
      ]
    },
    {
      "cell_type": "code",
      "execution_count": null,
      "metadata": {
        "id": "67-Ato3kvK3k"
      },
      "outputs": [],
      "source": [
        "# Incluindo a coluna ICAO de aeronave na estatistica combinada\n",
        "# Criando um dicionário com as correspondências entre nr_voo/sg_empresa_origem e sg_equipamento_icao\n",
        "correspondencias = estatisticasb_filtrado.set_index(['nr_voo', 'sg_empresa_icao'])['sg_equipamento_icao'].to_dict()"
      ]
    },
    {
      "cell_type": "code",
      "execution_count": null,
      "metadata": {
        "id": "NYyKwSP_wGRS"
      },
      "outputs": [],
      "source": [
        "# Mapeando os valores de nr_voo/sg_empresa_origem e sg_empresa_icao para obter os modelos de aeronaves correspondentes\n",
        "estatisticasc_filtrado['sg_equipamento_icao'] = estatisticasc_filtrado[['nr_voo', 'sg_empresa_icao']].apply(lambda row: correspondencias.get((row['nr_voo'], row['sg_empresa_icao'])), axis=1)"
      ]
    },
    {
      "cell_type": "code",
      "execution_count": null,
      "metadata": {
        "id": "Zbi30bx4bv6t"
      },
      "outputs": [],
      "source": [
        "# Incluindo a coluna modelo de aeronave na estatistica combinada\n",
        "# Criando um dicionário com as correspondências entre sg_equipamento_icao e ds_modelo\n",
        "correspondencias2 = estatisticasb_filtrado.set_index(['sg_equipamento_icao'])['ds_modelo'].to_dict()"
      ]
    },
    {
      "cell_type": "code",
      "execution_count": null,
      "metadata": {
        "id": "2qRUKQyFbwQO"
      },
      "outputs": [],
      "source": [
        "# Mapeando os valores de sg_empresa_icao e ds_modelo para obter os modelos de aeronaves correspondentes\n",
        "estatisticasc_filtrado['ds_modelo'] = estatisticasc_filtrado[['sg_equipamento_icao']].apply(lambda row: correspondencias2.get((row['sg_equipamento_icao'])), axis=1)"
      ]
    },
    {
      "cell_type": "code",
      "execution_count": null,
      "metadata": {
        "id": "cCPJ6ftMNzhD"
      },
      "outputs": [],
      "source": [
        "# Incluindo a coluna assentos ofertados na estatistica combinada\n",
        "# Criando um dicionário com as correspondências entre nr_voo/sg_empresa_icao/sg_equipamento_icao e nr_assentos_ofertados\n",
        "correspondencias3 = estatisticasb_filtrado.set_index(['nr_voo', 'sg_empresa_icao', 'sg_equipamento_icao'])['nr_assentos_ofertados'].to_dict()"
      ]
    },
    {
      "cell_type": "code",
      "execution_count": null,
      "metadata": {
        "id": "JpVydwYsNz0j"
      },
      "outputs": [],
      "source": [
        "# Mapeando os valores de nr_voo/sg_empresa_origem e ds_modelo para obter os modelos de aeronaves correspondentes\n",
        "estatisticasc_filtrado['nr_assentos_ofertados'] = estatisticasc_filtrado[['nr_voo', 'sg_empresa_icao', 'sg_equipamento_icao']].apply(lambda row: correspondencias3.get((row['nr_voo'], row['sg_empresa_icao'], row['sg_equipamento_icao'])), axis=1)"
      ]
    },
    {
      "cell_type": "code",
      "execution_count": null,
      "metadata": {
        "id": "kdzyxrTXwvqq"
      },
      "outputs": [],
      "source": [
        "estatisticasc_filtrado.head()"
      ]
    },
    {
      "cell_type": "code",
      "source": [
        "estatisticasc_filtrado.shape"
      ],
      "metadata": {
        "id": "EmEFjlI6BcdS"
      },
      "execution_count": null,
      "outputs": []
    },
    {
      "cell_type": "code",
      "execution_count": null,
      "metadata": {
        "id": "nkbdiP9Xz8i-"
      },
      "outputs": [],
      "source": [
        "# Salvando o arquivo \"estatisticas2c_filtered.csv\":\n",
        "estatisticasc_filtrado.to_csv('./Dados/DemandaeOferta/estatisticas2c_filtered.csv', index=False)"
      ]
    },
    {
      "cell_type": "markdown",
      "metadata": {
        "id": "my0Na9-ZTXYw"
      },
      "source": [
        "##### 5. Inclusão da coluna de Tarifas nas Estatisticas Combinadas 2022\n",
        "Salvos em ./Dados/DemandaeOferta/estatisticas2c_filtered.csv\n",
        "\n",
        "**Descrição:** Para incluir a variável Tarifas nos arquivos de estatisticas combinadas, foi necessário criar uma variável de semestre, pois a variável mês do arquivo tarifas não corresponde à variável mês do arquivo estatisticas combinadas. Isso ocorre, porque o mês de compra da passagem não corresponde necessariamente ao mês do voo.\n",
        "\n",
        "Dessa forma, a criação da variável semestre foi uma tentativa de aproximação das variáveis para correlacionar ambos os bancos de dados e obter a variável tarifa para cada voo no arquivo estatisticas combinadas."
      ]
    },
    {
      "cell_type": "code",
      "execution_count": null,
      "metadata": {
        "id": "X-46Z9cFT0JM"
      },
      "outputs": [],
      "source": [
        "# Leitura do arquivo:\n",
        "estatisticas = pd.read_csv('./Dados/DemandaeOferta/estatisticas2c_filtered.csv')"
      ]
    },
    {
      "cell_type": "code",
      "execution_count": null,
      "metadata": {
        "id": "0yDbdBOJYsEk"
      },
      "outputs": [],
      "source": [
        "#Criando a coluna SEMESTRE\n",
        "estatisticas['SEMESTRE'] = pd.cut(estatisticas['nr_mes_partida_real'], bins=[0, 6, 12], labels=[1, 2])"
      ]
    },
    {
      "cell_type": "code",
      "execution_count": null,
      "metadata": {
        "id": "j-_ZqPCtupP-"
      },
      "outputs": [],
      "source": [
        "#Incluindo a coluna das empresas que comercializam as passagens (sg_comercializa_icao)\n",
        "empresas = {\n",
        "    \"PAM\": \"PTB\",\n",
        "    \"PTB\": \"PTB\",\n",
        "    \"ACN\": \"AZU\",\n",
        "    \"AZU\": \"AZU\",\n",
        "    \"ABJ\": \"ABJ\"\n",
        "}\n",
        "estatisticas['sg_comercializa_icao'] = estatisticas['sg_empresa_icao'].map(empresas)"
      ]
    },
    {
      "cell_type": "code",
      "execution_count": null,
      "metadata": {
        "id": "D4ZzHCEkhnxC"
      },
      "outputs": [],
      "source": [
        "estatisticas.head()"
      ]
    },
    {
      "cell_type": "markdown",
      "metadata": {
        "id": "zEp-bdAg_EBE"
      },
      "source": [
        "###### Adequação do arquivo tarifas2.csv\n",
        "\n",
        "\n",
        "**Descrição:** Após a criação da variável semestre, foi necessária a criação da variável tarifa ponderada, qua consiste na média ponderada das tarifas praticadas para o mesmo grupo ('ANO', 'SEMESTRE', 'EMPRESA', 'ORIGEM', 'DESTINO'), ponderadas pela quantidade de assentos.\n",
        "\n",
        "Após a criação da variável tarifa ponderada, foram calculados os desvios padrões das tarifas ponderadas."
      ]
    },
    {
      "cell_type": "code",
      "execution_count": null,
      "metadata": {
        "id": "fnv5cJGfQSlk"
      },
      "outputs": [],
      "source": [
        "# Leitura do arquivo:\n",
        "tarifas = pd.read_csv('./Dados/Tarifas/tarifas2.csv')"
      ]
    },
    {
      "cell_type": "code",
      "execution_count": null,
      "metadata": {
        "id": "g7fNep4AWPdn"
      },
      "outputs": [],
      "source": [
        "#Criando a coluna SEMESTRE\n",
        "tarifas['SEMESTRE'] = pd.cut(tarifas['MES'], bins=[0, 6, 12], labels=[1, 2])"
      ]
    },
    {
      "cell_type": "code",
      "execution_count": null,
      "metadata": {
        "id": "ticbL1ks-_S1"
      },
      "outputs": [],
      "source": [
        "#Criando a coluna média ponderada das Tarifas\n",
        "tarifas['produto'] = tarifas['TARIFA'] * tarifas['ASSENTOS']\n",
        "soma_ponderada = tarifas.groupby(['ANO', 'SEMESTRE', 'EMPRESA', 'ORIGEM', 'DESTINO'])['produto'].sum()\n",
        "soma_assentos = tarifas.groupby(['ANO', 'SEMESTRE', 'EMPRESA', 'ORIGEM', 'DESTINO'])['ASSENTOS'].sum()\n",
        "TARIFA_PONDERADA = soma_ponderada / soma_assentos"
      ]
    },
    {
      "cell_type": "code",
      "execution_count": null,
      "metadata": {
        "id": "ukzLJR1DPtyU"
      },
      "outputs": [],
      "source": [
        "# Adicionando a variável TARIFA_PONDERADA ao dataframe:\n",
        "tarifas = tarifas.merge(TARIFA_PONDERADA.rename('TARIFA_PONDERADA'), left_on=['ANO', 'SEMESTRE', 'EMPRESA', 'ORIGEM', 'DESTINO'], right_index=True)"
      ]
    },
    {
      "cell_type": "code",
      "execution_count": null,
      "metadata": {
        "id": "bqu02Pa3P5Qr"
      },
      "outputs": [],
      "source": [
        "# Excluindo a variável criada provisoriamente para o cálculo da média ponderada da tarifa:\n",
        "tarifas = tarifas.drop(columns='produto')"
      ]
    },
    {
      "cell_type": "code",
      "execution_count": null,
      "metadata": {
        "id": "pYupJ41RP8Mj"
      },
      "outputs": [],
      "source": [
        "tarifas.head()"
      ]
    },
    {
      "cell_type": "code",
      "execution_count": null,
      "metadata": {
        "id": "XNF6VBnIbNSu"
      },
      "outputs": [],
      "source": [
        "# Incluindo a coluna tarifas na estatistica combinada\n",
        "# Criando um dicionário com as correspondências entre MES/EMPRESA/ORIGEM/DESTINO e TARIFA\n",
        "correspondencias = tarifas.set_index(['SEMESTRE', 'EMPRESA', 'ORIGEM', 'DESTINO'])['TARIFA_PONDERADA'].to_dict()"
      ]
    },
    {
      "cell_type": "code",
      "execution_count": null,
      "metadata": {
        "id": "kcUH6F8cbPXV"
      },
      "outputs": [],
      "source": [
        "# Mapeando os valores de nr_mes_partida_real/sg_empresa_icao/sg_icao_origem/sg_icao_destino e tarifa para obter os modelos de aeronaves correspondentes\n",
        "estatisticas['tarifa_ponderada'] = estatisticas[['SEMESTRE', 'sg_comercializa_icao', 'sg_icao_origem', 'sg_icao_destino']].apply(lambda row: correspondencias.get((row['SEMESTRE'], row['sg_comercializa_icao'], row['sg_icao_origem'], row['sg_icao_destino'])), axis=1)"
      ]
    },
    {
      "cell_type": "code",
      "execution_count": null,
      "metadata": {
        "id": "2of_jB8qrfp9"
      },
      "outputs": [],
      "source": [
        "estatisticas.head()"
      ]
    },
    {
      "cell_type": "code",
      "execution_count": null,
      "metadata": {
        "id": "P-htZJgOfKzd"
      },
      "outputs": [],
      "source": [
        "#Calculando o Desvio Padrão\n",
        "tarifas['desvio'] = tarifas['ASSENTOS'] * (tarifas['TARIFA'] - tarifas['TARIFA_PONDERADA'])**2\n",
        "soma_desvio = tarifas.groupby(['ANO', 'SEMESTRE', 'EMPRESA', 'ORIGEM', 'DESTINO'])['desvio'].sum()\n",
        "soma_assentos = tarifas.groupby(['ANO', 'SEMESTRE', 'EMPRESA', 'ORIGEM', 'DESTINO'])['ASSENTOS'].sum()\n",
        "desvio_padrao = np.sqrt(soma_desvio / (soma_assentos - 1))"
      ]
    },
    {
      "cell_type": "code",
      "execution_count": null,
      "metadata": {
        "id": "XHh0_o7AgA_8"
      },
      "outputs": [],
      "source": [
        "# Agora, vamos adicionar essa série ao dataframe original\n",
        "tarifas = tarifas.merge(desvio_padrao.rename('DESVIO_PADRAO'), left_on=['ANO', 'SEMESTRE', 'EMPRESA', 'ORIGEM', 'DESTINO'], right_index=True)"
      ]
    },
    {
      "cell_type": "code",
      "execution_count": null,
      "metadata": {
        "id": "qSTB4ikVgKFD"
      },
      "outputs": [],
      "source": [
        "tarifas = tarifas.drop(columns='desvio')"
      ]
    },
    {
      "cell_type": "code",
      "execution_count": null,
      "metadata": {
        "id": "TWDoHsfcgeM7"
      },
      "outputs": [],
      "source": [
        "tarifas.head()"
      ]
    },
    {
      "cell_type": "code",
      "execution_count": null,
      "metadata": {
        "id": "RzDCO3Scgiwk"
      },
      "outputs": [],
      "source": [
        "# Incluindo a coluna DESVIO_PADRAO na estatistica combinada\n",
        "# Criando um dicionário com as correspondências entre SEMESTRE/EMPRESA/ORIGEM/DESTINO/TARIFA_PONDERADA e DESVIO_PADRAO\n",
        "correspondencias = tarifas.set_index(['SEMESTRE', 'EMPRESA', 'ORIGEM', 'DESTINO', 'TARIFA_PONDERADA'])['DESVIO_PADRAO'].to_dict()"
      ]
    },
    {
      "cell_type": "code",
      "execution_count": null,
      "metadata": {
        "id": "B5G7vC5fg4k6"
      },
      "outputs": [],
      "source": [
        "# Mapeando os valores de SEMESTRE/sg_empresa_icao/sg_icao_origem/sg_icao_destino/tarifa para obter o desvio_padrao correspondente\n",
        "estatisticas['desvio_padrao'] = estatisticas[['SEMESTRE', 'sg_comercializa_icao', 'sg_icao_origem', 'sg_icao_destino', 'tarifa_ponderada']].apply(lambda row: correspondencias.get((row['SEMESTRE'], row['sg_comercializa_icao'], row['sg_icao_origem'], row['sg_icao_destino'], row['tarifa_ponderada'])), axis=1)"
      ]
    },
    {
      "cell_type": "code",
      "execution_count": null,
      "metadata": {
        "id": "BHJScvM7hZpl"
      },
      "outputs": [],
      "source": [
        "estatisticas.head()"
      ]
    },
    {
      "cell_type": "code",
      "execution_count": null,
      "metadata": {
        "id": "eqgIHSdYhiVC"
      },
      "outputs": [],
      "source": [
        "# Salvando o arquivo \"estatisticas2c_filtered.csv\" com as novas variáveis:\n",
        "estatisticas.to_csv('./Dados/DemandaeOferta/estatisticas2c_filtered.csv', index=False)"
      ]
    },
    {
      "cell_type": "markdown",
      "source": [
        "## **Passo 4** - Banco de Dados Final\n",
        "\n",
        "**Descrição:** concatenação final dos bancos de dados tratados neste notebook em um último, que será analisado.\n",
        "\n",
        "**Atenção:** os arquivos baixados são .CSV, mas no formato Microsoft Excel, *comma separated values*, portanto, não tem o encoding utf-8. Além disso, o Excel em português salva o CSV separado com ponto e vírgula (';')."
      ],
      "metadata": {
        "id": "v57SJ88SR_cN"
      }
    },
    {
      "cell_type": "markdown",
      "metadata": {
        "id": "32qTsoqCSmJL"
      },
      "source": [
        "#### Concatenando os arquivos estatisticas2c_filtered | estatisticas1c_filtered | estatisticas0c_filtered | estatisticas9c_filtered\n",
        "\n",
        "Salvo em ./Dados/DemandaeOferta/estatisticasc_filtered.csv"
      ]
    },
    {
      "cell_type": "code",
      "execution_count": null,
      "metadata": {
        "id": "6Y8nOEkxSmJL"
      },
      "outputs": [],
      "source": [
        "# Leitura dos arquivos:\n",
        "estatisticas2 = pd.read_csv(\"./Dados/DemandaeOferta/estatisticas2c_filtered.csv\")\n",
        "estatisticas1 = pd.read_csv(\"./Dados/DemandaeOferta/estatisticas1c_filtered.csv\")\n",
        "estatisticas0 = pd.read_csv(\"./Dados/DemandaeOferta/estatisticas0c_filtered.csv\")\n",
        "estatisticas9 = pd.read_csv(\"./Dados/DemandaeOferta/estatisticas9c_filtered.csv\")"
      ]
    },
    {
      "cell_type": "code",
      "source": [
        "# Eliminação dos dados em branco (NA):\n",
        "estatisticas2.dropna(subset=[\"tarifa_ponderada\",\"km_distancia\",\"sg_equipamento_icao\"])\n",
        "estatisticas1.dropna(subset=[\"tarifa_ponderada\",\"km_distancia\",\"sg_equipamento_icao\"])\n",
        "estatisticas0.dropna(subset=[\"tarifa_ponderada\",\"km_distancia\",\"sg_equipamento_icao\"])\n",
        "estatisticas9.dropna(subset=[\"tarifa_ponderada\",\"km_distancia\",\"sg_equipamento_icao\"])"
      ],
      "metadata": {
        "id": "t0XdQK0aSmJM"
      },
      "execution_count": null,
      "outputs": []
    },
    {
      "cell_type": "code",
      "execution_count": null,
      "metadata": {
        "id": "plfIHQdVSmJM"
      },
      "outputs": [],
      "source": [
        "# Incluindo a variável \"ano\" em cada arquivo:\n",
        "estatisticas9['ano'] = 2019"
      ]
    },
    {
      "cell_type": "code",
      "execution_count": null,
      "metadata": {
        "id": "_nCsiWeBSmJM"
      },
      "outputs": [],
      "source": [
        "estatisticas0['ano'] = 2020"
      ]
    },
    {
      "cell_type": "code",
      "execution_count": null,
      "metadata": {
        "id": "rgmOrk0PSmJM"
      },
      "outputs": [],
      "source": [
        "estatisticas1['ano'] = 2021"
      ]
    },
    {
      "cell_type": "code",
      "execution_count": null,
      "metadata": {
        "id": "q7pLvVg8SmJM"
      },
      "outputs": [],
      "source": [
        "estatisticas2['ano'] = 2022"
      ]
    },
    {
      "cell_type": "code",
      "execution_count": null,
      "metadata": {
        "id": "DQ8xpRKsSmJN"
      },
      "outputs": [],
      "source": [
        "# Concatenando os dataframes em um único arquivo:\n",
        "estatisticas = pd.concat([estatisticas9, estatisticas0, estatisticas1, estatisticas2])"
      ]
    },
    {
      "cell_type": "code",
      "execution_count": null,
      "metadata": {
        "id": "i9QpTSEISmJN"
      },
      "outputs": [],
      "source": [
        "# Reordenando a variável \"ano\":\n",
        "cols = list(estatisticas.columns)\n",
        "cols = [cols[-1]] + cols[:-1]\n",
        "estatisticas = estatisticas[cols]"
      ]
    },
    {
      "cell_type": "code",
      "execution_count": null,
      "metadata": {
        "id": "MmGoNUweSmJN"
      },
      "outputs": [],
      "source": [
        "# Eliminando as linhas com dados vazios:\n",
        "estatisticas = estatisticas.dropna(subset=[\"tarifa_ponderada\",\"km_distancia\",\"sg_equipamento_icao\"])\n",
        "estatisticas.shape"
      ]
    },
    {
      "cell_type": "code",
      "execution_count": null,
      "metadata": {
        "id": "1A0iLs8QSmJN"
      },
      "outputs": [],
      "source": [
        "estatisticas.to_csv('./Dados/DemandaeOferta/estatisticasc_filtered.csv', index=False)"
      ]
    },
    {
      "cell_type": "code",
      "source": [
        "estatisticas2.to_csv('./Dados/DemandaeOferta/estatisticas2c_filtered.csv', index=False)"
      ],
      "metadata": {
        "id": "TwXcxVhGSmJN"
      },
      "execution_count": null,
      "outputs": []
    },
    {
      "cell_type": "code",
      "source": [
        "estatisticas1.to_csv('./Dados/DemandaeOferta/estatisticas1c_filtered.csv', index=False)"
      ],
      "metadata": {
        "id": "VR5TwTFMSmJN"
      },
      "execution_count": null,
      "outputs": []
    },
    {
      "cell_type": "code",
      "source": [
        "estatisticas0.to_csv('./Dados/DemandaeOferta/estatisticas0c_filtered.csv', index=False)"
      ],
      "metadata": {
        "id": "1lsTLlV1SmJN"
      },
      "execution_count": null,
      "outputs": []
    },
    {
      "cell_type": "code",
      "source": [
        "estatisticas9.to_csv('./Dados/DemandaeOferta/estatisticas9c_filtered.csv', index=False)"
      ],
      "metadata": {
        "id": "kjhHrHPsSmJN"
      },
      "execution_count": null,
      "outputs": []
    },
    {
      "cell_type": "markdown",
      "metadata": {
        "id": "k9rwPtdlj9cc"
      },
      "source": [
        "## Inclusão de Aeroportos no Banco de Dados ✈\n",
        "\n",
        "**Descrição:** esse tópico do notebook evidencia alguns dos aeroportos que não estavam contemplados nos dados extraídos da ANAC e que, por tanto, tiveram que ser incluídos para realizar a correlação correta entre o arquivo de distancias e estatísticas.\n",
        "\n",
        "Foi perceptível a falta desses aeroportos, porque - no momento de correlacionar os arquivos - o código apontou erro e, a partir disso, as variáveis aeroportos foram correlacionadas para identificar os aeroportos que não estavam contemplados no arquivo distancias.\n",
        "\n",
        "Após identificados os aeroportos, foram identificados a UF e município do aeroporto, o código OACI e a latitude e longitude. Com isso, esses dados foram inclusos no arquivo aeroportos2, viabilizando a inclusão do aeroporto no arquivo distancias2.\n"
      ]
    },
    {
      "cell_type": "markdown",
      "metadata": {
        "id": "_IySDZPxSV-2"
      },
      "source": [
        "##### Acrescentando OACI == 'SBRG' em aeroportos2.csv"
      ]
    },
    {
      "cell_type": "code",
      "execution_count": null,
      "metadata": {
        "id": "4kF-2DWRS2-k"
      },
      "outputs": [],
      "source": [
        "# Leitura dos arquivos:\n",
        "aeroportos = pd.read_csv('./Dados/Aerodromos/aeroportos2.csv')\n",
        "distancias = pd.read_csv('./Dados/Aerodromos/distancias2.csv')"
      ]
    },
    {
      "cell_type": "code",
      "execution_count": null,
      "metadata": {
        "id": "LkjOjga2UrJM"
      },
      "outputs": [],
      "source": [
        "# Criando um dataframe provisório, com os dados do novo aeroporto:\n",
        "novo_aeroporto = []\n",
        "novo_aeroporto.append(['SBRG', \"Rio Grande\", \"RS\", -32.01667, -52.08333])"
      ]
    },
    {
      "cell_type": "code",
      "execution_count": null,
      "metadata": {
        "id": "joUalCaYVRBa"
      },
      "outputs": [],
      "source": [
        "# Foi necessário retirar uma coluna excedente do arquivo 'aeroportos2'\n",
        "aeroportos = aeroportos.iloc[:,0:5]\n",
        "aeroportos.head()"
      ]
    },
    {
      "cell_type": "code",
      "execution_count": null,
      "metadata": {
        "id": "dEU3mc1oTK5M"
      },
      "outputs": [],
      "source": [
        "# Criando um dataframe com as mesmas colunas de aeroportos2 e os dados do novo aeroporto\n",
        "novo_aeroporto = pd.DataFrame(novo_aeroporto, columns=aeroportos.columns)"
      ]
    },
    {
      "cell_type": "code",
      "execution_count": null,
      "metadata": {
        "id": "d7mAjgrRTcrz"
      },
      "outputs": [],
      "source": [
        "# Concatenando o dataframe do novo aeroporto ao de aeroportos2\n",
        "aeroportos = pd.concat([aeroportos, novo_aeroporto], axis = 0, ignore_index = True)"
      ]
    },
    {
      "cell_type": "code",
      "execution_count": null,
      "metadata": {
        "id": "wl3jmSwDWHmr"
      },
      "outputs": [],
      "source": [
        "# Pesquisando o novo aeroporto no dataframe aeroportos2\n",
        "aeroportos[aeroportos.OACI == \"SBRG\"].drop_duplicates()"
      ]
    },
    {
      "cell_type": "code",
      "execution_count": null,
      "metadata": {
        "id": "9JzUYwcycdfC"
      },
      "outputs": [],
      "source": [
        "# Salvando o arquivo com os novos dados:\n",
        "aeroportos.to_csv('./Dados/Aerodromos/aeroportos2.csv',index=False)"
      ]
    },
    {
      "cell_type": "markdown",
      "metadata": {
        "id": "ItBAi7hVW0kk"
      },
      "source": [
        "✅ Agora basta incluir o novo aeroporto no arquivo distancias2, repetindo as Etapas III e IV do Passo 1."
      ]
    },
    {
      "cell_type": "markdown",
      "metadata": {
        "id": "Hc61arrAsodm"
      },
      "source": [
        "##### Acrescentando OACI == 'SBGS' em aeroportos2.csv"
      ]
    },
    {
      "cell_type": "code",
      "execution_count": null,
      "metadata": {
        "id": "EOrN7UP4sodm"
      },
      "outputs": [],
      "source": [
        "# Leitura dos arquivos:\n",
        "aeroportos = pd.read_csv('./Dados/Aerodromos/aeroportos2.csv')\n",
        "distancias = pd.read_csv('./Dados/Aerodromos/distancias2.csv')"
      ]
    },
    {
      "cell_type": "code",
      "execution_count": null,
      "metadata": {
        "id": "zAOqw4YRsodm"
      },
      "outputs": [],
      "source": [
        "# Criando um dataframe provisório, com os dados do novo aeroporto:\n",
        "novo_aeroporto = []\n",
        "novo_aeroporto.append(['SBGS', \"Ponta Grossa\", \"PR\", -25.184444, -50.143889])"
      ]
    },
    {
      "cell_type": "code",
      "execution_count": null,
      "metadata": {
        "id": "PTi9vlVjsodm"
      },
      "outputs": [],
      "source": [
        "# Foi necessário retirar uma coluna excedente do arquivo 'aeroportos2'\n",
        "aeroportos = aeroportos.iloc[:,0:5]\n",
        "aeroportos.head()"
      ]
    },
    {
      "cell_type": "code",
      "execution_count": null,
      "metadata": {
        "id": "0Z8yNsR-sodm"
      },
      "outputs": [],
      "source": [
        "# Criando um dataframe com as mesmas colunas de aeroportos2 e os dados do novo aeroporto\n",
        "novo_aeroporto = pd.DataFrame(novo_aeroporto, columns=aeroportos.columns)"
      ]
    },
    {
      "cell_type": "code",
      "execution_count": null,
      "metadata": {
        "id": "8SB4HLTbsodm"
      },
      "outputs": [],
      "source": [
        "# Concatenando o dataframe do novo aeroporto ao de aeroportos2\n",
        "aeroportos = pd.concat([aeroportos, novo_aeroporto], axis = 0, ignore_index = True)"
      ]
    },
    {
      "cell_type": "code",
      "execution_count": null,
      "metadata": {
        "id": "-2nDSoF7sodn"
      },
      "outputs": [],
      "source": [
        "# Pesquisando o novo aeroporto no dataframe aeroportos2\n",
        "aeroportos[aeroportos.OACI == \"SBGS\"].drop_duplicates()"
      ]
    },
    {
      "cell_type": "code",
      "execution_count": null,
      "metadata": {
        "id": "1DS5ZO-lsodn"
      },
      "outputs": [],
      "source": [
        "# Salvando o arquivo com os novos dados:\n",
        "aeroportos.to_csv('./Dados/Aerodromos/aeroportos2.csv',index=False)"
      ]
    },
    {
      "cell_type": "markdown",
      "metadata": {
        "id": "MeyOl0husodn"
      },
      "source": [
        "✅ Agora basta incluir o novo aeroporto no arquivo distancias2, repetindo as Etapas III e IV do Passo 1.\n",
        "\n"
      ]
    },
    {
      "cell_type": "markdown",
      "metadata": {
        "id": "yTOMIol7EL6A"
      },
      "source": [
        "## **Passo 5** - Análise Gráfica dos Dados (2022 / 2021 / 2020 / 2019)\n",
        "\n",
        "**Descrição:** Nessa etapa foi realizada a análise gráfica do banco de dados trabalhado ao longo da pesquisa."
      ]
    },
    {
      "cell_type": "code",
      "execution_count": null,
      "metadata": {
        "id": "tnqJlubEMwVG"
      },
      "outputs": [],
      "source": [
        "# Leitura dos bancos de dados por ano e do concatenado com todos os anos:\n",
        "estatisticas = pd.read_csv('./Dados/DemandaeOferta/estatisticasc_filtered.csv')\n",
        "estatisticas2 = pd.read_csv('./Dados/DemandaeOferta/estatisticas2c_filtered.csv')\n",
        "estatisticas1 = pd.read_csv('./Dados/DemandaeOferta/estatisticas1c_filtered.csv')\n",
        "estatisticas0 = pd.read_csv('./Dados/DemandaeOferta/estatisticas0c_filtered.csv')\n",
        "estatisticas9 = pd.read_csv('./Dados/DemandaeOferta/estatisticas9c_filtered.csv')\n",
        "\n",
        "# Importando o 'stats' para complementar o cálculo da regressão linear:\n",
        "from scipy import stats"
      ]
    },
    {
      "cell_type": "markdown",
      "metadata": {
        "id": "vPFwsKNvvZQn"
      },
      "source": [
        "### Análises - Aeronaves: TODAS\n",
        "\n",
        "**Descrição:** análise dos dados de todas as aeronaves, observando-se a perspectiva geral da amostra."
      ]
    },
    {
      "cell_type": "markdown",
      "metadata": {
        "id": "RegDNlflxcnP"
      },
      "source": [
        "#### **Análise de Regressão Linear:**  Distância (km_distancia) vs Tarifas (tarifa_ponderada):"
      ]
    },
    {
      "cell_type": "code",
      "execution_count": null,
      "metadata": {
        "id": "-wjVQI2i1QWT"
      },
      "outputs": [],
      "source": [
        "for ano in [2019, 2020, 2021, 2022]:\n",
        "    df_ano = estatisticas[(estatisticas['ano'] == ano)]\n",
        "    x = df_ano['km_distancia']\n",
        "    y = df_ano['tarifa_ponderada']\n",
        "\n",
        "    # Calculando a regressão linear\n",
        "    slope, intercept, r_value, p_value, std_err = stats.linregress(x, y)\n",
        "\n",
        "    # Criando o gráfico\n",
        "    plt.figure(figsize=(8, 6))\n",
        "    sns.regplot(x=x, y=y)\n",
        "\n",
        "    # Adicionando a equação da reta ao gráfico\n",
        "    plt.text(0.1, 0.9, f'y = {slope:.2f}x + {intercept:.2f}', transform=plt.gca().transAxes)\n",
        "\n",
        "    # Adicionando o coeficiente de correlação de Pearson ao gráfico\n",
        "    plt.text(0.1, 0.8, f'r = {r_value:.2f}', transform=plt.gca().transAxes)\n",
        "\n",
        "    plt.xlabel('Distancia (km)')\n",
        "    plt.ylabel('Tarifa')\n",
        "    plt.title(f'Distância vs Tarifa Ponderada - Ano: {ano} - Aeronave: TODAS')\n",
        "    plt.show()"
      ]
    },
    {
      "cell_type": "markdown",
      "source": [
        "#### **Análise de Regressão Linear:**  Distância (km_distancia) vs Tarifas (tarifa_ponderada), por empresa:"
      ],
      "metadata": {
        "id": "yTCcnPNmd2QF"
      }
    },
    {
      "cell_type": "code",
      "source": [
        "# Personalizando as cores da legenda do gráfico:\n",
        "cores = ['b', 'g', 'r', 'c', 'm', 'y', 'k']\n",
        "mapa_cores = {'PTB': cores[0], 'AZU': cores[1], 'ACN': cores[2], 'PAM': cores[3], 'ABJ': cores[4]}"
      ],
      "metadata": {
        "id": "RDTcYpTvjjXy"
      },
      "execution_count": null,
      "outputs": []
    },
    {
      "cell_type": "code",
      "source": [
        "for ano in [2019, 2020, 2021, 2022]:\n",
        "    df_ano = estatisticas[(estatisticas['ano'] == ano)]\n",
        "\n",
        "    # Criando uma nova figura:\n",
        "    plt.figure(figsize=(10, 8))\n",
        "\n",
        "    # Obtendo a lista de empresas aéreas:\n",
        "    empresas = df_ano['sg_empresa_icao'].unique()\n",
        "\n",
        "    for empresa in empresas:\n",
        "        # Filtrando o dataframe para a empresa atual\n",
        "        df_empresa = df_ano[df_ano['sg_empresa_icao'] == empresa]\n",
        "        x = df_empresa['km_distancia']\n",
        "        y = df_empresa['tarifa_ponderada']\n",
        "\n",
        "        # Calcula a regressão linear\n",
        "        slope, intercept, r_value, p_value, std_err = stats.linregress(x, y)\n",
        "\n",
        "        # Cria o gráfico de dispersão e a linha de regressão\n",
        "        sns.regplot(x=x, y=y, color=mapa_cores[empresa], label=f'{empresa}: y = {slope:.2f}x + {intercept:.2f}, r = {r_value:.2f}')\n",
        "\n",
        "    # Adiciona a legenda\n",
        "    plt.legend()\n",
        "\n",
        "    plt.xlabel('Distancia (km)')\n",
        "    plt.ylabel('Tarifa')\n",
        "    plt.title(f'Distância(km) vs Tarifa Ponderada - Ano: {ano} - Aeronave: TODAS')\n",
        "    plt.show()"
      ],
      "metadata": {
        "id": "p9Vf2QTGd-Xt"
      },
      "execution_count": null,
      "outputs": []
    },
    {
      "cell_type": "markdown",
      "metadata": {
        "id": "SvvK9_JNQxlw"
      },
      "source": [
        "#### **Gráfico de Dispersão 3D - Análise de Relação:**  Distância(km_distancia) vs Número de Assentos (nr_assentos_ofertados) vs Tarifas (tarifa_ponderada):"
      ]
    },
    {
      "cell_type": "code",
      "execution_count": null,
      "metadata": {
        "id": "kEN4cqmfQxlw"
      },
      "outputs": [],
      "source": [
        "from mpl_toolkits.mplot3d import Axes3D\n",
        "\n",
        "\n",
        "fig = plt.figure(figsize=(10, 10))\n",
        "ax = fig.add_subplot(111, projection='3d')\n",
        "\n",
        "x = estatisticas['nr_assentos_ofertados']\n",
        "y = estatisticas['km_distancia']\n",
        "z = estatisticas['tarifa_ponderada']\n",
        "\n",
        "ax.scatter(x, y, z)\n",
        "\n",
        "ax.set_xlabel('Número de Assentos Ofertados')\n",
        "ax.set_ylabel('Distância(km)')\n",
        "ax.set_zlabel('Tarifa')\n",
        "\n",
        "plt.title(f'Relação: Nº Assentos Ofertados vs Distância(km) vs Tarifa (2019 a 2022) - Aeronave = TODAS')\n",
        "plt.show()\n"
      ]
    },
    {
      "cell_type": "markdown",
      "metadata": {
        "id": "D_6s7Dc9EJKj"
      },
      "source": [
        "#### **Lineplot:**  Tarifa Ponderada Média por Mês (2019 a 2022):"
      ]
    },
    {
      "cell_type": "code",
      "execution_count": null,
      "metadata": {
        "id": "QVmg6ITeEJKk"
      },
      "outputs": [],
      "source": [
        "for ano in [2019, 2020, 2021, 2022]:\n",
        "    df_ano = estatisticas[(estatisticas['ano'] == ano)]\n",
        "\n",
        "    # Calculando a média mensal\n",
        "    media_mensal = df_ano.groupby('nr_mes_partida_real')['tarifa_ponderada'].mean()\n",
        "\n",
        "    sns.lineplot(x=media_mensal.index, y=media_mensal.values, label=ano)\n",
        "\n",
        "plt.xticks(np.arange(1, 13), ['Jan', 'Fev', 'Mar', 'Abr', 'Mai', 'Jun', 'Jul', 'Ago', 'Set', 'Out', 'Nov', 'Dez'])\n",
        "plt.xlabel('Mês')\n",
        "plt.ylabel('Tarifa Média')\n",
        "plt.title('Tarifa Ponderada Média por Mês')\n",
        "plt.legend()\n",
        "plt.show()"
      ]
    },
    {
      "cell_type": "markdown",
      "metadata": {
        "id": "6UdNaRJUfuU_"
      },
      "source": [
        "### Análises - Aeronave: C208\n",
        "\n",
        "**Descrição:** análise dos dados de todas as aeronaves, observando-se a perspectiva geral da amostra."
      ]
    },
    {
      "cell_type": "markdown",
      "metadata": {
        "id": "ZfuJZFHCfuU_"
      },
      "source": [
        "#### **Análise de Regressão Linear:**  Distância (km_distancia) vs Tarifas (tarifa_ponderada):"
      ]
    },
    {
      "cell_type": "code",
      "execution_count": null,
      "metadata": {
        "id": "-GLWpwasfuVA"
      },
      "outputs": [],
      "source": [
        "for ano in [2019, 2020, 2021, 2022]:\n",
        "    df_ano = estatisticas[(estatisticas['ano'] == ano) & (estatisticas['sg_equipamento_icao'] == 'C208')]\n",
        "    x = df_ano['km_distancia']\n",
        "    y = df_ano['tarifa_ponderada']\n",
        "\n",
        "    # Calculando a regressão linear\n",
        "    slope, intercept, r_value, p_value, std_err = stats.linregress(x, y)\n",
        "\n",
        "    # Criando o gráfico\n",
        "    plt.figure(figsize=(8, 6))\n",
        "    sns.regplot(x=x, y=y)\n",
        "\n",
        "    # Adicionando a equação da reta ao gráfico\n",
        "    plt.text(0.1, 0.9, f'y = {slope:.2f}x + {intercept:.2f}', transform=plt.gca().transAxes)\n",
        "\n",
        "    # Adicionando o coeficiente de correlação de Pearson ao gráfico\n",
        "    plt.text(0.1, 0.8, f'r = {r_value:.2f}', transform=plt.gca().transAxes)\n",
        "\n",
        "    plt.xlabel('Distancia (km)')\n",
        "    plt.ylabel('Tarifa')\n",
        "    plt.title(f'Distância vs Tarifa Ponderada - Ano: {ano} - Aeronave: C208')\n",
        "    plt.show()"
      ]
    },
    {
      "cell_type": "markdown",
      "source": [
        "#### **Análise de Regressão Linear:**  Distância (km_distancia) vs Tarifas (tarifa_ponderada), por empresa:"
      ],
      "metadata": {
        "id": "Kq7kI0rafuVA"
      }
    },
    {
      "cell_type": "code",
      "source": [
        "# Personalizando as cores da legenda do gráfico:\n",
        "cores = ['b', 'g', 'r', 'c', 'm', 'y', 'k']\n",
        "mapa_cores = {'PTB': cores[0], 'AZU': cores[1], 'ACN': cores[2], 'PAM': cores[3], 'ABJ': cores[4]}"
      ],
      "metadata": {
        "id": "0XemFfOSfuVA"
      },
      "execution_count": null,
      "outputs": []
    },
    {
      "cell_type": "code",
      "source": [
        "for ano in [2019, 2020, 2021, 2022]:\n",
        "    df_ano = estatisticas[(estatisticas['ano'] == ano) & (estatisticas['sg_equipamento_icao'] == 'C208')]\n",
        "\n",
        "    # Criando uma nova figura:\n",
        "    plt.figure(figsize=(10, 8))\n",
        "\n",
        "    # Obtendo a lista de empresas aéreas:\n",
        "    empresas = df_ano['sg_empresa_icao'].unique()\n",
        "\n",
        "    for empresa in empresas:\n",
        "        # Filtrando o dataframe para a empresa atual\n",
        "        df_empresa = df_ano[df_ano['sg_empresa_icao'] == empresa]\n",
        "        x = df_empresa['km_distancia']\n",
        "        y = df_empresa['tarifa_ponderada']\n",
        "\n",
        "        # Calcula a regressão linear\n",
        "        slope, intercept, r_value, p_value, std_err = stats.linregress(x, y)\n",
        "\n",
        "        # Cria o gráfico de dispersão e a linha de regressão\n",
        "        sns.regplot(x=x, y=y, color=mapa_cores[empresa], label=f'{empresa}: y = {slope:.2f}x + {intercept:.2f}, r = {r_value:.2f}')\n",
        "\n",
        "    # Adiciona a legenda\n",
        "    plt.legend()\n",
        "\n",
        "    plt.xlabel('Distancia (km)')\n",
        "    plt.ylabel('Tarifa')\n",
        "    plt.title(f'Distância(km) vs Tarifa Ponderada - Ano: {ano} - Aeronave: C208')\n",
        "    plt.show()"
      ],
      "metadata": {
        "id": "AWlDOrY9fuVA"
      },
      "execution_count": null,
      "outputs": []
    },
    {
      "cell_type": "code",
      "source": [],
      "metadata": {
        "id": "Nome8Gc2t_yO"
      },
      "execution_count": null,
      "outputs": []
    },
    {
      "cell_type": "markdown",
      "metadata": {
        "id": "5-E8TWh2uAjR"
      },
      "source": [
        "#### **Gráfico de Dispersão 3D - Análise de Relação:**  Distância(km_distancia) vs Número de Assentos (nr_assentos_ofertados) vs Tarifas (tarifa_ponderada):"
      ]
    },
    {
      "cell_type": "code",
      "execution_count": null,
      "metadata": {
        "id": "Q35xjS6BuAjR"
      },
      "outputs": [],
      "source": [
        "from mpl_toolkits.mplot3d import Axes3D\n",
        "\n",
        "fig = plt.figure(figsize=(10, 10))\n",
        "ax = fig.add_subplot(111, projection='3d')\n",
        "\n",
        "cores = ['r', 'g', 'b', 'y']\n",
        "\n",
        "for i, ano in enumerate([2019, 2020, 2021, 2022]):\n",
        "    df_ano = estatisticas[(estatisticas['ano'] == ano) & (estatisticas['sg_equipamento_icao'] == 'C208')]\n",
        "    x = df_ano['nr_assentos_ofertados']\n",
        "    y = df_ano['km_distancia']\n",
        "    z = df_ano['tarifa_ponderada']\n",
        "\n",
        "    ax.scatter(x, y, z, color=cores[i], label=ano)\n",
        "\n",
        "ax.set_xlabel('Número de Assentos Ofertados')\n",
        "ax.set_ylabel('Distância(km)')\n",
        "ax.set_zlabel('Tarifa')\n",
        "\n",
        "plt.title('Relação: Nº Assentos Ofertados vs Distância(km) vs Tarifa - Aeronave = C208')\n",
        "plt.legend()\n",
        "plt.show()\n"
      ]
    },
    {
      "cell_type": "markdown",
      "metadata": {
        "id": "LFUFc-gIfuVB"
      },
      "source": [
        "#### **Lineplot:**  Tarifa Ponderada Média por Mês (2019 a 2022):"
      ]
    },
    {
      "cell_type": "code",
      "execution_count": null,
      "metadata": {
        "id": "TfwxIpIZfuVB"
      },
      "outputs": [],
      "source": [
        "for ano in [2019, 2020, 2021, 2022]:\n",
        "    df_ano = estatisticas[(estatisticas['ano'] == ano) & (estatisticas['sg_equipamento_icao'] == 'C208')]\n",
        "\n",
        "    # Calculando a média mensal\n",
        "    media_mensal = df_ano.groupby('nr_mes_partida_real')['tarifa_ponderada'].mean()\n",
        "\n",
        "    sns.lineplot(x=media_mensal.index, y=media_mensal.values, label=ano)\n",
        "\n",
        "plt.xticks(np.arange(1, 13), ['Jan', 'Fev', 'Mar', 'Abr', 'Mai', 'Jun', 'Jul', 'Ago', 'Set', 'Out', 'Nov', 'Dez'])\n",
        "plt.xlabel('Mês')\n",
        "plt.ylabel('Tarifa Média')\n",
        "plt.title('Tarifa Ponderada Média por Mês - Aeronave: C208')\n",
        "plt.legend()\n",
        "plt.show()"
      ]
    },
    {
      "cell_type": "markdown",
      "source": [
        "### Identificando Outliers (2019 - 2022)"
      ],
      "metadata": {
        "id": "ZolaeKWsjP5U"
      }
    },
    {
      "cell_type": "markdown",
      "source": [
        "#### Outliers da variável **Tarifa**:"
      ],
      "metadata": {
        "id": "EWvjQgTxpHrM"
      }
    },
    {
      "cell_type": "code",
      "source": [
        "# Identificando outliers de estatisticas\n",
        "\n",
        "# Calculando Q1 and Q3:\n",
        "Q1 = estatisticas['tarifa_ponderada'].quantile(0.25)\n",
        "Q3 = estatisticas['tarifa_ponderada'].quantile(0.75)\n",
        "\n",
        "# Faixa interquartil:\n",
        "IQR = Q3 - Q1\n",
        "\n",
        "# Encontrando os outliers\n",
        "outliers = estatisticas[(estatisticas['tarifa_ponderada'] < (Q1 - 1.5 * IQR)) | (estatisticas['tarifa_ponderada'] > (Q3 + 1.5 * IQR))]\n",
        "\n",
        "outliers.shape"
      ],
      "metadata": {
        "id": "7X8OfpRDjUxO"
      },
      "execution_count": null,
      "outputs": []
    },
    {
      "cell_type": "code",
      "source": [
        "sns.boxplot(x = 'ano', y = 'tarifa_ponderada', data = estatisticas)\n",
        "sns.stripplot(x = 'ano', y = 'tarifa_ponderada', data = estatisticas,\n",
        "              jitter=True,\n",
        "              marker='o',\n",
        "              alpha=0.8,\n",
        "              color=\"black\")\n",
        "plt.title('Boxplot of Tarifas by Ano')\n",
        "plt.xticks(rotation=90)  # Rotating x-axis labels for better readability\n",
        "plt.show()"
      ],
      "metadata": {
        "id": "p7cai2WgklgT"
      },
      "execution_count": null,
      "outputs": []
    },
    {
      "cell_type": "markdown",
      "source": [
        "#### Outliers da variável **Distância(km)**:"
      ],
      "metadata": {
        "id": "3wmwE9h5pWfi"
      }
    },
    {
      "cell_type": "code",
      "source": [
        "# Identificando outliers de estatisticas\n",
        "\n",
        "# Calculando Q1 and Q3:\n",
        "Q1 = estatisticas['km_distancia'].quantile(0.25)\n",
        "Q3 = estatisticas['km_distancia'].quantile(0.75)\n",
        "\n",
        "# Faixa interquartil:\n",
        "IQR = Q3 - Q1\n",
        "\n",
        "# Encontrando os outliers\n",
        "outliers = estatisticas[(estatisticas['km_distancia'] < (Q1 - 1.5 * IQR)) | (estatisticas['km_distancia'] > (Q3 + 1.5 * IQR))]\n",
        "\n",
        "outliers.shape"
      ],
      "metadata": {
        "id": "B8bj9Hz_pWfj"
      },
      "execution_count": null,
      "outputs": []
    },
    {
      "cell_type": "code",
      "source": [
        "sns.boxplot(x = 'ano', y = 'km_distancia', data = estatisticas)\n",
        "sns.stripplot(x = 'ano', y = 'km_distancia', data = estatisticas,\n",
        "              jitter=True,\n",
        "              marker='o',\n",
        "              alpha=0.8,\n",
        "              color=\"black\")\n",
        "plt.title('Boxplot of Tarifas by Ano')\n",
        "plt.xticks(rotation=90)  # Rotating x-axis labels for better readability\n",
        "plt.show()"
      ],
      "metadata": {
        "id": "m4AaMBNwpWfk"
      },
      "execution_count": null,
      "outputs": []
    }
  ],
  "metadata": {
    "colab": {
      "collapsed_sections": [
        "oS86FoObJncB",
        "T44ZXsXDUgOx",
        "sHYtuslLUgOy",
        "lH76ktbYUgO4",
        "dyrEhy1f8ZWr",
        "-7BU4T32w1nl",
        "ciaHF4VHxj2a",
        "KolvV6XavYWN",
        "5tNk1luZwD7F",
        "eFsrNj_hjYfm",
        "JjSTRSSXuQ8e",
        "PC3N0VX1ufx8",
        "ETUg0atLxayM",
        "v57SJ88SR_cN",
        "32qTsoqCSmJL",
        "k9rwPtdlj9cc",
        "yTOMIol7EL6A",
        "vPFwsKNvvZQn",
        "RegDNlflxcnP",
        "yTCcnPNmd2QF",
        "SvvK9_JNQxlw",
        "D_6s7Dc9EJKj",
        "6UdNaRJUfuU_",
        "ZfuJZFHCfuU_",
        "Kq7kI0rafuVA",
        "5-E8TWh2uAjR",
        "LFUFc-gIfuVB",
        "ZolaeKWsjP5U",
        "EWvjQgTxpHrM",
        "3wmwE9h5pWfi"
      ],
      "provenance": [],
      "include_colab_link": true
    },
    "kernelspec": {
      "display_name": "Python 3",
      "language": "python",
      "name": "python3"
    },
    "language_info": {
      "codemirror_mode": {
        "name": "ipython",
        "version": 3
      },
      "file_extension": ".py",
      "mimetype": "text/x-python",
      "name": "python",
      "nbconvert_exporter": "python",
      "pygments_lexer": "ipython3",
      "version": "3.10.11"
    }
  },
  "nbformat": 4,
  "nbformat_minor": 0
}